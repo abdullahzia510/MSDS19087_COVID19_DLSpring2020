{
 "cells": [
  {
   "cell_type": "markdown",
   "metadata": {
    "colab_type": "text",
    "id": "ZREfWgA_BOPB"
   },
   "source": [
    "# Assignment 5.2"
   ]
  },
  {
   "cell_type": "markdown",
   "metadata": {
    "colab_type": "text",
    "id": "mVIGJaFpn-Ox"
   },
   "source": [
    "### Importing Libraries"
   ]
  },
  {
   "cell_type": "code",
   "execution_count": 1,
   "metadata": {
    "colab": {
     "base_uri": "https://localhost:8080/",
     "height": 56
    },
    "colab_type": "code",
    "id": "-VgSdcp0A54k",
    "outputId": "b47c2d24-e711-4c1f-acbe-c591103b3d38"
   },
   "outputs": [
    {
     "name": "stderr",
     "output_type": "stream",
     "text": [
      "/usr/local/lib/python3.6/dist-packages/statsmodels/tools/_testing.py:19: FutureWarning: pandas.util.testing is deprecated. Use the functions in the public API at pandas.testing instead.\n",
      "  import pandas.util.testing as tm\n"
     ]
    }
   ],
   "source": [
    "from google.colab import drive\n",
    "import torch\n",
    "import torch.nn as nn\n",
    "import torch.optim as optim\n",
    "from torch.optim import lr_scheduler\n",
    "from torch.autograd import Variable\n",
    "import numpy as np\n",
    "import torchvision\n",
    "from torchvision import datasets, models, transforms\n",
    "import matplotlib.pyplot as plt\n",
    "import time\n",
    "import copy\n",
    "from tqdm import tqdm\n",
    "from sklearn.metrics import *\n",
    "import pandas as pd\n",
    "import seaborn as sns  \n",
    "import shutil\n",
    "import os\n",
    "import torch.nn.functional as F"
   ]
  },
  {
   "cell_type": "markdown",
   "metadata": {
    "colab_type": "text",
    "id": "mzRg4N88LFnj"
   },
   "source": [
    "### Retriving Data"
   ]
  },
  {
   "cell_type": "code",
   "execution_count": 2,
   "metadata": {
    "colab": {
     "base_uri": "https://localhost:8080/",
     "height": 37
    },
    "colab_type": "code",
    "id": "E8pBpB9ot-eI",
    "outputId": "28492e7d-9ad6-4bd5-f757-39239ac244d1"
   },
   "outputs": [
    {
     "name": "stdout",
     "output_type": "stream",
     "text": [
      "Drive already mounted at ./gdrive; to attempt to forcibly remount, call drive.mount(\"./gdrive\", force_remount=True).\n"
     ]
    }
   ],
   "source": [
    "# Loading data on colab server\n",
    "drive.mount(\"./gdrive\")\n",
    "!unzip \"./gdrive/My Drive/Copy of A_05_Part_02_Dataset.zip\"\n",
    "source = 'A_05_Part_02_Dataset/Test/'\n",
    "dest = 'A_05_Part_02_Dataset/Test/Unlabeled/'\n",
    "os.mkdir('A_05_Part_02_Dataset/Test/Unlabeled')\n",
    "files = os.listdir(source)\n",
    "for f in files:\n",
    "    shutil.move(source+f, dest)"
   ]
  },
  {
   "cell_type": "markdown",
   "metadata": {
    "colab_type": "text",
    "id": "MWhEUBCWoI-K"
   },
   "source": [
    "### Loading Data"
   ]
  },
  {
   "cell_type": "code",
   "execution_count": 3,
   "metadata": {
    "colab": {
     "base_uri": "https://localhost:8080/",
     "height": 684
    },
    "colab_type": "code",
    "id": "gHy8DbSkDr2A",
    "outputId": "34caa952-4083-4da1-c060-be4ae4221a55"
   },
   "outputs": [
    {
     "name": "stdout",
     "output_type": "stream",
     "text": [
      "Training and Validation Classes:  ['covid-19', 'normal', 'pneumonia']\n",
      "Test Classes:  ['Unlabeled']\n",
      "Dataset ImageFolder\n",
      "    Number of datapoints: 6200\n",
      "    Root location: A_05_Part_02_Dataset/Train\n",
      "    StandardTransform\n",
      "Transform: Compose(\n",
      "               Resize(size=256, interpolation=PIL.Image.BILINEAR)\n",
      "               CenterCrop(size=(224, 224))\n",
      "               RandomRotation(degrees=(-15, 15), resample=False, expand=False)\n",
      "               RandomHorizontalFlip(p=0.2)\n",
      "               ToTensor()\n",
      "               Normalize(mean=[0.518, 0.519, 0.519], std=[0.219, 0.219, 0.219])\n",
      "           )\n",
      "Dataset ImageFolder\n",
      "    Number of datapoints: 628\n",
      "    Root location: A_05_Part_02_Dataset/Validation\n",
      "    StandardTransform\n",
      "Transform: Compose(\n",
      "               Resize(size=256, interpolation=PIL.Image.BILINEAR)\n",
      "               CenterCrop(size=(224, 224))\n",
      "               ToTensor()\n",
      "               Normalize(mean=[0.518, 0.519, 0.519], std=[0.219, 0.219, 0.219])\n",
      "           )\n",
      "Dataset ImageFolder\n",
      "    Number of datapoints: 629\n",
      "    Root location: A_05_Part_02_Dataset/Test\n",
      "    StandardTransform\n",
      "Transform: Compose(\n",
      "               Resize(size=256, interpolation=PIL.Image.BILINEAR)\n",
      "               CenterCrop(size=(224, 224))\n",
      "               ToTensor()\n",
      "               Normalize(mean=[0.518, 0.519, 0.519], std=[0.219, 0.219, 0.219])\n",
      "           )\n"
     ]
    }
   ],
   "source": [
    "# directory where data is loaded\n",
    "data_dir = 'A_05_Part_02_Dataset'\n",
    "\n",
    "# trans\n",
    "# Adding data augmentation for better learning\n",
    "# I calculated the mean and std using code that is present in last cell of the notebook  \n",
    "train_transforms = transforms.Compose([transforms.Resize(256),\n",
    "                                       transforms.CenterCrop(224),\n",
    "                                       transforms.RandomRotation(15),\n",
    "                                       transforms.RandomHorizontalFlip(0.2),\n",
    "                                       transforms.ToTensor(),\n",
    "                                       transforms.Normalize([0.518, 0.519, 0.519],\n",
    "                                                            [0.219, 0.219, 0.219])])\n",
    "\n",
    "# transforming validation data \n",
    "validation_transforms = transforms.Compose([transforms.Resize(256),\n",
    "                                      transforms.CenterCrop(224),\n",
    "                                      transforms.ToTensor(),\n",
    "                                       transforms.Normalize([0.518, 0.519, 0.519],\n",
    "                                                            [0.219, 0.219, 0.219])])\n",
    "\n",
    "# transforming testing data\n",
    "test_transforms = transforms.Compose([transforms.Resize(256),\n",
    "                                      transforms.CenterCrop(224),\n",
    "                                      transforms.ToTensor(),\n",
    "                                       transforms.Normalize([0.518, 0.519, 0.519],\n",
    "                                                            [0.219, 0.219, 0.219])])\n",
    "\n",
    "# specifying train, test and validation data directories\n",
    "train_data = datasets.ImageFolder(data_dir + '/Train', transform=train_transforms)\n",
    "validation_data = datasets.ImageFolder(data_dir + '/Validation', transform=validation_transforms)\n",
    "test_data = datasets.ImageFolder(data_dir + '/Test', transform=test_transforms)\n",
    "\n",
    "# Loading Data\n",
    "# i am using 8 threads and batches of 50 images for each type of data for better performance \n",
    "trainloader = torch.utils.data.DataLoader(train_data, batch_size=20, shuffle=True, num_workers = 8)\n",
    "validationloader = torch.utils.data.DataLoader(validation_data, batch_size=20, shuffle=True,num_workers = 8)\n",
    "testloader = torch.utils.data.DataLoader(test_data, batch_size=20, shuffle=False, num_workers = 8)\n",
    "\n",
    "# Displaying Loaded data stats\n",
    "class_names = train_data.classes\n",
    "print(\"Training and Validation Classes: \",class_names)\n",
    "test_classes = test_data.classes\n",
    "print(\"Test Classes: \",test_classes)\n",
    "print(trainloader.dataset)\n",
    "print(validationloader.dataset)\n",
    "print(testloader.dataset)"
   ]
  },
  {
   "cell_type": "code",
   "execution_count": 51,
   "metadata": {
    "colab": {
     "base_uri": "https://localhost:8080/",
     "height": 56
    },
    "colab_type": "code",
    "id": "RguHNVI1AFdm",
    "outputId": "1be4091d-3c68-4586-a449-770d36d5706c"
   },
   "outputs": [
    {
     "name": "stdout",
     "output_type": "stream",
     "text": [
      "Training and Validation Classes:  ['covid-19', 'normal', 'pneumonia']\n",
      "Test Classes:  ['Unlabeled']\n"
     ]
    }
   ],
   "source": [
    "class_names = train_data.classes\n",
    "print(\"Training and Validation Classes: \",class_names)\n",
    "test_classes = test_data.classes\n",
    "print(\"Test Classes: \",test_classes)"
   ]
  },
  {
   "cell_type": "markdown",
   "metadata": {
    "colab_type": "text",
    "id": "nDhB7D42LBRp"
   },
   "source": [
    "### Getting Image Names"
   ]
  },
  {
   "cell_type": "code",
   "execution_count": 0,
   "metadata": {
    "colab": {},
    "colab_type": "code",
    "id": "P2qTWPQ7K5Pq"
   },
   "outputs": [],
   "source": [
    "image_names = [] \n",
    "for i in range (629):\n",
    "    # Getting image names\n",
    "    b = os.path.split(str(testloader.dataset.samples[i]))[1]  \n",
    "    f = os.path.splitext(b)[0] \n",
    "    image_names.append(f)"
   ]
  },
  {
   "cell_type": "markdown",
   "metadata": {
    "colab_type": "text",
    "id": "my9qKrDloiZS"
   },
   "source": [
    "### Displaying Images"
   ]
  },
  {
   "cell_type": "code",
   "execution_count": 0,
   "metadata": {
    "colab": {},
    "colab_type": "code",
    "id": "jdZlquZHFdR3"
   },
   "outputs": [],
   "source": [
    "# Creating function to show images\n",
    "def imshow(inp, title=None):\n",
    "    inp = inp.numpy().transpose((1, 2, 0))\n",
    "    plt.axis('off')\n",
    "    plt.imshow(inp)\n",
    "    if title is not None:\n",
    "        plt.title(title)\n",
    "    plt.pause(0.001)\n",
    "\n",
    "# creating grid to display batch of images \n",
    "def show_databatch(inputs, classes):\n",
    "    out = torchvision.utils.make_grid(inputs)\n",
    "    imshow(out, title=[str('  ')+class_names[x]+str('  ') for x in classes])"
   ]
  },
  {
   "cell_type": "code",
   "execution_count": 12,
   "metadata": {
    "colab": {
     "base_uri": "https://localhost:8080/",
     "height": 323
    },
    "colab_type": "code",
    "id": "BFy6Yjt3VdY9",
    "outputId": "ade87acc-6f61-48da-cbb4-96df98ca1eab"
   },
   "outputs": [
    {
     "name": "stdout",
     "output_type": "stream",
     "text": [
      "Training images with augmentation\n"
     ]
    },
    {
     "name": "stderr",
     "output_type": "stream",
     "text": [
      "Clipping input data to the valid range for imshow with RGB data ([0..1] for floats or [0..255] for integers).\n"
     ]
    },
    {
     "data": {
      "image/png": "[encoded data removed]",
      "text/plain": [
       "<Figure size 432x288 with 1 Axes>"
      ]
     },
     "metadata": {
      "needs_background": "light",
      "tags": []
     },
     "output_type": "display_data"
    },
    {
     "name": "stdout",
     "output_type": "stream",
     "text": [
      "Validation images without augmentation\n"
     ]
    },
    {
     "name": "stderr",
     "output_type": "stream",
     "text": [
      "Clipping input data to the valid range for imshow with RGB data ([0..1] for floats or [0..255] for integers).\n"
     ]
    },
    {
     "data": {
      "image/png": "[encoded data removed]",
      "text/plain": [
       "<Figure size 432x288 with 1 Axes>"
      ]
     },
     "metadata": {
      "needs_background": "light",
      "tags": []
     },
     "output_type": "display_data"
    }
   ],
   "source": [
    "# Get a batch of training data\n",
    "print('Training images with augmentation')\n",
    "inputs, classes = next(iter(trainloader))\n",
    "# displaying training images\n",
    "show_databatch(inputs[:4], classes[:4])\n",
    "\n",
    "# Get a batch of testing data\n",
    "print('Validation images without augmentation')\n",
    "inputs, classes = next(iter(validationloader))\n",
    "# displaying testing images\n",
    "show_databatch(inputs[:4], classes[:4])"
   ]
  },
  {
   "cell_type": "markdown",
   "metadata": {
    "colab_type": "text",
    "id": "iA_M0CLnLViY"
   },
   "source": [
    "### Onehot Encoding\n",
    " "
   ]
  },
  {
   "cell_type": "code",
   "execution_count": 0,
   "metadata": {
    "colab": {},
    "colab_type": "code",
    "id": "IOVPhTmtUPMV"
   },
   "outputs": [],
   "source": [
    "def onehot(label,order): # class labels order in data and in csv file is bit different  \n",
    "    labels = torch.zeros(len(label),3)\n",
    "    for i in range(len(label)):\n",
    "        if label[i] == order[0]:\n",
    "            labels[i] = torch.tensor([1,1,0])  # for covid-19 class\n",
    "        elif label[i] == order[1]:\n",
    "            labels[i] = torch.tensor([0,1,0])  # for pneumonia class\n",
    "        elif label[i] == order[2]:\n",
    "            labels[i] = torch.tensor([0,0,1])  # for normal class\n",
    "    return labels"
   ]
  },
  {
   "cell_type": "code",
   "execution_count": 14,
   "metadata": {
    "colab": {
     "base_uri": "https://localhost:8080/",
     "height": 409
    },
    "colab_type": "code",
    "id": "7xRlLCg6Jp9e",
    "outputId": "cfc1d11d-33af-4c7b-da74-dc1aa2c66c2d"
   },
   "outputs": [
    {
     "data": {
      "text/plain": [
       "tensor([[0., 0., 1.],\n",
       "        [0., 0., 1.],\n",
       "        [0., 1., 0.],\n",
       "        [0., 0., 1.],\n",
       "        [0., 0., 1.],\n",
       "        [0., 1., 0.],\n",
       "        [0., 0., 1.],\n",
       "        [0., 0., 1.],\n",
       "        [0., 0., 1.],\n",
       "        [0., 1., 0.],\n",
       "        [0., 0., 1.],\n",
       "        [0., 0., 1.],\n",
       "        [0., 0., 1.],\n",
       "        [0., 0., 1.],\n",
       "        [1., 1., 0.],\n",
       "        [0., 1., 0.],\n",
       "        [0., 1., 0.],\n",
       "        [0., 0., 1.],\n",
       "        [0., 1., 0.],\n",
       "        [1., 1., 0.]])"
      ]
     },
     "execution_count": 14,
     "metadata": {
      "tags": []
     },
     "output_type": "execute_result"
    }
   ],
   "source": [
    "onehot(classes,[0,2,1])"
   ]
  },
  {
   "cell_type": "markdown",
   "metadata": {
    "colab_type": "text",
    "id": "IjVoh4YKLcT6"
   },
   "source": [
    "### Enabling GPU\n",
    "#### Must rember that the model predicts well only on GPU so it is must to connect to GPU before executing following code"
   ]
  },
  {
   "cell_type": "code",
   "execution_count": 0,
   "metadata": {
    "colab": {},
    "colab_type": "code",
    "id": "n_q2CYMaY0JE"
   },
   "outputs": [],
   "source": [
    "# Utilizing GPU if available\n",
    "device = torch.device(\"cuda:0\" if torch.cuda.is_available() else \"cpu\")"
   ]
  },
  {
   "cell_type": "markdown",
   "metadata": {
    "colab_type": "text",
    "id": "CnaoEP1DJ_D4"
   },
   "source": [
    "### Training Function"
   ]
  },
  {
   "cell_type": "code",
   "execution_count": 0,
   "metadata": {
    "colab": {},
    "colab_type": "code",
    "id": "wMhPwcxDLdvX"
   },
   "outputs": [],
   "source": [
    "# creating a function to train training data in differement experiments using different structures and models \n",
    "def train_model(model, epochs, training_data, validation_data, optimizer, criterion, filename):\n",
    "    # Converting data to GPU processable form if available\n",
    "    model.to(device)\n",
    "    model.train()\n",
    "\n",
    "    # creating arrays to store stats\n",
    "    training_accuracy = []\n",
    "    validation_accuracy = []\n",
    "    training_loss = []\n",
    "    validation_loss = []\n",
    "\n",
    "    # Traing data\n",
    "    for epoch in range(epochs):  # loop over the dataset multiple times\n",
    "        # to show progress \n",
    "        pbar = tqdm(enumerate(training_data))\n",
    "        # getting each batch for training \n",
    "        for i, data in pbar:\n",
    "            # get the inputs\n",
    "            inputs, labels = data\n",
    "            labels = onehot(labels,[0,2,1])\n",
    "            inputs, labels = inputs.to(device), labels.to(device)\n",
    "            # zero the parameter gradients\n",
    "            optimizer.zero_grad()\n",
    "            # feedforward\n",
    "            outputs = model(inputs)\n",
    "            # computing loss              \n",
    "            loss = criterion(outputs, labels)\n",
    "            # backprpagation   \n",
    "            loss.backward() \n",
    "            # updating weights                    \n",
    "            optimizer.step()  \n",
    "\n",
    "            # displaying progess\n",
    "            pbar.set_description(\n",
    "                'Training Epoch: {}, Loss {},({:.0f}%)'.format(\n",
    "                    epoch+1,loss.item(), int((100. * i / len(training_data))+1)))\n",
    "        \n",
    "        # Displaying stats for current epoch\n",
    "        # calculating stats on training data for current epoch\n",
    "        print('\\nFor training data')\n",
    "        train_loss,train_accu,train_precision,train_recall,train_f1,train_confusion = scores(training_data,model,criterion)\n",
    "\n",
    "        # calculating stats on validation data for current epoch\n",
    "        print('\\nFor validation data')\n",
    "        valid_loss,valid_accu,valid_precision,valid_recall,valid_f1,valid_confusion = scores(validation_data,model,criterion)\n",
    "        \n",
    "        # storing stats in arrays to plot curves\n",
    "        training_accuracy.append(train_accu)\n",
    "        validation_accuracy.append(valid_accu)\n",
    "        training_loss.append(train_loss)\n",
    "        validation_loss.append(valid_loss)\n",
    "        print(\"\\nTraining Accuracy = \",train_accu, '\\nTraining Loss = ',train_loss, \"\\nValidation Accuracy = \",valid_accu, '\\nValidation Loss = ',valid_loss,\"\\n\")  \n",
    "    \n",
    "    # displaing final epoch's stats on training data\n",
    "    print('Final Stats:\\n')\n",
    "    train_stats = pd.DataFrame([train_loss,train_accu,train_precision,train_recall,train_f1],['Loss','Accuracy','Precision','Recall','F1_Score'],['Training Scores']).T\n",
    "    print(train_stats)\n",
    "    print()\n",
    "    \n",
    "    # displaing final epoch's stats on validaiton data\n",
    "    valid_stats = pd.DataFrame([valid_loss,valid_accu,valid_precision,valid_recall,valid_f1],['Loss','Accuracy','Precision','Recall','F1_Score'],['Validation Scores']).T\n",
    "    print(valid_stats)\n",
    "    print()\n",
    "\n",
    "    # displaying confusion matrix for training data\n",
    "    sns.heatmap(train_confusion, annot=True, fmt='g', cbar=False)\n",
    "    plt.xlabel('Predicted Labels')\n",
    "    plt.ylabel('Actual Labels')\n",
    "    plt.title('Confusion Matrix for Training Data')\n",
    "    plt.ylim(reversed(plt.ylim()))\n",
    "    plt.show()\n",
    "    print()\n",
    "\n",
    "    # displaying confusion matrix for validation data\n",
    "    sns.heatmap(valid_confusion, annot=True, fmt='g', cbar=False)\n",
    "    plt.title('Confusion Matrix for Validation Data')\n",
    "    plt.xlabel('Predicted Labels')\n",
    "    plt.ylabel('Actual Labels')\n",
    "    plt.ylim(reversed(plt.ylim()))\n",
    "    plt.show()\n",
    "    print()\n",
    "\n",
    "    # plotting cross entropy loss on training and validation data\n",
    "    plt.title('Loss Curve')\n",
    "    plt.plot(range(epochs),training_loss, label= 'Training Data')\n",
    "    plt.plot(range(epochs),validation_loss,label='Validation Data')\n",
    "    plt.legend()\n",
    "    plt.show()  \n",
    "    print()\n",
    "        \n",
    "    # plotting accuracy for training and validation data\n",
    "    plt.title('Accuracy Curve')\n",
    "    plt.plot(range(epochs),training_accuracy,label= 'Training Data')\n",
    "    plt.plot(range(epochs),validation_accuracy,label= 'Validation Data')\n",
    "    plt.legend()\n",
    "    plt.show()\n",
    "    \n",
    "    # saving the model\n",
    "    torch.save(model.state_dict(), filename)\n",
    "    "
   ]
  },
  {
   "cell_type": "markdown",
   "metadata": {
    "colab_type": "text",
    "id": "SxxF6LzifAA3"
   },
   "source": [
    "### Calculating Scores"
   ]
  },
  {
   "cell_type": "code",
   "execution_count": 0,
   "metadata": {
    "colab": {},
    "colab_type": "code",
    "id": "WEkztiYiTT6H"
   },
   "outputs": [],
   "source": [
    "def scores(dataset,model,criterion):\n",
    "    loss = 0\n",
    "    predicted = []\n",
    "    true_labels = []\n",
    "    model.to(device)\n",
    "    \n",
    "    # getting prediction made by the model \n",
    "    with torch.no_grad():\n",
    "        # to display progess\n",
    "        pbar = tqdm(enumerate(dataset))\n",
    "        # getting each batch \n",
    "        for i, data in pbar:\n",
    "            # get the inputs\n",
    "            inputs, labels = data\n",
    "            labels = onehot(labels,[0,2,1])\n",
    "            inputs, labels = inputs.to(device), labels.to(device)\n",
    "            outputs = model(inputs)\n",
    "            loss += criterion(outputs, labels).item()\n",
    "            _,labels = torch.max(labels,1) \n",
    "            _,pred = torch.max(torch.round(torch.sigmoid(outputs)),1)\n",
    "            # print('\\n',a,'\\n',pred)\n",
    "            predicted.extend(pred.tolist())\n",
    "            # storing actutal labels in list\n",
    "            true_labels.extend(labels.tolist())\n",
    "\n",
    "            # displaying progress\n",
    "            pbar.set_description(\n",
    "                'Calculating Accuracy and Loss: ({:.0f}%)'.format(\n",
    "                    int((100. * i / len(dataset))+1)))\n",
    "    \n",
    "    # calculating loss on whole data\n",
    "    total_loss = loss/len(dataset)\n",
    "    # calculating accurate predictions of model on whole data\n",
    "    accuracy = accuracy_score(true_labels,predicted)*100\n",
    "    # calculating recall\n",
    "    recall = recall_score(true_labels,predicted,average='weighted')*100\n",
    "    # # calculating precision\n",
    "    precision = precision_score(true_labels,predicted,average='weighted')*100\n",
    "    # calculating F1_Score\n",
    "    f1 = f1_score(true_labels,predicted,average='weighted')*100\n",
    "    # making confusion matrix\n",
    "    confusion = pd.DataFrame(confusion_matrix(true_labels,predicted),['Covid-19','Pneumonia','Normal'],['Covid-19','Pneumonia','Normal'])\n",
    "    return total_loss,accuracy,precision,recall,f1,confusion"
   ]
  },
  {
   "cell_type": "markdown",
   "metadata": {
    "colab_type": "text",
    "id": "UKyivrmbIW6B"
   },
   "source": [
    "### Focal Loss"
   ]
  },
  {
   "cell_type": "code",
   "execution_count": 0,
   "metadata": {
    "colab": {},
    "colab_type": "code",
    "id": "K956nzv-IVSW"
   },
   "outputs": [],
   "source": [
    "def Focal_Loss(inputs, targets, alpha = 0.25, gamma = 2):\n",
    "    # flatening one hot matrix for target and predicted labels \n",
    "    # in this way we can compare if each class is predicted correctly or not\n",
    "    inputs = inputs.view(-1)\n",
    "    targets = targets.view(-1)\n",
    "    \n",
    "    # Applying sigmoid non linearity on predicted labels\n",
    "    pred_prob = torch.sigmoid(inputs)\n",
    "    \n",
    "    # Calculating probability of each class\n",
    "    # here log(prob) is BCE\n",
    "    prob = (targets * pred_prob) + ((1 - targets) * (1 - pred_prob))\n",
    "\n",
    "    # Calculating value of alpha for each class\n",
    "    alpha = targets * alpha + (1 - targets) * (1 - alpha)\n",
    "    \n",
    "    # Calculating focal loss\n",
    "    # formula for focal loss is as following\n",
    "    # focal loss(t) = - alpha(t) * (1-prob(t))^gamma * log(prob(t)) \n",
    "    focal_loss = - alpha * torch.pow((1 - prob), gamma) * torch.log(prob) \n",
    "    \n",
    "    # returning focal loss\n",
    "    return torch.sum(focal_loss)"
   ]
  },
  {
   "cell_type": "markdown",
   "metadata": {
    "colab_type": "text",
    "id": "-801mmBIv338"
   },
   "source": [
    "### Predicting unlabeled test images"
   ]
  },
  {
   "cell_type": "code",
   "execution_count": 0,
   "metadata": {
    "colab": {},
    "colab_type": "code",
    "id": "XOGpfpVagBnc"
   },
   "outputs": [],
   "source": [
    "# This function is used to classify test images \n",
    "# Here we do not have labeled data \n",
    "def predict_images(dataset,model):\n",
    "    predicted = []\n",
    "    true_labels = []\n",
    "    model.to(device)\n",
    "    \n",
    "    with torch.no_grad():\n",
    "        pbar = tqdm(enumerate(dataset))\n",
    "        for i, data in pbar:\n",
    "            inputs, labels = data\n",
    "            labels = onehot(labels,[0,2,1])\n",
    "            inputs, labels = inputs.to(device), labels.to(device)\n",
    "            outputs = model(inputs)\n",
    "            _,labels = torch.max(labels,1) \n",
    "            _,pred = torch.max(torch.round(torch.sigmoid(outputs)),1)\n",
    "            # print('\\n',a,'\\n',pred)\n",
    "            predicted.extend(pred.tolist())\n",
    "            # storing actutal labels in list\n",
    "            true_labels.extend(labels.tolist())\n",
    "\n",
    "            pbar.set_description(\n",
    "                'Predicting Images: ({:.0f}%)'.format(\n",
    "                    int((100. * i / len(dataset))+1)))\n",
    "            \n",
    "    return true_labels, predicted"
   ]
  },
  {
   "cell_type": "markdown",
   "metadata": {
    "colab_type": "text",
    "id": "YC_idhcZn26K"
   },
   "source": [
    "## Task 1"
   ]
  },
  {
   "cell_type": "markdown",
   "metadata": {
    "colab_type": "text",
    "id": "DrXjf7zMb0aY"
   },
   "source": [
    "### VGG-16"
   ]
  },
  {
   "cell_type": "markdown",
   "metadata": {
    "colab_type": "text",
    "id": "ps_fBj8uPXm7"
   },
   "source": [
    "#### Loading Model"
   ]
  },
  {
   "cell_type": "code",
   "execution_count": 20,
   "metadata": {
    "colab": {
     "base_uri": "https://localhost:8080/",
     "height": 841
    },
    "colab_type": "code",
    "id": "rshKNCcfgu2H",
    "outputId": "1c156029-4c0b-4ac8-f8d8-f74d3d6b0556"
   },
   "outputs": [
    {
     "name": "stdout",
     "output_type": "stream",
     "text": [
      "VGG(\n",
      "  (features): Sequential(\n",
      "    (0): Conv2d(3, 64, kernel_size=(3, 3), stride=(1, 1), padding=(1, 1))\n",
      "    (1): ReLU(inplace=True)\n",
      "    (2): Conv2d(64, 64, kernel_size=(3, 3), stride=(1, 1), padding=(1, 1))\n",
      "    (3): ReLU(inplace=True)\n",
      "    (4): MaxPool2d(kernel_size=2, stride=2, padding=0, dilation=1, ceil_mode=False)\n",
      "    (5): Conv2d(64, 128, kernel_size=(3, 3), stride=(1, 1), padding=(1, 1))\n",
      "    (6): ReLU(inplace=True)\n",
      "    (7): Conv2d(128, 128, kernel_size=(3, 3), stride=(1, 1), padding=(1, 1))\n",
      "    (8): ReLU(inplace=True)\n",
      "    (9): MaxPool2d(kernel_size=2, stride=2, padding=0, dilation=1, ceil_mode=False)\n",
      "    (10): Conv2d(128, 256, kernel_size=(3, 3), stride=(1, 1), padding=(1, 1))\n",
      "    (11): ReLU(inplace=True)\n",
      "    (12): Conv2d(256, 256, kernel_size=(3, 3), stride=(1, 1), padding=(1, 1))\n",
      "    (13): ReLU(inplace=True)\n",
      "    (14): Conv2d(256, 256, kernel_size=(3, 3), stride=(1, 1), padding=(1, 1))\n",
      "    (15): ReLU(inplace=True)\n",
      "    (16): MaxPool2d(kernel_size=2, stride=2, padding=0, dilation=1, ceil_mode=False)\n",
      "    (17): Conv2d(256, 512, kernel_size=(3, 3), stride=(1, 1), padding=(1, 1))\n",
      "    (18): ReLU(inplace=True)\n",
      "    (19): Conv2d(512, 512, kernel_size=(3, 3), stride=(1, 1), padding=(1, 1))\n",
      "    (20): ReLU(inplace=True)\n",
      "    (21): Conv2d(512, 512, kernel_size=(3, 3), stride=(1, 1), padding=(1, 1))\n",
      "    (22): ReLU(inplace=True)\n",
      "    (23): MaxPool2d(kernel_size=2, stride=2, padding=0, dilation=1, ceil_mode=False)\n",
      "    (24): Conv2d(512, 512, kernel_size=(3, 3), stride=(1, 1), padding=(1, 1))\n",
      "    (25): ReLU(inplace=True)\n",
      "    (26): Conv2d(512, 512, kernel_size=(3, 3), stride=(1, 1), padding=(1, 1))\n",
      "    (27): ReLU(inplace=True)\n",
      "    (28): Conv2d(512, 512, kernel_size=(3, 3), stride=(1, 1), padding=(1, 1))\n",
      "    (29): ReLU(inplace=True)\n",
      "    (30): MaxPool2d(kernel_size=2, stride=2, padding=0, dilation=1, ceil_mode=False)\n",
      "  )\n",
      "  (avgpool): AdaptiveAvgPool2d(output_size=(7, 7))\n",
      "  (classifier): Sequential(\n",
      "    (0): Linear(in_features=25088, out_features=1024, bias=True)\n",
      "    (1): ReLU(inplace=True)\n",
      "    (2): Dropout(p=0.5, inplace=False)\n",
      "    (3): Linear(in_features=1024, out_features=3, bias=True)\n",
      "  )\n",
      ")\n"
     ]
    }
   ],
   "source": [
    "# Loading VGG-16 pretrained model  \n",
    "vgg16 = models.vgg16(pretrained=True)\n",
    "# Replacing predefined FC layers with desired layers\n",
    "features = []\n",
    "num_features =  1024\n",
    "# as we have 3 classes\n",
    "num_classes = 3\n",
    "features.extend([nn.Linear(25088, num_features)])\n",
    "features.extend([nn.ReLU(inplace=True)])\n",
    "features.extend([nn.Dropout()])\n",
    "features.extend([nn.Linear(num_features, num_classes)])\n",
    "vgg16.classifier = nn.Sequential(*features)\n",
    "print(vgg16)"
   ]
  },
  {
   "cell_type": "markdown",
   "metadata": {
    "colab_type": "text",
    "id": "a8oWaFFAPblO"
   },
   "source": [
    "#### Training Model"
   ]
  },
  {
   "cell_type": "code",
   "execution_count": 0,
   "metadata": {
    "colab": {
     "base_uri": "https://localhost:8080/",
     "height": 1000
    },
    "colab_type": "code",
    "id": "AHohEalAgu-1",
    "outputId": "cc2559a6-a6b6-467d-8278-2c6d82e723b0"
   },
   "outputs": [
    {
     "name": "stderr",
     "output_type": "stream",
     "text": [
      "Training Epoch: 1, Loss 0.20639678835868835,(100%): : 310it [03:46,  1.37it/s]"
     ]
    },
    {
     "name": "stdout",
     "output_type": "stream",
     "text": [
      "\n",
      "For training data\n"
     ]
    },
    {
     "name": "stderr",
     "output_type": "stream",
     "text": [
      "\n",
      "Calculating Accuracy and Loss: (100%): : 310it [01:58,  2.61it/s]\n"
     ]
    },
    {
     "name": "stdout",
     "output_type": "stream",
     "text": [
      "\n",
      "For validation data\n"
     ]
    },
    {
     "name": "stderr",
     "output_type": "stream",
     "text": [
      "Calculating Accuracy and Loss: (97%): : 32it [00:13,  2.45it/s]"
     ]
    },
    {
     "name": "stdout",
     "output_type": "stream",
     "text": [
      "\n",
      "Training Accuracy =  88.29032258064517 \n",
      "Training Loss =  0.2109631914405092 \n",
      "Validation Accuracy =  85.50955414012739 \n",
      "Validation Loss =  0.30227852013194934 \n",
      "\n"
     ]
    },
    {
     "name": "stderr",
     "output_type": "stream",
     "text": [
      "\n",
      "Training Epoch: 2, Loss 0.056986529380083084,(100%): : 310it [03:47,  1.36it/s]"
     ]
    },
    {
     "name": "stdout",
     "output_type": "stream",
     "text": [
      "\n",
      "For training data\n"
     ]
    },
    {
     "name": "stderr",
     "output_type": "stream",
     "text": [
      "\n",
      "Calculating Accuracy and Loss: (100%): : 310it [01:56,  2.67it/s]"
     ]
    },
    {
     "name": "stdout",
     "output_type": "stream",
     "text": [
      "\n",
      "For validation data\n"
     ]
    },
    {
     "name": "stderr",
     "output_type": "stream",
     "text": [
      "\n",
      "Calculating Accuracy and Loss: (97%): : 32it [00:13,  2.40it/s]"
     ]
    },
    {
     "name": "stdout",
     "output_type": "stream",
     "text": [
      "\n",
      "Training Accuracy =  91.2258064516129 \n",
      "Training Loss =  0.15115910412803774 \n",
      "Validation Accuracy =  88.85350318471338 \n",
      "Validation Loss =  0.1847891405923292 \n",
      "\n"
     ]
    },
    {
     "name": "stderr",
     "output_type": "stream",
     "text": [
      "\n",
      "Training Epoch: 3, Loss 0.017073115333914757,(100%): : 310it [03:47,  1.37it/s]"
     ]
    },
    {
     "name": "stdout",
     "output_type": "stream",
     "text": [
      "\n",
      "For training data\n"
     ]
    },
    {
     "name": "stderr",
     "output_type": "stream",
     "text": [
      "\n",
      "Calculating Accuracy and Loss: (100%): : 310it [01:55,  2.69it/s]"
     ]
    },
    {
     "name": "stdout",
     "output_type": "stream",
     "text": [
      "\n",
      "For validation data\n"
     ]
    },
    {
     "name": "stderr",
     "output_type": "stream",
     "text": [
      "\n",
      "Calculating Accuracy and Loss: (97%): : 32it [00:13,  2.39it/s]"
     ]
    },
    {
     "name": "stdout",
     "output_type": "stream",
     "text": [
      "\n",
      "Training Accuracy =  93.30645161290323 \n",
      "Training Loss =  0.11539802399253653 \n",
      "Validation Accuracy =  91.56050955414013 \n",
      "Validation Loss =  0.14664965478004888 \n",
      "\n"
     ]
    },
    {
     "name": "stderr",
     "output_type": "stream",
     "text": [
      "\n",
      "Training Epoch: 4, Loss 0.06269417703151703,(100%): : 310it [03:46,  1.37it/s]"
     ]
    },
    {
     "name": "stdout",
     "output_type": "stream",
     "text": [
      "\n",
      "For training data\n"
     ]
    },
    {
     "name": "stderr",
     "output_type": "stream",
     "text": [
      "\n",
      "Calculating Accuracy and Loss: (100%): : 310it [01:57,  2.64it/s]"
     ]
    },
    {
     "name": "stdout",
     "output_type": "stream",
     "text": [
      "\n",
      "For validation data\n"
     ]
    },
    {
     "name": "stderr",
     "output_type": "stream",
     "text": [
      "\n",
      "Calculating Accuracy and Loss: (97%): : 32it [00:13,  2.37it/s]"
     ]
    },
    {
     "name": "stdout",
     "output_type": "stream",
     "text": [
      "\n",
      "Training Accuracy =  93.03225806451613 \n",
      "Training Loss =  0.1133526046069399 \n",
      "Validation Accuracy =  92.03821656050955 \n",
      "Validation Loss =  0.13560984656214714 \n",
      "\n"
     ]
    },
    {
     "name": "stderr",
     "output_type": "stream",
     "text": [
      "\n",
      "Training Epoch: 5, Loss 0.044589824974536896,(100%): : 310it [03:46,  1.37it/s]"
     ]
    },
    {
     "name": "stdout",
     "output_type": "stream",
     "text": [
      "\n",
      "For training data\n"
     ]
    },
    {
     "name": "stderr",
     "output_type": "stream",
     "text": [
      "\n",
      "Calculating Accuracy and Loss: (100%): : 310it [01:54,  2.70it/s]"
     ]
    },
    {
     "name": "stdout",
     "output_type": "stream",
     "text": [
      "\n",
      "For validation data\n"
     ]
    },
    {
     "name": "stderr",
     "output_type": "stream",
     "text": [
      "\n",
      "Calculating Accuracy and Loss: (97%): : 32it [00:13,  2.37it/s]"
     ]
    },
    {
     "name": "stdout",
     "output_type": "stream",
     "text": [
      "\n",
      "Training Accuracy =  94.14516129032258 \n",
      "Training Loss =  0.10016632329432233 \n",
      "Validation Accuracy =  92.51592356687898 \n",
      "Validation Loss =  0.1251393345883116 \n",
      "\n"
     ]
    },
    {
     "name": "stderr",
     "output_type": "stream",
     "text": [
      "\n",
      "Training Epoch: 6, Loss 0.07331420481204987,(100%): : 310it [03:47,  1.36it/s]"
     ]
    },
    {
     "name": "stdout",
     "output_type": "stream",
     "text": [
      "\n",
      "For training data\n"
     ]
    },
    {
     "name": "stderr",
     "output_type": "stream",
     "text": [
      "\n",
      "Calculating Accuracy and Loss: (100%): : 310it [01:56,  2.66it/s]"
     ]
    },
    {
     "name": "stdout",
     "output_type": "stream",
     "text": [
      "\n",
      "For validation data\n"
     ]
    },
    {
     "name": "stderr",
     "output_type": "stream",
     "text": [
      "\n",
      "Calculating Accuracy and Loss: (97%): : 32it [00:13,  2.36it/s]"
     ]
    },
    {
     "name": "stdout",
     "output_type": "stream",
     "text": [
      "\n",
      "Training Accuracy =  94.9032258064516 \n",
      "Training Loss =  0.08904773838247262 \n",
      "Validation Accuracy =  93.47133757961782 \n",
      "Validation Loss =  0.12936903029913083 \n",
      "\n"
     ]
    },
    {
     "name": "stderr",
     "output_type": "stream",
     "text": [
      "\n",
      "Training Epoch: 7, Loss 0.0599796287715435,(100%): : 310it [03:46,  1.37it/s]"
     ]
    },
    {
     "name": "stdout",
     "output_type": "stream",
     "text": [
      "\n",
      "For training data\n"
     ]
    },
    {
     "name": "stderr",
     "output_type": "stream",
     "text": [
      "\n",
      "Calculating Accuracy and Loss: (100%): : 310it [01:55,  2.69it/s]"
     ]
    },
    {
     "name": "stdout",
     "output_type": "stream",
     "text": [
      "\n",
      "For validation data\n"
     ]
    },
    {
     "name": "stderr",
     "output_type": "stream",
     "text": [
      "\n",
      "Calculating Accuracy and Loss: (97%): : 32it [00:13,  2.36it/s]"
     ]
    },
    {
     "name": "stdout",
     "output_type": "stream",
     "text": [
      "\n",
      "Training Accuracy =  95.09677419354838 \n",
      "Training Loss =  0.09145775105684034 \n",
      "Validation Accuracy =  94.10828025477707 \n",
      "Validation Loss =  0.11677041638176888 \n",
      "\n"
     ]
    },
    {
     "name": "stderr",
     "output_type": "stream",
     "text": [
      "\n",
      "Training Epoch: 8, Loss 0.1228761151432991,(100%): : 310it [03:46,  1.37it/s]"
     ]
    },
    {
     "name": "stdout",
     "output_type": "stream",
     "text": [
      "\n",
      "For training data\n"
     ]
    },
    {
     "name": "stderr",
     "output_type": "stream",
     "text": [
      "\n",
      "Calculating Accuracy and Loss: (100%): : 310it [01:58,  2.61it/s]"
     ]
    },
    {
     "name": "stdout",
     "output_type": "stream",
     "text": [
      "\n",
      "For validation data\n"
     ]
    },
    {
     "name": "stderr",
     "output_type": "stream",
     "text": [
      "\n",
      "Calculating Accuracy and Loss: (97%): : 32it [00:13,  2.30it/s]"
     ]
    },
    {
     "name": "stdout",
     "output_type": "stream",
     "text": [
      "\n",
      "Training Accuracy =  95.29032258064515 \n",
      "Training Loss =  0.08494657385012795 \n",
      "Validation Accuracy =  93.78980891719745 \n",
      "Validation Loss =  0.11714935686904937 \n",
      "\n"
     ]
    },
    {
     "name": "stderr",
     "output_type": "stream",
     "text": [
      "\n",
      "Training Epoch: 9, Loss 0.019810723140835762,(100%): : 310it [03:46,  1.37it/s]"
     ]
    },
    {
     "name": "stdout",
     "output_type": "stream",
     "text": [
      "\n",
      "For training data\n"
     ]
    },
    {
     "name": "stderr",
     "output_type": "stream",
     "text": [
      "\n",
      "Calculating Accuracy and Loss: (100%): : 310it [01:58,  2.63it/s]\n"
     ]
    },
    {
     "name": "stdout",
     "output_type": "stream",
     "text": [
      "\n",
      "For validation data\n"
     ]
    },
    {
     "name": "stderr",
     "output_type": "stream",
     "text": [
      "Calculating Accuracy and Loss: (97%): : 32it [00:13,  2.30it/s]"
     ]
    },
    {
     "name": "stdout",
     "output_type": "stream",
     "text": [
      "\n",
      "Training Accuracy =  95.53225806451613 \n",
      "Training Loss =  0.07474027284976816 \n",
      "Validation Accuracy =  94.90445859872611 \n",
      "Validation Loss =  0.10078995887306519 \n",
      "\n"
     ]
    },
    {
     "name": "stderr",
     "output_type": "stream",
     "text": [
      "\n",
      "Training Epoch: 10, Loss 0.02129281871020794,(100%): : 310it [03:46,  1.37it/s]"
     ]
    },
    {
     "name": "stdout",
     "output_type": "stream",
     "text": [
      "\n",
      "For training data\n"
     ]
    },
    {
     "name": "stderr",
     "output_type": "stream",
     "text": [
      "\n",
      "Calculating Accuracy and Loss: (100%): : 310it [01:56,  2.66it/s]"
     ]
    },
    {
     "name": "stdout",
     "output_type": "stream",
     "text": [
      "\n",
      "For validation data\n"
     ]
    },
    {
     "name": "stderr",
     "output_type": "stream",
     "text": [
      "\n",
      "Calculating Accuracy and Loss: (97%): : 32it [00:13,  2.32it/s]"
     ]
    },
    {
     "name": "stdout",
     "output_type": "stream",
     "text": [
      "\n",
      "Training Accuracy =  96.53225806451613 \n",
      "Training Loss =  0.06226327595556335 \n",
      "Validation Accuracy =  94.26751592356688 \n",
      "Validation Loss =  0.11350133451924194 \n",
      "\n"
     ]
    },
    {
     "name": "stderr",
     "output_type": "stream",
     "text": [
      "\n",
      "Training Epoch: 11, Loss 0.13127195835113525,(100%): : 310it [03:46,  1.37it/s]"
     ]
    },
    {
     "name": "stdout",
     "output_type": "stream",
     "text": [
      "\n",
      "For training data\n"
     ]
    },
    {
     "name": "stderr",
     "output_type": "stream",
     "text": [
      "\n",
      "Calculating Accuracy and Loss: (100%): : 310it [01:58,  2.62it/s]"
     ]
    },
    {
     "name": "stdout",
     "output_type": "stream",
     "text": [
      "\n",
      "For validation data\n"
     ]
    },
    {
     "name": "stderr",
     "output_type": "stream",
     "text": [
      "\n",
      "Calculating Accuracy and Loss: (97%): : 32it [00:13,  2.38it/s]"
     ]
    },
    {
     "name": "stdout",
     "output_type": "stream",
     "text": [
      "\n",
      "Training Accuracy =  94.2258064516129 \n",
      "Training Loss =  0.09341100356691788 \n",
      "Validation Accuracy =  91.56050955414013 \n",
      "Validation Loss =  0.16147879490745254 \n",
      "\n"
     ]
    },
    {
     "name": "stderr",
     "output_type": "stream",
     "text": [
      "\n",
      "Training Epoch: 12, Loss 0.05846838280558586,(100%): : 310it [03:46,  1.37it/s]"
     ]
    },
    {
     "name": "stdout",
     "output_type": "stream",
     "text": [
      "\n",
      "For training data\n"
     ]
    },
    {
     "name": "stderr",
     "output_type": "stream",
     "text": [
      "\n",
      "Calculating Accuracy and Loss: (100%): : 310it [01:58,  2.63it/s]"
     ]
    },
    {
     "name": "stdout",
     "output_type": "stream",
     "text": [
      "\n",
      "For validation data\n"
     ]
    },
    {
     "name": "stderr",
     "output_type": "stream",
     "text": [
      "\n",
      "Calculating Accuracy and Loss: (97%): : 32it [00:13,  2.38it/s]"
     ]
    },
    {
     "name": "stdout",
     "output_type": "stream",
     "text": [
      "\n",
      "Training Accuracy =  96.30645161290322 \n",
      "Training Loss =  0.06560466407287506 \n",
      "Validation Accuracy =  94.42675159235668 \n",
      "Validation Loss =  0.12214823537215125 \n",
      "\n"
     ]
    },
    {
     "name": "stderr",
     "output_type": "stream",
     "text": [
      "\n",
      "Training Epoch: 13, Loss 0.06491944938898087,(100%): : 310it [03:46,  1.37it/s]"
     ]
    },
    {
     "name": "stdout",
     "output_type": "stream",
     "text": [
      "\n",
      "For training data\n"
     ]
    },
    {
     "name": "stderr",
     "output_type": "stream",
     "text": [
      "\n",
      "Calculating Accuracy and Loss: (100%): : 310it [01:57,  2.64it/s]\n"
     ]
    },
    {
     "name": "stdout",
     "output_type": "stream",
     "text": [
      "\n",
      "For validation data\n"
     ]
    },
    {
     "name": "stderr",
     "output_type": "stream",
     "text": [
      "Calculating Accuracy and Loss: (97%): : 32it [00:13,  2.43it/s]"
     ]
    },
    {
     "name": "stdout",
     "output_type": "stream",
     "text": [
      "\n",
      "Training Accuracy =  95.12903225806451 \n",
      "Training Loss =  0.0842730879723545 \n",
      "Validation Accuracy =  92.35668789808918 \n",
      "Validation Loss =  0.1327324739540927 \n",
      "\n"
     ]
    },
    {
     "name": "stderr",
     "output_type": "stream",
     "text": [
      "\n",
      "Training Epoch: 14, Loss 0.08969082683324814,(100%): : 310it [03:46,  1.37it/s]"
     ]
    },
    {
     "name": "stdout",
     "output_type": "stream",
     "text": [
      "\n",
      "For training data\n"
     ]
    },
    {
     "name": "stderr",
     "output_type": "stream",
     "text": [
      "\n",
      "Calculating Accuracy and Loss: (100%): : 310it [01:59,  2.59it/s]"
     ]
    },
    {
     "name": "stdout",
     "output_type": "stream",
     "text": [
      "\n",
      "For validation data\n"
     ]
    },
    {
     "name": "stderr",
     "output_type": "stream",
     "text": [
      "\n",
      "Calculating Accuracy and Loss: (97%): : 32it [00:13,  2.29it/s]"
     ]
    },
    {
     "name": "stdout",
     "output_type": "stream",
     "text": [
      "\n",
      "Training Accuracy =  95.96774193548387 \n",
      "Training Loss =  0.06681565410577722 \n",
      "Validation Accuracy =  93.94904458598727 \n",
      "Validation Loss =  0.12779247378057335 \n",
      "\n"
     ]
    },
    {
     "name": "stderr",
     "output_type": "stream",
     "text": [
      "\n",
      "Training Epoch: 15, Loss 0.005005658604204655,(100%): : 310it [03:47,  1.36it/s]"
     ]
    },
    {
     "name": "stdout",
     "output_type": "stream",
     "text": [
      "\n",
      "For training data\n"
     ]
    },
    {
     "name": "stderr",
     "output_type": "stream",
     "text": [
      "\n",
      "Calculating Accuracy and Loss: (100%): : 310it [01:58,  2.61it/s]\n"
     ]
    },
    {
     "name": "stdout",
     "output_type": "stream",
     "text": [
      "\n",
      "For validation data\n"
     ]
    },
    {
     "name": "stderr",
     "output_type": "stream",
     "text": [
      "Calculating Accuracy and Loss: (97%): : 32it [00:14,  2.26it/s]"
     ]
    },
    {
     "name": "stdout",
     "output_type": "stream",
     "text": [
      "\n",
      "Training Accuracy =  97.38709677419355 \n",
      "Training Loss =  0.04627124457695191 \n",
      "Validation Accuracy =  94.42675159235668 \n",
      "Validation Loss =  0.13272191365103936 \n",
      "\n"
     ]
    },
    {
     "name": "stderr",
     "output_type": "stream",
     "text": [
      "\n",
      "Training Epoch: 16, Loss 0.01852872036397457,(100%): : 310it [03:47,  1.36it/s]"
     ]
    },
    {
     "name": "stdout",
     "output_type": "stream",
     "text": [
      "\n",
      "For training data\n"
     ]
    },
    {
     "name": "stderr",
     "output_type": "stream",
     "text": [
      "\n",
      "Calculating Accuracy and Loss: (100%): : 310it [01:57,  2.65it/s]\n"
     ]
    },
    {
     "name": "stdout",
     "output_type": "stream",
     "text": [
      "\n",
      "For validation data\n"
     ]
    },
    {
     "name": "stderr",
     "output_type": "stream",
     "text": [
      "Calculating Accuracy and Loss: (97%): : 32it [00:13,  2.41it/s]"
     ]
    },
    {
     "name": "stdout",
     "output_type": "stream",
     "text": [
      "\n",
      "Training Accuracy =  97.79032258064517 \n",
      "Training Loss =  0.04141739409439446 \n",
      "Validation Accuracy =  94.42675159235668 \n",
      "Validation Loss =  0.10167185198224615 \n",
      "\n"
     ]
    },
    {
     "name": "stderr",
     "output_type": "stream",
     "text": [
      "\n",
      "Training Epoch: 17, Loss 0.03470199555158615,(100%): : 310it [03:47,  1.37it/s]"
     ]
    },
    {
     "name": "stdout",
     "output_type": "stream",
     "text": [
      "\n",
      "For training data\n"
     ]
    },
    {
     "name": "stderr",
     "output_type": "stream",
     "text": [
      "\n",
      "Calculating Accuracy and Loss: (100%): : 310it [01:58,  2.62it/s]"
     ]
    },
    {
     "name": "stdout",
     "output_type": "stream",
     "text": [
      "\n",
      "For validation data\n"
     ]
    },
    {
     "name": "stderr",
     "output_type": "stream",
     "text": [
      "\n",
      "Calculating Accuracy and Loss: (97%): : 32it [00:13,  2.35it/s]"
     ]
    },
    {
     "name": "stdout",
     "output_type": "stream",
     "text": [
      "\n",
      "Training Accuracy =  97.79032258064517 \n",
      "Training Loss =  0.049834489754791704 \n",
      "Validation Accuracy =  94.26751592356688 \n",
      "Validation Loss =  0.12084220146061853 \n",
      "\n"
     ]
    },
    {
     "name": "stderr",
     "output_type": "stream",
     "text": [
      "\n",
      "Training Epoch: 18, Loss 0.09563513100147247,(100%): : 310it [03:47,  1.37it/s]"
     ]
    },
    {
     "name": "stdout",
     "output_type": "stream",
     "text": [
      "\n",
      "For training data\n"
     ]
    },
    {
     "name": "stderr",
     "output_type": "stream",
     "text": [
      "\n",
      "Calculating Accuracy and Loss: (100%): : 310it [01:58,  2.61it/s]\n"
     ]
    },
    {
     "name": "stdout",
     "output_type": "stream",
     "text": [
      "\n",
      "For validation data\n"
     ]
    },
    {
     "name": "stderr",
     "output_type": "stream",
     "text": [
      "Calculating Accuracy and Loss: (97%): : 32it [00:14,  2.26it/s]"
     ]
    },
    {
     "name": "stdout",
     "output_type": "stream",
     "text": [
      "\n",
      "Training Accuracy =  97.91935483870968 \n",
      "Training Loss =  0.03676148935356328 \n",
      "Validation Accuracy =  94.26751592356688 \n",
      "Validation Loss =  0.1528986567609536 \n",
      "\n"
     ]
    },
    {
     "name": "stderr",
     "output_type": "stream",
     "text": [
      "\n",
      "Training Epoch: 19, Loss 0.08043461292982101,(100%): : 310it [03:47,  1.36it/s]"
     ]
    },
    {
     "name": "stdout",
     "output_type": "stream",
     "text": [
      "\n",
      "For training data\n"
     ]
    },
    {
     "name": "stderr",
     "output_type": "stream",
     "text": [
      "\n",
      "Calculating Accuracy and Loss: (100%): : 310it [01:58,  2.61it/s]\n"
     ]
    },
    {
     "name": "stdout",
     "output_type": "stream",
     "text": [
      "\n",
      "For validation data\n"
     ]
    },
    {
     "name": "stderr",
     "output_type": "stream",
     "text": [
      "Calculating Accuracy and Loss: (97%): : 32it [00:14,  2.28it/s]"
     ]
    },
    {
     "name": "stdout",
     "output_type": "stream",
     "text": [
      "\n",
      "Training Accuracy =  98.19354838709677 \n",
      "Training Loss =  0.03430423639196482 \n",
      "Validation Accuracy =  95.22292993630573 \n",
      "Validation Loss =  0.12170170014724135 \n",
      "\n"
     ]
    },
    {
     "name": "stderr",
     "output_type": "stream",
     "text": [
      "\n",
      "Training Epoch: 20, Loss 0.009248961694538593,(100%): : 310it [03:47,  1.36it/s]"
     ]
    },
    {
     "name": "stdout",
     "output_type": "stream",
     "text": [
      "\n",
      "For training data\n"
     ]
    },
    {
     "name": "stderr",
     "output_type": "stream",
     "text": [
      "\n",
      "Calculating Accuracy and Loss: (100%): : 310it [01:57,  2.63it/s]\n"
     ]
    },
    {
     "name": "stdout",
     "output_type": "stream",
     "text": [
      "\n",
      "For validation data\n"
     ]
    },
    {
     "name": "stderr",
     "output_type": "stream",
     "text": [
      "Calculating Accuracy and Loss: (97%): : 32it [00:13,  2.37it/s]\n"
     ]
    },
    {
     "name": "stdout",
     "output_type": "stream",
     "text": [
      "\n",
      "Training Accuracy =  98.04838709677419 \n",
      "Training Loss =  0.03788827231319081 \n",
      "Validation Accuracy =  94.90445859872611 \n",
      "Validation Loss =  0.11807643624342745 \n",
      "\n",
      "Final Stats:\n",
      "\n",
      "                     Loss   Accuracy  Precision     Recall   F1_Score\n",
      "Training Scores  0.037888  98.048387  95.350489  98.048387  96.640066\n",
      "\n",
      "                       Loss   Accuracy  Precision     Recall   F1_Score\n",
      "Validation Scores  0.118076  94.904459  94.870279  94.904459  94.888762\n",
      "\n"
     ]
    },
    {
     "data": {
      "image/png": "[encoded data removed]",
      "text/plain": [
       "<Figure size 432x288 with 1 Axes>"
      ]
     },
     "metadata": {
      "needs_background": "light",
      "tags": []
     },
     "output_type": "display_data"
    },
    {
     "name": "stdout",
     "output_type": "stream",
     "text": [
      "\n"
     ]
    },
    {
     "data": {
      "image/png": "[encoded data removed]",
      "text/plain": [
       "<Figure size 432x288 with 1 Axes>"
      ]
     },
     "metadata": {
      "needs_background": "light",
      "tags": []
     },
     "output_type": "display_data"
    },
    {
     "name": "stdout",
     "output_type": "stream",
     "text": [
      "\n"
     ]
    },
    {
     "data": {
      "image/png": "[encoded data removed]",
      "text/plain": [
       "<Figure size 432x288 with 1 Axes>"
      ]
     },
     "metadata": {
      "needs_background": "light",
      "tags": []
     },
     "output_type": "display_data"
    },
    {
     "name": "stdout",
     "output_type": "stream",
     "text": [
      "\n"
     ]
    },
    {
     "data": {
      "image/png": "[encoded data removed]",
      "text/plain": [
       "<Figure size 432x288 with 1 Axes>"
      ]
     },
     "metadata": {
      "needs_background": "light",
      "tags": []
     },
     "output_type": "display_data"
    }
   ],
   "source": [
    "Epochs = 20\n",
    "criterion = nn.BCEWithLogitsLoss()\n",
    "optimizer = optim.SGD(vgg16.parameters(), lr=0.001, momentum=0.9)\n",
    "filename = './gdrive/My Drive/weights/vgg16_BCE_loss.pth'\n",
    "train_model(vgg16, Epochs,trainloader, validationloader, optimizer, criterion, filename)"
   ]
  },
  {
   "cell_type": "markdown",
   "metadata": {
    "colab_type": "text",
    "id": "LmYXks-gug2b"
   },
   "source": [
    "### Multilabel Confusion Matrix"
   ]
  },
  {
   "cell_type": "code",
   "execution_count": 23,
   "metadata": {
    "colab": {
     "base_uri": "https://localhost:8080/",
     "height": 1000
    },
    "colab_type": "code",
    "id": "wJZbyI7Muf97",
    "outputId": "f6fb5873-3250-4bd9-b0f1-97188a29d486"
   },
   "outputs": [
    {
     "name": "stderr",
     "output_type": "stream",
     "text": [
      "Predicting Images: (100%): : 310it [01:53,  2.72it/s]\n"
     ]
    },
    {
     "data": {
      "image/png": "[encoded data removed]",
      "text/plain": [
       "<Figure size 432x288 with 1 Axes>"
      ]
     },
     "metadata": {
      "needs_background": "light",
      "tags": []
     },
     "output_type": "display_data"
    },
    {
     "data": {
      "image/png": "[encoded data removed]",
      "text/plain": [
       "<Figure size 432x288 with 1 Axes>"
      ]
     },
     "metadata": {
      "needs_background": "light",
      "tags": []
     },
     "output_type": "display_data"
    },
    {
     "data": {
      "image/png": "[encoded data removed]",
      "text/plain": [
       "<Figure size 432x288 with 1 Axes>"
      ]
     },
     "metadata": {
      "needs_background": "light",
      "tags": []
     },
     "output_type": "display_data"
    },
    {
     "name": "stderr",
     "output_type": "stream",
     "text": [
      "Predicting Images: (97%): : 32it [00:12,  2.49it/s]\n"
     ]
    },
    {
     "data": {
      "image/png": "[encoded data removed]",
      "text/plain": [
       "<Figure size 432x288 with 1 Axes>"
      ]
     },
     "metadata": {
      "needs_background": "light",
      "tags": []
     },
     "output_type": "display_data"
    },
    {
     "data": {
      "image/png": "[encoded data removed]",
      "text/plain": [
       "<Figure size 432x288 with 1 Axes>"
      ]
     },
     "metadata": {
      "needs_background": "light",
      "tags": []
     },
     "output_type": "display_data"
    },
    {
     "data": {
      "image/png": "[encoded data removed]",
      "text/plain": [
       "<Figure size 432x288 with 1 Axes>"
      ]
     },
     "metadata": {
      "needs_background": "light",
      "tags": []
     },
     "output_type": "display_data"
    }
   ],
   "source": [
    "# Loading Model\n",
    "vgg16.load_state_dict(torch.load('./gdrive/My Drive/Assignments/Deep Learning/Assignment 5/Part 2 Weights/vgg16_BCE_loss.pth',map_location=device))\n",
    "\n",
    "yt,yp = predict_images(trainloader,vgg16)\n",
    "cm = multilabel_confusion_matrix(yt,yp)\n",
    "\n",
    "sns.heatmap(pd.DataFrame(cm[0],['N + P','Covid-19'],['N + P','Covid-19']), annot=True, fmt='g', cbar=False)\n",
    "plt.title('Confusion Matrix for Training Data')\n",
    "plt.xlabel('Predicted Labels')\n",
    "plt.ylabel('Actual Labels')\n",
    "plt.xlim(reversed(plt.xlim()))\n",
    "plt.show()\n",
    "\n",
    "sns.heatmap(pd.DataFrame(cm[1],['N + C','Pneumonia'],['N + C','Pneumonia']), annot=True, fmt='g', cbar=False)\n",
    "plt.title('Confusion Matrix for Training Data')\n",
    "plt.xlabel('Predicted Labels')\n",
    "plt.ylabel('Actual Labels')\n",
    "plt.xlim(reversed(plt.xlim()))\n",
    "plt.show()\n",
    "\n",
    "sns.heatmap(pd.DataFrame(cm[2],['P + C','Normal'],['P + C','Normal']), annot=True, fmt='g', cbar=False)\n",
    "plt.title('Confusion Matrix for Training Data')\n",
    "plt.xlabel('Predicted Labels')\n",
    "plt.ylabel('Actual Labels')\n",
    "plt.xlim(reversed(plt.xlim()))\n",
    "plt.show()\n",
    "\n",
    "yt,yp = predict_images(validationloader,vgg16)\n",
    "cm = multilabel_confusion_matrix(yt,yp)\n",
    "\n",
    "sns.heatmap(pd.DataFrame(cm[0],['N + P','Covid-19'],['N + P','Covid-19']), annot=True, fmt='g', cbar=False)\n",
    "plt.title('Confusion Matrix for Validation Data')\n",
    "plt.xlabel('Predicted Labels')\n",
    "plt.ylabel('Actual Labels')\n",
    "plt.xlim(reversed(plt.xlim()))\n",
    "plt.show()\n",
    "\n",
    "sns.heatmap(pd.DataFrame(cm[1],['N + C','Pneumonia'],['N + C','Pneumonia']), annot=True, fmt='g', cbar=False)\n",
    "plt.title('Confusion Matrix for Validation Data')\n",
    "plt.xlabel('Predicted Labels')\n",
    "plt.ylabel('Actual Labels')\n",
    "plt.xlim(reversed(plt.xlim()))\n",
    "plt.show()\n",
    "\n",
    "sns.heatmap(pd.DataFrame(cm[2],['P + C','Normal'],['P + C','Normal']), annot=True, fmt='g', cbar=False)\n",
    "plt.title('Confusion Matrix for Validation Data')\n",
    "plt.xlabel('Predicted Labels')\n",
    "plt.ylabel('Actual Labels')\n",
    "plt.xlim(reversed(plt.xlim()))\n",
    "plt.show()"
   ]
  },
  {
   "cell_type": "markdown",
   "metadata": {
    "colab_type": "text",
    "id": "JwmC7SqpMRff"
   },
   "source": [
    "#### Classifying Unlabeled Test Data"
   ]
  },
  {
   "cell_type": "code",
   "execution_count": 25,
   "metadata": {
    "colab": {
     "base_uri": "https://localhost:8080/",
     "height": 37
    },
    "colab_type": "code",
    "id": "JO_l335JlfHK",
    "outputId": "a56341d4-dde1-489a-b61b-0d63001fca5a"
   },
   "outputs": [
    {
     "name": "stderr",
     "output_type": "stream",
     "text": [
      "Predicting Images: (97%): : 32it [00:13,  2.29it/s]\n"
     ]
    }
   ],
   "source": [
    "_,tp = predict_images(testloader,vgg16)\n",
    "df =  pd.DataFrame(onehot(tp,[0,1,2]).tolist()).astype(int)\n",
    "df.columns = ['Covid-19','Pneumonia','Normal']\n",
    "df.index = image_names"
   ]
  },
  {
   "cell_type": "code",
   "execution_count": 26,
   "metadata": {
    "colab": {
     "base_uri": "https://localhost:8080/",
     "height": 76
    },
    "colab_type": "code",
    "id": "zQL1ZQEhNNrm",
    "outputId": "ec37ce8a-134f-43a8-c5dd-9cabfcec0deb"
   },
   "outputs": [
    {
     "name": "stdout",
     "output_type": "stream",
     "text": [
      "Model has predicted  26  X-Ray images of covid-19 infected people.\n",
      "Model has predicted  243  X-Ray images of Pneumonia infected people including covid-19 as covid-19 is also a type of Pneumonia.\n",
      "Model has predicted  386  X-Ray images of normal people.\n"
     ]
    }
   ],
   "source": [
    "print('Model has predicted ',df[df['Covid-19']==1].count()[0],' X-Ray images of covid-19 infected people.')\n",
    "print('Model has predicted ',df[df['Pneumonia']==1].count()[0],' X-Ray images of Pneumonia infected people including covid-19 as covid-19 is also a type of Pneumonia.')\n",
    "print('Model has predicted ',df[df['Normal']==1].count()[0],' X-Ray images of normal people.')"
   ]
  },
  {
   "cell_type": "code",
   "execution_count": 27,
   "metadata": {
    "colab": {
     "base_uri": "https://localhost:8080/",
     "height": 364
    },
    "colab_type": "code",
    "id": "jLusJVZVbFFN",
    "outputId": "46ae3dd2-a1e0-4c20-c042-9a4e66303607"
   },
   "outputs": [
    {
     "data": {
      "text/html": [
       "<div>\n",
       "<style scoped>\n",
       "    .dataframe tbody tr th:only-of-type {\n",
       "        vertical-align: middle;\n",
       "    }\n",
       "\n",
       "    .dataframe tbody tr th {\n",
       "        vertical-align: top;\n",
       "    }\n",
       "\n",
       "    .dataframe thead th {\n",
       "        text-align: right;\n",
       "    }\n",
       "</style>\n",
       "<table border=\"1\" class=\"dataframe\">\n",
       "  <thead>\n",
       "    <tr style=\"text-align: right;\">\n",
       "      <th></th>\n",
       "      <th>Covid-19</th>\n",
       "      <th>Pneumonia</th>\n",
       "      <th>Normal</th>\n",
       "    </tr>\n",
       "  </thead>\n",
       "  <tbody>\n",
       "    <tr>\n",
       "      <th>0</th>\n",
       "      <td>0</td>\n",
       "      <td>0</td>\n",
       "      <td>1</td>\n",
       "    </tr>\n",
       "    <tr>\n",
       "      <th>1</th>\n",
       "      <td>0</td>\n",
       "      <td>0</td>\n",
       "      <td>1</td>\n",
       "    </tr>\n",
       "    <tr>\n",
       "      <th>10</th>\n",
       "      <td>0</td>\n",
       "      <td>0</td>\n",
       "      <td>1</td>\n",
       "    </tr>\n",
       "    <tr>\n",
       "      <th>100</th>\n",
       "      <td>0</td>\n",
       "      <td>1</td>\n",
       "      <td>0</td>\n",
       "    </tr>\n",
       "    <tr>\n",
       "      <th>101</th>\n",
       "      <td>0</td>\n",
       "      <td>0</td>\n",
       "      <td>1</td>\n",
       "    </tr>\n",
       "    <tr>\n",
       "      <th>102</th>\n",
       "      <td>0</td>\n",
       "      <td>0</td>\n",
       "      <td>1</td>\n",
       "    </tr>\n",
       "    <tr>\n",
       "      <th>103</th>\n",
       "      <td>0</td>\n",
       "      <td>1</td>\n",
       "      <td>0</td>\n",
       "    </tr>\n",
       "    <tr>\n",
       "      <th>104</th>\n",
       "      <td>0</td>\n",
       "      <td>1</td>\n",
       "      <td>0</td>\n",
       "    </tr>\n",
       "    <tr>\n",
       "      <th>105</th>\n",
       "      <td>1</td>\n",
       "      <td>1</td>\n",
       "      <td>0</td>\n",
       "    </tr>\n",
       "    <tr>\n",
       "      <th>106</th>\n",
       "      <td>0</td>\n",
       "      <td>0</td>\n",
       "      <td>1</td>\n",
       "    </tr>\n",
       "  </tbody>\n",
       "</table>\n",
       "</div>"
      ],
      "text/plain": [
       "     Covid-19  Pneumonia  Normal\n",
       "0           0          0       1\n",
       "1           0          0       1\n",
       "10          0          0       1\n",
       "100         0          1       0\n",
       "101         0          0       1\n",
       "102         0          0       1\n",
       "103         0          1       0\n",
       "104         0          1       0\n",
       "105         1          1       0\n",
       "106         0          0       1"
      ]
     },
     "execution_count": 27,
     "metadata": {
      "tags": []
     },
     "output_type": "execute_result"
    }
   ],
   "source": [
    "df.head(10)"
   ]
  },
  {
   "cell_type": "code",
   "execution_count": 0,
   "metadata": {
    "colab": {},
    "colab_type": "code",
    "id": "XinuunpAmhCj"
   },
   "outputs": [],
   "source": [
    "df.to_csv('./gdrive/My Drive/weights/vgg16_BCE_loss.csv',header=False)"
   ]
  },
  {
   "cell_type": "markdown",
   "metadata": {
    "colab_type": "text",
    "id": "JGSD_PtiSV-Y"
   },
   "source": [
    "### ResNet-18"
   ]
  },
  {
   "cell_type": "markdown",
   "metadata": {
    "colab_type": "text",
    "id": "ZN3Ilqc2SV-r"
   },
   "source": [
    "#### Loading Model"
   ]
  },
  {
   "cell_type": "code",
   "execution_count": 29,
   "metadata": {
    "colab": {
     "base_uri": "https://localhost:8080/",
     "height": 1000,
     "referenced_widgets": [
      "bbaf9f7afd514895bc386eb0f292e082",
      "d2ffc7f111a6419ea80e2f839ccd1106",
      "28d10d91ba95491281dc5525c58b6b92",
      "f9ea535fbacf4e1c86666bb5b8f52ffd",
      "04da240712254add809c257e81d14eff",
      "6e741ee503744e3783bfdfaee4517d09",
      "2090c155d9024a6eab16933a32774791",
      "04b9b8254cf54ba9b755ad02ff50f3f8"
     ]
    },
    "colab_type": "code",
    "id": "EK9R6XA_SV-0",
    "outputId": "39d14a83-334c-4ff2-9413-732c3d2b8e63"
   },
   "outputs": [
    {
     "name": "stderr",
     "output_type": "stream",
     "text": [
      "Downloading: \"https://download.pytorch.org/models/resnet18-5c106cde.pth\" to /root/.cache/torch/checkpoints/resnet18-5c106cde.pth\n"
     ]
    },
    {
     "data": {
      "application/vnd.jupyter.widget-view+json": {
       "model_id": "bbaf9f7afd514895bc386eb0f292e082",
       "version_major": 2,
       "version_minor": 0
      },
      "text/plain": [
       "HBox(children=(IntProgress(value=0, max=46827520), HTML(value='')))"
      ]
     },
     "metadata": {
      "tags": []
     },
     "output_type": "display_data"
    },
    {
     "name": "stdout",
     "output_type": "stream",
     "text": [
      "\n",
      "ResNet(\n",
      "  (conv1): Conv2d(3, 64, kernel_size=(7, 7), stride=(2, 2), padding=(3, 3), bias=False)\n",
      "  (bn1): BatchNorm2d(64, eps=1e-05, momentum=0.1, affine=True, track_running_stats=True)\n",
      "  (relu): ReLU(inplace=True)\n",
      "  (maxpool): MaxPool2d(kernel_size=3, stride=2, padding=1, dilation=1, ceil_mode=False)\n",
      "  (layer1): Sequential(\n",
      "    (0): BasicBlock(\n",
      "      (conv1): Conv2d(64, 64, kernel_size=(3, 3), stride=(1, 1), padding=(1, 1), bias=False)\n",
      "      (bn1): BatchNorm2d(64, eps=1e-05, momentum=0.1, affine=True, track_running_stats=True)\n",
      "      (relu): ReLU(inplace=True)\n",
      "      (conv2): Conv2d(64, 64, kernel_size=(3, 3), stride=(1, 1), padding=(1, 1), bias=False)\n",
      "      (bn2): BatchNorm2d(64, eps=1e-05, momentum=0.1, affine=True, track_running_stats=True)\n",
      "    )\n",
      "    (1): BasicBlock(\n",
      "      (conv1): Conv2d(64, 64, kernel_size=(3, 3), stride=(1, 1), padding=(1, 1), bias=False)\n",
      "      (bn1): BatchNorm2d(64, eps=1e-05, momentum=0.1, affine=True, track_running_stats=True)\n",
      "      (relu): ReLU(inplace=True)\n",
      "      (conv2): Conv2d(64, 64, kernel_size=(3, 3), stride=(1, 1), padding=(1, 1), bias=False)\n",
      "      (bn2): BatchNorm2d(64, eps=1e-05, momentum=0.1, affine=True, track_running_stats=True)\n",
      "    )\n",
      "  )\n",
      "  (layer2): Sequential(\n",
      "    (0): BasicBlock(\n",
      "      (conv1): Conv2d(64, 128, kernel_size=(3, 3), stride=(2, 2), padding=(1, 1), bias=False)\n",
      "      (bn1): BatchNorm2d(128, eps=1e-05, momentum=0.1, affine=True, track_running_stats=True)\n",
      "      (relu): ReLU(inplace=True)\n",
      "      (conv2): Conv2d(128, 128, kernel_size=(3, 3), stride=(1, 1), padding=(1, 1), bias=False)\n",
      "      (bn2): BatchNorm2d(128, eps=1e-05, momentum=0.1, affine=True, track_running_stats=True)\n",
      "      (downsample): Sequential(\n",
      "        (0): Conv2d(64, 128, kernel_size=(1, 1), stride=(2, 2), bias=False)\n",
      "        (1): BatchNorm2d(128, eps=1e-05, momentum=0.1, affine=True, track_running_stats=True)\n",
      "      )\n",
      "    )\n",
      "    (1): BasicBlock(\n",
      "      (conv1): Conv2d(128, 128, kernel_size=(3, 3), stride=(1, 1), padding=(1, 1), bias=False)\n",
      "      (bn1): BatchNorm2d(128, eps=1e-05, momentum=0.1, affine=True, track_running_stats=True)\n",
      "      (relu): ReLU(inplace=True)\n",
      "      (conv2): Conv2d(128, 128, kernel_size=(3, 3), stride=(1, 1), padding=(1, 1), bias=False)\n",
      "      (bn2): BatchNorm2d(128, eps=1e-05, momentum=0.1, affine=True, track_running_stats=True)\n",
      "    )\n",
      "  )\n",
      "  (layer3): Sequential(\n",
      "    (0): BasicBlock(\n",
      "      (conv1): Conv2d(128, 256, kernel_size=(3, 3), stride=(2, 2), padding=(1, 1), bias=False)\n",
      "      (bn1): BatchNorm2d(256, eps=1e-05, momentum=0.1, affine=True, track_running_stats=True)\n",
      "      (relu): ReLU(inplace=True)\n",
      "      (conv2): Conv2d(256, 256, kernel_size=(3, 3), stride=(1, 1), padding=(1, 1), bias=False)\n",
      "      (bn2): BatchNorm2d(256, eps=1e-05, momentum=0.1, affine=True, track_running_stats=True)\n",
      "      (downsample): Sequential(\n",
      "        (0): Conv2d(128, 256, kernel_size=(1, 1), stride=(2, 2), bias=False)\n",
      "        (1): BatchNorm2d(256, eps=1e-05, momentum=0.1, affine=True, track_running_stats=True)\n",
      "      )\n",
      "    )\n",
      "    (1): BasicBlock(\n",
      "      (conv1): Conv2d(256, 256, kernel_size=(3, 3), stride=(1, 1), padding=(1, 1), bias=False)\n",
      "      (bn1): BatchNorm2d(256, eps=1e-05, momentum=0.1, affine=True, track_running_stats=True)\n",
      "      (relu): ReLU(inplace=True)\n",
      "      (conv2): Conv2d(256, 256, kernel_size=(3, 3), stride=(1, 1), padding=(1, 1), bias=False)\n",
      "      (bn2): BatchNorm2d(256, eps=1e-05, momentum=0.1, affine=True, track_running_stats=True)\n",
      "    )\n",
      "  )\n",
      "  (layer4): Sequential(\n",
      "    (0): BasicBlock(\n",
      "      (conv1): Conv2d(256, 512, kernel_size=(3, 3), stride=(2, 2), padding=(1, 1), bias=False)\n",
      "      (bn1): BatchNorm2d(512, eps=1e-05, momentum=0.1, affine=True, track_running_stats=True)\n",
      "      (relu): ReLU(inplace=True)\n",
      "      (conv2): Conv2d(512, 512, kernel_size=(3, 3), stride=(1, 1), padding=(1, 1), bias=False)\n",
      "      (bn2): BatchNorm2d(512, eps=1e-05, momentum=0.1, affine=True, track_running_stats=True)\n",
      "      (downsample): Sequential(\n",
      "        (0): Conv2d(256, 512, kernel_size=(1, 1), stride=(2, 2), bias=False)\n",
      "        (1): BatchNorm2d(512, eps=1e-05, momentum=0.1, affine=True, track_running_stats=True)\n",
      "      )\n",
      "    )\n",
      "    (1): BasicBlock(\n",
      "      (conv1): Conv2d(512, 512, kernel_size=(3, 3), stride=(1, 1), padding=(1, 1), bias=False)\n",
      "      (bn1): BatchNorm2d(512, eps=1e-05, momentum=0.1, affine=True, track_running_stats=True)\n",
      "      (relu): ReLU(inplace=True)\n",
      "      (conv2): Conv2d(512, 512, kernel_size=(3, 3), stride=(1, 1), padding=(1, 1), bias=False)\n",
      "      (bn2): BatchNorm2d(512, eps=1e-05, momentum=0.1, affine=True, track_running_stats=True)\n",
      "    )\n",
      "  )\n",
      "  (avgpool): AdaptiveAvgPool2d(output_size=(1, 1))\n",
      "  (fc): Sequential(\n",
      "    (0): Linear(in_features=512, out_features=3, bias=True)\n",
      "  )\n",
      ")\n"
     ]
    }
   ],
   "source": [
    "res18 = models.resnet18(pretrained=True)\n",
    "features = []\n",
    "num_features = 512\n",
    "num_classes = 3\n",
    "features.extend([nn.Linear(num_features, num_classes)])\n",
    "res18.fc = nn.Sequential(*features)\n",
    "print(res18)"
   ]
  },
  {
   "cell_type": "markdown",
   "metadata": {
    "colab_type": "text",
    "id": "wP2y6QuiSWAF"
   },
   "source": [
    "#### Training Model"
   ]
  },
  {
   "cell_type": "code",
   "execution_count": 0,
   "metadata": {
    "colab": {
     "base_uri": "https://localhost:8080/",
     "height": 1000
    },
    "colab_type": "code",
    "id": "JQHdU7iyV2TJ",
    "outputId": "17fd199d-44fe-46e2-ae80-45ffa31df46b"
   },
   "outputs": [
    {
     "name": "stderr",
     "output_type": "stream",
     "text": [
      "Training Epoch: 1, Loss 0.10667683929204941,(100%): : 310it [01:52,  2.74it/s]"
     ]
    },
    {
     "name": "stdout",
     "output_type": "stream",
     "text": [
      "\n",
      "For training data\n"
     ]
    },
    {
     "name": "stderr",
     "output_type": "stream",
     "text": [
      "\n",
      "Calculating Accuracy and Loss: (100%): : 310it [01:46,  2.90it/s]"
     ]
    },
    {
     "name": "stdout",
     "output_type": "stream",
     "text": [
      "\n",
      "For validation data\n"
     ]
    },
    {
     "name": "stderr",
     "output_type": "stream",
     "text": [
      "\n",
      "Calculating Accuracy and Loss: (97%): : 32it [00:11,  2.79it/s]\n"
     ]
    },
    {
     "name": "stdout",
     "output_type": "stream",
     "text": [
      "\n",
      "Training Accuracy =  91.0 \n",
      "Training Loss =  0.15540519661961064 \n",
      "Validation Accuracy =  90.60509554140127 \n",
      "Validation Loss =  0.16947859374340624 \n",
      "\n"
     ]
    },
    {
     "name": "stderr",
     "output_type": "stream",
     "text": [
      "Training Epoch: 2, Loss 0.2913232445716858,(100%): : 310it [01:53,  2.74it/s]"
     ]
    },
    {
     "name": "stdout",
     "output_type": "stream",
     "text": [
      "\n",
      "For training data\n"
     ]
    },
    {
     "name": "stderr",
     "output_type": "stream",
     "text": [
      "\n",
      "Calculating Accuracy and Loss: (100%): : 310it [01:46,  2.90it/s]"
     ]
    },
    {
     "name": "stdout",
     "output_type": "stream",
     "text": [
      "\n",
      "For validation data\n"
     ]
    },
    {
     "name": "stderr",
     "output_type": "stream",
     "text": [
      "\n",
      "Calculating Accuracy and Loss: (97%): : 32it [00:11,  2.84it/s]\n"
     ]
    },
    {
     "name": "stdout",
     "output_type": "stream",
     "text": [
      "\n",
      "Training Accuracy =  91.85483870967742 \n",
      "Training Loss =  0.14086193531871805 \n",
      "Validation Accuracy =  92.51592356687898 \n",
      "Validation Loss =  0.14665422297548503 \n",
      "\n"
     ]
    },
    {
     "name": "stderr",
     "output_type": "stream",
     "text": [
      "Training Epoch: 3, Loss 0.33176079392433167,(100%): : 310it [01:53,  2.72it/s]"
     ]
    },
    {
     "name": "stdout",
     "output_type": "stream",
     "text": [
      "\n",
      "For training data\n"
     ]
    },
    {
     "name": "stderr",
     "output_type": "stream",
     "text": [
      "\n",
      "Calculating Accuracy and Loss: (100%): : 310it [01:45,  2.93it/s]\n"
     ]
    },
    {
     "name": "stdout",
     "output_type": "stream",
     "text": [
      "\n",
      "For validation data\n"
     ]
    },
    {
     "name": "stderr",
     "output_type": "stream",
     "text": [
      "Calculating Accuracy and Loss: (97%): : 32it [00:11,  2.85it/s]"
     ]
    },
    {
     "name": "stdout",
     "output_type": "stream",
     "text": [
      "\n",
      "Training Accuracy =  92.96774193548387 \n",
      "Training Loss =  0.12313880771398544 \n",
      "Validation Accuracy =  93.15286624203821 \n",
      "Validation Loss =  0.14905844687018543 \n",
      "\n"
     ]
    },
    {
     "name": "stderr",
     "output_type": "stream",
     "text": [
      "\n",
      "Training Epoch: 4, Loss 0.021776029840111732,(100%): : 310it [01:52,  2.75it/s]"
     ]
    },
    {
     "name": "stdout",
     "output_type": "stream",
     "text": [
      "\n",
      "For training data\n"
     ]
    },
    {
     "name": "stderr",
     "output_type": "stream",
     "text": [
      "\n",
      "Calculating Accuracy and Loss: (100%): : 310it [01:46,  2.92it/s]"
     ]
    },
    {
     "name": "stdout",
     "output_type": "stream",
     "text": [
      "\n",
      "For validation data\n"
     ]
    },
    {
     "name": "stderr",
     "output_type": "stream",
     "text": [
      "\n",
      "Calculating Accuracy and Loss: (97%): : 32it [00:11,  2.85it/s]"
     ]
    },
    {
     "name": "stdout",
     "output_type": "stream",
     "text": [
      "\n",
      "Training Accuracy =  93.69354838709677 \n",
      "Training Loss =  0.11076872502904266 \n",
      "Validation Accuracy =  92.51592356687898 \n",
      "Validation Loss =  0.14260943362023681 \n",
      "\n"
     ]
    },
    {
     "name": "stderr",
     "output_type": "stream",
     "text": [
      "\n",
      "Training Epoch: 5, Loss 0.06266090273857117,(100%): : 310it [01:53,  2.74it/s]"
     ]
    },
    {
     "name": "stdout",
     "output_type": "stream",
     "text": [
      "\n",
      "For training data\n"
     ]
    },
    {
     "name": "stderr",
     "output_type": "stream",
     "text": [
      "\n",
      "Calculating Accuracy and Loss: (100%): : 310it [01:46,  2.92it/s]\n"
     ]
    },
    {
     "name": "stdout",
     "output_type": "stream",
     "text": [
      "\n",
      "For validation data\n"
     ]
    },
    {
     "name": "stderr",
     "output_type": "stream",
     "text": [
      "Calculating Accuracy and Loss: (97%): : 32it [00:11,  2.80it/s]"
     ]
    },
    {
     "name": "stdout",
     "output_type": "stream",
     "text": [
      "\n",
      "Training Accuracy =  95.56451612903226 \n",
      "Training Loss =  0.08765975559851336 \n",
      "Validation Accuracy =  95.38216560509554 \n",
      "Validation Loss =  0.10521188797429204 \n",
      "\n"
     ]
    },
    {
     "name": "stderr",
     "output_type": "stream",
     "text": [
      "\n",
      "Training Epoch: 6, Loss 0.18931379914283752,(100%): : 310it [01:53,  2.73it/s]"
     ]
    },
    {
     "name": "stdout",
     "output_type": "stream",
     "text": [
      "\n",
      "For training data\n"
     ]
    },
    {
     "name": "stderr",
     "output_type": "stream",
     "text": [
      "\n",
      "Calculating Accuracy and Loss: (100%): : 310it [01:46,  2.91it/s]"
     ]
    },
    {
     "name": "stdout",
     "output_type": "stream",
     "text": [
      "\n",
      "For validation data\n"
     ]
    },
    {
     "name": "stderr",
     "output_type": "stream",
     "text": [
      "\n",
      "Calculating Accuracy and Loss: (97%): : 32it [00:11,  2.82it/s]"
     ]
    },
    {
     "name": "stdout",
     "output_type": "stream",
     "text": [
      "\n",
      "Training Accuracy =  93.85483870967742 \n",
      "Training Loss =  0.10522736821984571 \n",
      "Validation Accuracy =  91.56050955414013 \n",
      "Validation Loss =  0.15637475857511163 \n",
      "\n"
     ]
    },
    {
     "name": "stderr",
     "output_type": "stream",
     "text": [
      "\n",
      "Training Epoch: 7, Loss 0.13802500069141388,(100%): : 310it [01:53,  2.73it/s]"
     ]
    },
    {
     "name": "stdout",
     "output_type": "stream",
     "text": [
      "\n",
      "For training data\n"
     ]
    },
    {
     "name": "stderr",
     "output_type": "stream",
     "text": [
      "\n",
      "Calculating Accuracy and Loss: (100%): : 310it [01:46,  2.92it/s]"
     ]
    },
    {
     "name": "stdout",
     "output_type": "stream",
     "text": [
      "\n",
      "For validation data\n"
     ]
    },
    {
     "name": "stderr",
     "output_type": "stream",
     "text": [
      "\n",
      "Calculating Accuracy and Loss: (97%): : 32it [00:11,  2.80it/s]"
     ]
    },
    {
     "name": "stdout",
     "output_type": "stream",
     "text": [
      "\n",
      "Training Accuracy =  95.70967741935485 \n",
      "Training Loss =  0.07349872944666253 \n",
      "Validation Accuracy =  94.90445859872611 \n",
      "Validation Loss =  0.09810421260772273 \n",
      "\n"
     ]
    },
    {
     "name": "stderr",
     "output_type": "stream",
     "text": [
      "\n",
      "Training Epoch: 8, Loss 0.048769962042570114,(100%): : 310it [01:54,  2.72it/s]"
     ]
    },
    {
     "name": "stdout",
     "output_type": "stream",
     "text": [
      "\n",
      "For training data\n"
     ]
    },
    {
     "name": "stderr",
     "output_type": "stream",
     "text": [
      "\n",
      "Calculating Accuracy and Loss: (100%): : 310it [01:47,  2.88it/s]"
     ]
    },
    {
     "name": "stdout",
     "output_type": "stream",
     "text": [
      "\n",
      "For validation data\n"
     ]
    },
    {
     "name": "stderr",
     "output_type": "stream",
     "text": [
      "\n",
      "Calculating Accuracy and Loss: (97%): : 32it [00:11,  2.84it/s]"
     ]
    },
    {
     "name": "stdout",
     "output_type": "stream",
     "text": [
      "\n",
      "Training Accuracy =  95.74193548387096 \n",
      "Training Loss =  0.07739700947798067 \n",
      "Validation Accuracy =  93.78980891719745 \n",
      "Validation Loss =  0.11098470716387965 \n",
      "\n"
     ]
    },
    {
     "name": "stderr",
     "output_type": "stream",
     "text": [
      "\n",
      "Training Epoch: 9, Loss 0.11770414561033249,(100%): : 310it [01:54,  2.71it/s]"
     ]
    },
    {
     "name": "stdout",
     "output_type": "stream",
     "text": [
      "\n",
      "For training data\n"
     ]
    },
    {
     "name": "stderr",
     "output_type": "stream",
     "text": [
      "\n",
      "Calculating Accuracy and Loss: (100%): : 310it [01:47,  2.89it/s]"
     ]
    },
    {
     "name": "stdout",
     "output_type": "stream",
     "text": [
      "\n",
      "For validation data\n"
     ]
    },
    {
     "name": "stderr",
     "output_type": "stream",
     "text": [
      "\n",
      "Calculating Accuracy and Loss: (97%): : 32it [00:11,  2.79it/s]"
     ]
    },
    {
     "name": "stdout",
     "output_type": "stream",
     "text": [
      "\n",
      "Training Accuracy =  95.80645161290322 \n",
      "Training Loss =  0.08716025634278213 \n",
      "Validation Accuracy =  93.94904458598727 \n",
      "Validation Loss =  0.12713944329880178 \n",
      "\n"
     ]
    },
    {
     "name": "stderr",
     "output_type": "stream",
     "text": [
      "\n",
      "Training Epoch: 10, Loss 0.28943511843681335,(100%): : 310it [01:54,  2.71it/s]"
     ]
    },
    {
     "name": "stdout",
     "output_type": "stream",
     "text": [
      "\n",
      "For training data\n"
     ]
    },
    {
     "name": "stderr",
     "output_type": "stream",
     "text": [
      "\n",
      "Calculating Accuracy and Loss: (100%): : 310it [01:47,  2.89it/s]"
     ]
    },
    {
     "name": "stdout",
     "output_type": "stream",
     "text": [
      "\n",
      "For validation data\n"
     ]
    },
    {
     "name": "stderr",
     "output_type": "stream",
     "text": [
      "\n",
      "Calculating Accuracy and Loss: (97%): : 32it [00:11,  2.79it/s]"
     ]
    },
    {
     "name": "stdout",
     "output_type": "stream",
     "text": [
      "\n",
      "Training Accuracy =  96.12903225806451 \n",
      "Training Loss =  0.06830172915342114 \n",
      "Validation Accuracy =  93.94904458598727 \n",
      "Validation Loss =  0.1508604528644355 \n",
      "\n"
     ]
    },
    {
     "name": "stderr",
     "output_type": "stream",
     "text": [
      "\n",
      "Training Epoch: 11, Loss 0.04669167101383209,(100%): : 310it [01:53,  2.72it/s]"
     ]
    },
    {
     "name": "stdout",
     "output_type": "stream",
     "text": [
      "\n",
      "For training data\n"
     ]
    },
    {
     "name": "stderr",
     "output_type": "stream",
     "text": [
      "\n",
      "Calculating Accuracy and Loss: (100%): : 310it [01:46,  2.91it/s]"
     ]
    },
    {
     "name": "stdout",
     "output_type": "stream",
     "text": [
      "\n",
      "For validation data\n"
     ]
    },
    {
     "name": "stderr",
     "output_type": "stream",
     "text": [
      "\n",
      "Calculating Accuracy and Loss: (97%): : 32it [00:11,  2.78it/s]"
     ]
    },
    {
     "name": "stdout",
     "output_type": "stream",
     "text": [
      "\n",
      "Training Accuracy =  95.75806451612904 \n",
      "Training Loss =  0.07197295249695139 \n",
      "Validation Accuracy =  94.10828025477707 \n",
      "Validation Loss =  0.12797542588668875 \n",
      "\n"
     ]
    },
    {
     "name": "stderr",
     "output_type": "stream",
     "text": [
      "\n",
      "Training Epoch: 12, Loss 0.02098059095442295,(100%): : 310it [01:54,  2.72it/s]"
     ]
    },
    {
     "name": "stdout",
     "output_type": "stream",
     "text": [
      "\n",
      "For training data\n"
     ]
    },
    {
     "name": "stderr",
     "output_type": "stream",
     "text": [
      "\n",
      "Calculating Accuracy and Loss: (100%): : 310it [01:46,  2.90it/s]"
     ]
    },
    {
     "name": "stdout",
     "output_type": "stream",
     "text": [
      "\n",
      "For validation data\n"
     ]
    },
    {
     "name": "stderr",
     "output_type": "stream",
     "text": [
      "\n",
      "Calculating Accuracy and Loss: (97%): : 32it [00:11,  2.79it/s]"
     ]
    },
    {
     "name": "stdout",
     "output_type": "stream",
     "text": [
      "\n",
      "Training Accuracy =  97.43548387096774 \n",
      "Training Loss =  0.04565643173296966 \n",
      "Validation Accuracy =  94.26751592356688 \n",
      "Validation Loss =  0.14834478058037348 \n",
      "\n"
     ]
    },
    {
     "name": "stderr",
     "output_type": "stream",
     "text": [
      "\n",
      "Training Epoch: 13, Loss 0.012362346053123474,(100%): : 310it [01:54,  2.71it/s]"
     ]
    },
    {
     "name": "stdout",
     "output_type": "stream",
     "text": [
      "\n",
      "For training data\n"
     ]
    },
    {
     "name": "stderr",
     "output_type": "stream",
     "text": [
      "\n",
      "Calculating Accuracy and Loss: (100%): : 310it [01:47,  2.87it/s]"
     ]
    },
    {
     "name": "stdout",
     "output_type": "stream",
     "text": [
      "\n",
      "For validation data\n"
     ]
    },
    {
     "name": "stderr",
     "output_type": "stream",
     "text": [
      "\n",
      "Calculating Accuracy and Loss: (97%): : 32it [00:11,  2.82it/s]"
     ]
    },
    {
     "name": "stdout",
     "output_type": "stream",
     "text": [
      "\n",
      "Training Accuracy =  97.54838709677419 \n",
      "Training Loss =  0.05115351748742884 \n",
      "Validation Accuracy =  93.94904458598727 \n",
      "Validation Loss =  0.13203044948750176 \n",
      "\n"
     ]
    },
    {
     "name": "stderr",
     "output_type": "stream",
     "text": [
      "\n",
      "Training Epoch: 14, Loss 0.054941415786743164,(100%): : 310it [01:55,  2.69it/s]"
     ]
    },
    {
     "name": "stdout",
     "output_type": "stream",
     "text": [
      "\n",
      "For training data\n"
     ]
    },
    {
     "name": "stderr",
     "output_type": "stream",
     "text": [
      "\n",
      "Calculating Accuracy and Loss: (100%): : 310it [01:47,  2.89it/s]"
     ]
    },
    {
     "name": "stdout",
     "output_type": "stream",
     "text": [
      "\n",
      "For validation data\n"
     ]
    },
    {
     "name": "stderr",
     "output_type": "stream",
     "text": [
      "\n",
      "Calculating Accuracy and Loss: (97%): : 32it [00:11,  2.79it/s]"
     ]
    },
    {
     "name": "stdout",
     "output_type": "stream",
     "text": [
      "\n",
      "Training Accuracy =  97.01612903225806 \n",
      "Training Loss =  0.050266589730932947 \n",
      "Validation Accuracy =  94.42675159235668 \n",
      "Validation Loss =  0.12257266201777384 \n",
      "\n"
     ]
    },
    {
     "name": "stderr",
     "output_type": "stream",
     "text": [
      "\n",
      "Training Epoch: 15, Loss 0.0057922909036278725,(100%): : 310it [01:53,  2.74it/s]"
     ]
    },
    {
     "name": "stdout",
     "output_type": "stream",
     "text": [
      "\n",
      "For training data\n"
     ]
    },
    {
     "name": "stderr",
     "output_type": "stream",
     "text": [
      "\n",
      "Calculating Accuracy and Loss: (100%): : 310it [01:45,  2.93it/s]"
     ]
    },
    {
     "name": "stdout",
     "output_type": "stream",
     "text": [
      "\n",
      "For validation data\n"
     ]
    },
    {
     "name": "stderr",
     "output_type": "stream",
     "text": [
      "\n",
      "Calculating Accuracy and Loss: (97%): : 32it [00:11,  2.86it/s]"
     ]
    },
    {
     "name": "stdout",
     "output_type": "stream",
     "text": [
      "\n",
      "Training Accuracy =  97.38709677419355 \n",
      "Training Loss =  0.04706683603731254 \n",
      "Validation Accuracy =  94.26751592356688 \n",
      "Validation Loss =  0.11353188255452551 \n",
      "\n"
     ]
    },
    {
     "name": "stderr",
     "output_type": "stream",
     "text": [
      "\n",
      "Training Epoch: 16, Loss 0.022055309265851974,(100%): : 310it [01:52,  2.75it/s]"
     ]
    },
    {
     "name": "stdout",
     "output_type": "stream",
     "text": [
      "\n",
      "For training data\n"
     ]
    },
    {
     "name": "stderr",
     "output_type": "stream",
     "text": [
      "\n",
      "Calculating Accuracy and Loss: (100%): : 310it [01:46,  2.90it/s]\n"
     ]
    },
    {
     "name": "stdout",
     "output_type": "stream",
     "text": [
      "\n",
      "For validation data\n"
     ]
    },
    {
     "name": "stderr",
     "output_type": "stream",
     "text": [
      "Calculating Accuracy and Loss: (97%): : 32it [00:11,  2.88it/s]"
     ]
    },
    {
     "name": "stdout",
     "output_type": "stream",
     "text": [
      "\n",
      "Training Accuracy =  98.19354838709677 \n",
      "Training Loss =  0.034846970959540244 \n",
      "Validation Accuracy =  95.06369426751591 \n",
      "Validation Loss =  0.12584912404417992 \n",
      "\n"
     ]
    },
    {
     "name": "stderr",
     "output_type": "stream",
     "text": [
      "\n",
      "Training Epoch: 17, Loss 0.009975356981158257,(100%): : 310it [01:53,  2.73it/s]"
     ]
    },
    {
     "name": "stdout",
     "output_type": "stream",
     "text": [
      "\n",
      "For training data\n"
     ]
    },
    {
     "name": "stderr",
     "output_type": "stream",
     "text": [
      "\n",
      "Calculating Accuracy and Loss: (100%): : 310it [01:45,  2.95it/s]"
     ]
    },
    {
     "name": "stdout",
     "output_type": "stream",
     "text": [
      "\n",
      "For validation data\n"
     ]
    },
    {
     "name": "stderr",
     "output_type": "stream",
     "text": [
      "\n",
      "Calculating Accuracy and Loss: (97%): : 32it [00:10,  2.91it/s]"
     ]
    },
    {
     "name": "stdout",
     "output_type": "stream",
     "text": [
      "\n",
      "Training Accuracy =  97.56451612903226 \n",
      "Training Loss =  0.04384296023016495 \n",
      "Validation Accuracy =  94.7452229299363 \n",
      "Validation Loss =  0.13188199455908034 \n",
      "\n"
     ]
    },
    {
     "name": "stderr",
     "output_type": "stream",
     "text": [
      "\n",
      "Training Epoch: 18, Loss 0.04652677848935127,(100%): : 310it [01:52,  2.76it/s]"
     ]
    },
    {
     "name": "stdout",
     "output_type": "stream",
     "text": [
      "\n",
      "For training data\n"
     ]
    },
    {
     "name": "stderr",
     "output_type": "stream",
     "text": [
      "\n",
      "Calculating Accuracy and Loss: (100%): : 310it [01:46,  2.91it/s]\n"
     ]
    },
    {
     "name": "stdout",
     "output_type": "stream",
     "text": [
      "\n",
      "For validation data\n"
     ]
    },
    {
     "name": "stderr",
     "output_type": "stream",
     "text": [
      "Calculating Accuracy and Loss: (97%): : 32it [00:11,  2.84it/s]"
     ]
    },
    {
     "name": "stdout",
     "output_type": "stream",
     "text": [
      "\n",
      "Training Accuracy =  98.46774193548387 \n",
      "Training Loss =  0.030001630640453508 \n",
      "Validation Accuracy =  95.85987261146497 \n",
      "Validation Loss =  0.13474454858805984 \n",
      "\n"
     ]
    },
    {
     "name": "stderr",
     "output_type": "stream",
     "text": [
      "\n",
      "Training Epoch: 19, Loss 0.0017866415437310934,(100%): : 310it [01:52,  2.76it/s]"
     ]
    },
    {
     "name": "stdout",
     "output_type": "stream",
     "text": [
      "\n",
      "For training data\n"
     ]
    },
    {
     "name": "stderr",
     "output_type": "stream",
     "text": [
      "\n",
      "Calculating Accuracy and Loss: (100%): : 310it [01:45,  2.93it/s]"
     ]
    },
    {
     "name": "stdout",
     "output_type": "stream",
     "text": [
      "\n",
      "For validation data\n"
     ]
    },
    {
     "name": "stderr",
     "output_type": "stream",
     "text": [
      "\n",
      "Calculating Accuracy and Loss: (97%): : 32it [00:11,  2.86it/s]\n"
     ]
    },
    {
     "name": "stdout",
     "output_type": "stream",
     "text": [
      "\n",
      "Training Accuracy =  97.03225806451613 \n",
      "Training Loss =  0.05730833767053311 \n",
      "Validation Accuracy =  93.31210191082803 \n",
      "Validation Loss =  0.14980806811945513 \n",
      "\n"
     ]
    },
    {
     "name": "stderr",
     "output_type": "stream",
     "text": [
      "Training Epoch: 20, Loss 0.12237487733364105,(100%): : 310it [01:52,  2.75it/s]"
     ]
    },
    {
     "name": "stdout",
     "output_type": "stream",
     "text": [
      "\n",
      "For training data\n"
     ]
    },
    {
     "name": "stderr",
     "output_type": "stream",
     "text": [
      "\n",
      "Calculating Accuracy and Loss: (100%): : 310it [01:46,  2.90it/s]"
     ]
    },
    {
     "name": "stdout",
     "output_type": "stream",
     "text": [
      "\n",
      "For validation data\n"
     ]
    },
    {
     "name": "stderr",
     "output_type": "stream",
     "text": [
      "\n",
      "Calculating Accuracy and Loss: (97%): : 32it [00:11,  2.78it/s]\n"
     ]
    },
    {
     "name": "stdout",
     "output_type": "stream",
     "text": [
      "\n",
      "Training Accuracy =  97.95161290322581 \n",
      "Training Loss =  0.03568422685362278 \n",
      "Validation Accuracy =  95.22292993630573 \n",
      "Validation Loss =  0.11628339523304021 \n",
      "\n",
      "Final Stats:\n",
      "\n",
      "                     Loss   Accuracy  Precision     Recall   F1_Score\n",
      "Training Scores  0.035684  97.951613  97.651202  97.951613  97.811855\n",
      "\n",
      "                       Loss  Accuracy  Precision    Recall  F1_Score\n",
      "Validation Scores  0.116283  95.22293  95.337063  95.22293  95.27344\n",
      "\n"
     ]
    },
    {
     "data": {
      "image/png": "[encoded data removed]",
      "text/plain": [
       "<Figure size 432x288 with 1 Axes>"
      ]
     },
     "metadata": {
      "needs_background": "light",
      "tags": []
     },
     "output_type": "display_data"
    },
    {
     "name": "stdout",
     "output_type": "stream",
     "text": [
      "\n"
     ]
    },
    {
     "data": {
      "image/png": "[encoded data removed]",
      "text/plain": [
       "<Figure size 432x288 with 1 Axes>"
      ]
     },
     "metadata": {
      "needs_background": "light",
      "tags": []
     },
     "output_type": "display_data"
    },
    {
     "name": "stdout",
     "output_type": "stream",
     "text": [
      "\n"
     ]
    },
    {
     "data": {
      "image/png": "[encoded data removed]",
      "text/plain": [
       "<Figure size 432x288 with 1 Axes>"
      ]
     },
     "metadata": {
      "needs_background": "light",
      "tags": []
     },
     "output_type": "display_data"
    },
    {
     "name": "stdout",
     "output_type": "stream",
     "text": [
      "\n"
     ]
    },
    {
     "data": {
      "image/png": "[encoded data removed]",
      "text/plain": [
       "<Figure size 432x288 with 1 Axes>"
      ]
     },
     "metadata": {
      "needs_background": "light",
      "tags": []
     },
     "output_type": "display_data"
    }
   ],
   "source": [
    "Epochs = 20\n",
    "criterion = nn.BCEWithLogitsLoss()\n",
    "optimizer = optim.SGD(res18.parameters(), lr=0.01, momentum=0.9)\n",
    "filename = './gdrive/My Drive/weights/res18_BCE_loss.pth'\n",
    "train_model(res18, Epochs,trainloader, validationloader, optimizer, criterion, filename)"
   ]
  },
  {
   "cell_type": "markdown",
   "metadata": {
    "colab_type": "text",
    "id": "98bLh0_V3oJC"
   },
   "source": [
    "### Multilabel Confusion Matrix"
   ]
  },
  {
   "cell_type": "code",
   "execution_count": 31,
   "metadata": {
    "colab": {
     "base_uri": "https://localhost:8080/",
     "height": 1000
    },
    "colab_type": "code",
    "id": "jD_8are73oJI",
    "outputId": "5a8e73ff-c1e5-497e-a18e-c78bac150324"
   },
   "outputs": [
    {
     "name": "stderr",
     "output_type": "stream",
     "text": [
      "Predicting Images: (100%): : 310it [01:43,  2.99it/s]\n"
     ]
    },
    {
     "data": {
      "image/png": "[encoded data removed]",
      "text/plain": [
       "<Figure size 432x288 with 1 Axes>"
      ]
     },
     "metadata": {
      "needs_background": "light",
      "tags": []
     },
     "output_type": "display_data"
    },
    {
     "data": {
      "image/png": "[encoded data removed]",
      "text/plain": [
       "<Figure size 432x288 with 1 Axes>"
      ]
     },
     "metadata": {
      "needs_background": "light",
      "tags": []
     },
     "output_type": "display_data"
    },
    {
     "data": {
      "image/png": "[encoded data removed]",
      "text/plain": [
       "<Figure size 432x288 with 1 Axes>"
      ]
     },
     "metadata": {
      "needs_background": "light",
      "tags": []
     },
     "output_type": "display_data"
    },
    {
     "name": "stderr",
     "output_type": "stream",
     "text": [
      "Predicting Images: (97%): : 32it [00:11,  2.90it/s]\n"
     ]
    },
    {
     "data": {
      "image/png": "[encoded data removed]",
      "text/plain": [
       "<Figure size 432x288 with 1 Axes>"
      ]
     },
     "metadata": {
      "needs_background": "light",
      "tags": []
     },
     "output_type": "display_data"
    },
    {
     "data": {
      "image/png": "[encoded data removed]",
      "text/plain": [
       "<Figure size 432x288 with 1 Axes>"
      ]
     },
     "metadata": {
      "needs_background": "light",
      "tags": []
     },
     "output_type": "display_data"
    },
    {
     "data": {
      "image/png": "[encoded data removed]",
      "text/plain": [
       "<Figure size 432x288 with 1 Axes>"
      ]
     },
     "metadata": {
      "needs_background": "light",
      "tags": []
     },
     "output_type": "display_data"
    }
   ],
   "source": [
    "# Loading Model\n",
    "res18.load_state_dict(torch.load('./gdrive/My Drive/Assignments/Deep Learning/Assignment 5/Part 2 Weights/res18_BCE_loss.pth',map_location=device))\n",
    "\n",
    "yt,yp = predict_images(trainloader,res18)\n",
    "cm = multilabel_confusion_matrix(yt,yp)\n",
    "\n",
    "sns.heatmap(pd.DataFrame(cm[0],['N + P','Covid-19'],['N + P','Covid-19']), annot=True, fmt='g', cbar=False)\n",
    "plt.title('Confusion Matrix for Training Data')\n",
    "plt.xlabel('Predicted Labels')\n",
    "plt.ylabel('Actual Labels')\n",
    "plt.xlim(reversed(plt.xlim()))\n",
    "plt.show()\n",
    "\n",
    "sns.heatmap(pd.DataFrame(cm[1],['N + C','Pneumonia'],['N + C','Pneumonia']), annot=True, fmt='g', cbar=False)\n",
    "plt.title('Confusion Matrix for Training Data')\n",
    "plt.xlabel('Predicted Labels')\n",
    "plt.ylabel('Actual Labels')\n",
    "plt.xlim(reversed(plt.xlim()))\n",
    "plt.show()\n",
    "\n",
    "sns.heatmap(pd.DataFrame(cm[2],['P + C','Normal'],['P + C','Normal']), annot=True, fmt='g', cbar=False)\n",
    "plt.title('Confusion Matrix for Training Data')\n",
    "plt.xlabel('Predicted Labels')\n",
    "plt.ylabel('Actual Labels')\n",
    "plt.xlim(reversed(plt.xlim()))\n",
    "plt.show()\n",
    "\n",
    "yt,yp = predict_images(validationloader,res18)\n",
    "cm = multilabel_confusion_matrix(yt,yp)\n",
    "\n",
    "sns.heatmap(pd.DataFrame(cm[0],['N + P','Covid-19'],['N + P','Covid-19']), annot=True, fmt='g', cbar=False)\n",
    "plt.title('Confusion Matrix for Validation Data')\n",
    "plt.xlabel('Predicted Labels')\n",
    "plt.ylabel('Actual Labels')\n",
    "plt.xlim(reversed(plt.xlim()))\n",
    "plt.show()\n",
    "\n",
    "sns.heatmap(pd.DataFrame(cm[1],['N + C','Pneumonia'],['N + C','Pneumonia']), annot=True, fmt='g', cbar=False)\n",
    "plt.title('Confusion Matrix for Validation Data')\n",
    "plt.xlabel('Predicted Labels')\n",
    "plt.ylabel('Actual Labels')\n",
    "plt.xlim(reversed(plt.xlim()))\n",
    "plt.show()\n",
    "\n",
    "sns.heatmap(pd.DataFrame(cm[2],['P + C','Normal'],['P + C','Normal']), annot=True, fmt='g', cbar=False)\n",
    "plt.title('Confusion Matrix for Validation Data')\n",
    "plt.xlabel('Predicted Labels')\n",
    "plt.ylabel('Actual Labels')\n",
    "plt.xlim(reversed(plt.xlim()))\n",
    "plt.show()"
   ]
  },
  {
   "cell_type": "markdown",
   "metadata": {
    "colab_type": "text",
    "id": "cYSuPzHISWAw"
   },
   "source": [
    "#### Classifying Unlabeled Test Data"
   ]
  },
  {
   "cell_type": "code",
   "execution_count": 33,
   "metadata": {
    "colab": {
     "base_uri": "https://localhost:8080/",
     "height": 37
    },
    "colab_type": "code",
    "id": "uYLIWn-XSWA1",
    "outputId": "fbab446a-172f-414b-f6e7-b20309610081"
   },
   "outputs": [
    {
     "name": "stderr",
     "output_type": "stream",
     "text": [
      "Predicting Images: (97%): : 32it [00:10,  2.98it/s]\n"
     ]
    }
   ],
   "source": [
    "_,tp = predict_images(testloader,res18)\n",
    "df =  pd.DataFrame(onehot(tp,[0,1,2]).tolist()).astype(int)\n",
    "df.columns = ['Covid-19','Pneumonia','Normal']\n",
    "df.index = image_names"
   ]
  },
  {
   "cell_type": "code",
   "execution_count": 34,
   "metadata": {
    "colab": {
     "base_uri": "https://localhost:8080/",
     "height": 76
    },
    "colab_type": "code",
    "id": "mIVME_2TSWBL",
    "outputId": "b00e577b-9edb-4072-95b2-61252f0f7610"
   },
   "outputs": [
    {
     "name": "stdout",
     "output_type": "stream",
     "text": [
      "Model has predicted  25  X-Ray images of covid-19 infected people.\n",
      "Model has predicted  212  X-Ray images of Pneumonia infected people including covid-19 as covid-19 is also a type of Pneumonia.\n",
      "Model has predicted  417  X-Ray images of normal people.\n"
     ]
    }
   ],
   "source": [
    "print('Model has predicted ',df[df['Covid-19']==1].count()[0],' X-Ray images of covid-19 infected people.')\n",
    "print('Model has predicted ',df[df['Pneumonia']==1].count()[0],' X-Ray images of Pneumonia infected people including covid-19 as covid-19 is also a type of Pneumonia.')\n",
    "print('Model has predicted ',df[df['Normal']==1].count()[0],' X-Ray images of normal people.')"
   ]
  },
  {
   "cell_type": "code",
   "execution_count": 35,
   "metadata": {
    "colab": {
     "base_uri": "https://localhost:8080/",
     "height": 364
    },
    "colab_type": "code",
    "id": "yUfEPE0HbLTc",
    "outputId": "42213f64-f2ca-44ab-8e5c-55663555083c"
   },
   "outputs": [
    {
     "data": {
      "text/html": [
       "<div>\n",
       "<style scoped>\n",
       "    .dataframe tbody tr th:only-of-type {\n",
       "        vertical-align: middle;\n",
       "    }\n",
       "\n",
       "    .dataframe tbody tr th {\n",
       "        vertical-align: top;\n",
       "    }\n",
       "\n",
       "    .dataframe thead th {\n",
       "        text-align: right;\n",
       "    }\n",
       "</style>\n",
       "<table border=\"1\" class=\"dataframe\">\n",
       "  <thead>\n",
       "    <tr style=\"text-align: right;\">\n",
       "      <th></th>\n",
       "      <th>Covid-19</th>\n",
       "      <th>Pneumonia</th>\n",
       "      <th>Normal</th>\n",
       "    </tr>\n",
       "  </thead>\n",
       "  <tbody>\n",
       "    <tr>\n",
       "      <th>0</th>\n",
       "      <td>0</td>\n",
       "      <td>0</td>\n",
       "      <td>1</td>\n",
       "    </tr>\n",
       "    <tr>\n",
       "      <th>1</th>\n",
       "      <td>0</td>\n",
       "      <td>0</td>\n",
       "      <td>1</td>\n",
       "    </tr>\n",
       "    <tr>\n",
       "      <th>10</th>\n",
       "      <td>0</td>\n",
       "      <td>0</td>\n",
       "      <td>1</td>\n",
       "    </tr>\n",
       "    <tr>\n",
       "      <th>100</th>\n",
       "      <td>0</td>\n",
       "      <td>0</td>\n",
       "      <td>1</td>\n",
       "    </tr>\n",
       "    <tr>\n",
       "      <th>101</th>\n",
       "      <td>0</td>\n",
       "      <td>0</td>\n",
       "      <td>1</td>\n",
       "    </tr>\n",
       "    <tr>\n",
       "      <th>102</th>\n",
       "      <td>0</td>\n",
       "      <td>0</td>\n",
       "      <td>1</td>\n",
       "    </tr>\n",
       "    <tr>\n",
       "      <th>103</th>\n",
       "      <td>0</td>\n",
       "      <td>0</td>\n",
       "      <td>1</td>\n",
       "    </tr>\n",
       "    <tr>\n",
       "      <th>104</th>\n",
       "      <td>0</td>\n",
       "      <td>1</td>\n",
       "      <td>0</td>\n",
       "    </tr>\n",
       "    <tr>\n",
       "      <th>105</th>\n",
       "      <td>1</td>\n",
       "      <td>1</td>\n",
       "      <td>0</td>\n",
       "    </tr>\n",
       "    <tr>\n",
       "      <th>106</th>\n",
       "      <td>0</td>\n",
       "      <td>0</td>\n",
       "      <td>1</td>\n",
       "    </tr>\n",
       "  </tbody>\n",
       "</table>\n",
       "</div>"
      ],
      "text/plain": [
       "     Covid-19  Pneumonia  Normal\n",
       "0           0          0       1\n",
       "1           0          0       1\n",
       "10          0          0       1\n",
       "100         0          0       1\n",
       "101         0          0       1\n",
       "102         0          0       1\n",
       "103         0          0       1\n",
       "104         0          1       0\n",
       "105         1          1       0\n",
       "106         0          0       1"
      ]
     },
     "execution_count": 35,
     "metadata": {
      "tags": []
     },
     "output_type": "execute_result"
    }
   ],
   "source": [
    "df.head(10)"
   ]
  },
  {
   "cell_type": "code",
   "execution_count": 0,
   "metadata": {
    "colab": {},
    "colab_type": "code",
    "id": "7EYPdR5BSWBZ"
   },
   "outputs": [],
   "source": [
    "df.to_csv('./gdrive/My Drive/weights/res18_BCE_loss.csv',header=False)"
   ]
  },
  {
   "cell_type": "markdown",
   "metadata": {
    "colab_type": "text",
    "id": "F2Nfzf31bhII"
   },
   "source": [
    "## Task 2"
   ]
  },
  {
   "cell_type": "markdown",
   "metadata": {
    "colab_type": "text",
    "id": "rRVob3sVbhIP"
   },
   "source": [
    "### VGG-16"
   ]
  },
  {
   "cell_type": "markdown",
   "metadata": {
    "colab_type": "text",
    "id": "xxIdxWdIbhIV"
   },
   "source": [
    "#### Loading Model"
   ]
  },
  {
   "cell_type": "code",
   "execution_count": 37,
   "metadata": {
    "colab": {
     "base_uri": "https://localhost:8080/",
     "height": 841
    },
    "colab_type": "code",
    "id": "OwmNbGnAbhIb",
    "outputId": "57012f0c-e444-4898-be60-1c9ce241e555"
   },
   "outputs": [
    {
     "name": "stdout",
     "output_type": "stream",
     "text": [
      "VGG(\n",
      "  (features): Sequential(\n",
      "    (0): Conv2d(3, 64, kernel_size=(3, 3), stride=(1, 1), padding=(1, 1))\n",
      "    (1): ReLU(inplace=True)\n",
      "    (2): Conv2d(64, 64, kernel_size=(3, 3), stride=(1, 1), padding=(1, 1))\n",
      "    (3): ReLU(inplace=True)\n",
      "    (4): MaxPool2d(kernel_size=2, stride=2, padding=0, dilation=1, ceil_mode=False)\n",
      "    (5): Conv2d(64, 128, kernel_size=(3, 3), stride=(1, 1), padding=(1, 1))\n",
      "    (6): ReLU(inplace=True)\n",
      "    (7): Conv2d(128, 128, kernel_size=(3, 3), stride=(1, 1), padding=(1, 1))\n",
      "    (8): ReLU(inplace=True)\n",
      "    (9): MaxPool2d(kernel_size=2, stride=2, padding=0, dilation=1, ceil_mode=False)\n",
      "    (10): Conv2d(128, 256, kernel_size=(3, 3), stride=(1, 1), padding=(1, 1))\n",
      "    (11): ReLU(inplace=True)\n",
      "    (12): Conv2d(256, 256, kernel_size=(3, 3), stride=(1, 1), padding=(1, 1))\n",
      "    (13): ReLU(inplace=True)\n",
      "    (14): Conv2d(256, 256, kernel_size=(3, 3), stride=(1, 1), padding=(1, 1))\n",
      "    (15): ReLU(inplace=True)\n",
      "    (16): MaxPool2d(kernel_size=2, stride=2, padding=0, dilation=1, ceil_mode=False)\n",
      "    (17): Conv2d(256, 512, kernel_size=(3, 3), stride=(1, 1), padding=(1, 1))\n",
      "    (18): ReLU(inplace=True)\n",
      "    (19): Conv2d(512, 512, kernel_size=(3, 3), stride=(1, 1), padding=(1, 1))\n",
      "    (20): ReLU(inplace=True)\n",
      "    (21): Conv2d(512, 512, kernel_size=(3, 3), stride=(1, 1), padding=(1, 1))\n",
      "    (22): ReLU(inplace=True)\n",
      "    (23): MaxPool2d(kernel_size=2, stride=2, padding=0, dilation=1, ceil_mode=False)\n",
      "    (24): Conv2d(512, 512, kernel_size=(3, 3), stride=(1, 1), padding=(1, 1))\n",
      "    (25): ReLU(inplace=True)\n",
      "    (26): Conv2d(512, 512, kernel_size=(3, 3), stride=(1, 1), padding=(1, 1))\n",
      "    (27): ReLU(inplace=True)\n",
      "    (28): Conv2d(512, 512, kernel_size=(3, 3), stride=(1, 1), padding=(1, 1))\n",
      "    (29): ReLU(inplace=True)\n",
      "    (30): MaxPool2d(kernel_size=2, stride=2, padding=0, dilation=1, ceil_mode=False)\n",
      "  )\n",
      "  (avgpool): AdaptiveAvgPool2d(output_size=(7, 7))\n",
      "  (classifier): Sequential(\n",
      "    (0): Linear(in_features=25088, out_features=1024, bias=True)\n",
      "    (1): ReLU(inplace=True)\n",
      "    (2): Dropout(p=0.5, inplace=False)\n",
      "    (3): Linear(in_features=1024, out_features=3, bias=True)\n",
      "  )\n",
      ")\n"
     ]
    }
   ],
   "source": [
    "vgg16 = models.vgg16(pretrained=True)\n",
    "features = []\n",
    "num_features = 1024\n",
    "num_classes = 3\n",
    "features.extend([nn.Linear(25088, num_features)])\n",
    "features.extend([nn.ReLU(inplace=True)])\n",
    "features.extend([nn.Dropout()])\n",
    "features.extend([nn.Linear(num_features, num_classes)])\n",
    "vgg16.classifier = nn.Sequential(*features)\n",
    "print(vgg16)"
   ]
  },
  {
   "cell_type": "code",
   "execution_count": 0,
   "metadata": {
    "colab": {
     "base_uri": "https://localhost:8080/",
     "height": 683
    },
    "colab_type": "code",
    "id": "k1hK8h46bhIy",
    "outputId": "b76a8fe6-4f28-47c1-b035-f1ae90bd6785"
   },
   "outputs": [
    {
     "name": "stdout",
     "output_type": "stream",
     "text": [
      "Following Parameters/Features are freezed:\n",
      "\n",
      "Following Parameters/Features will be trained:\n",
      "features.0.weight\n",
      "features.0.bias\n",
      "features.2.weight\n",
      "features.2.bias\n",
      "features.5.weight\n",
      "features.5.bias\n",
      "features.7.weight\n",
      "features.7.bias\n",
      "features.10.weight\n",
      "features.10.bias\n",
      "features.12.weight\n",
      "features.12.bias\n",
      "features.14.weight\n",
      "features.14.bias\n",
      "features.17.weight\n",
      "features.17.bias\n",
      "features.19.weight\n",
      "features.19.bias\n",
      "features.21.weight\n",
      "features.21.bias\n",
      "features.24.weight\n",
      "features.24.bias\n",
      "features.26.weight\n",
      "features.26.bias\n",
      "features.28.weight\n",
      "features.28.bias\n",
      "classifier.0.weight\n",
      "classifier.0.bias\n",
      "classifier.3.weight\n",
      "classifier.3.bias\n"
     ]
    }
   ],
   "source": [
    "print('Following Parameters/Features are freezed:')\n",
    "for name, param in vgg16.named_parameters():\n",
    "    if param.requires_grad==False:\n",
    "        print(name)\n",
    "print('\\nFollowing Parameters/Features will be trained:')\n",
    "for name, param in vgg16.named_parameters():\n",
    "    if param.requires_grad==True:\n",
    "        print(name)"
   ]
  },
  {
   "cell_type": "markdown",
   "metadata": {
    "colab_type": "text",
    "id": "N6vsydknbhJU"
   },
   "source": [
    "#### Training Model"
   ]
  },
  {
   "cell_type": "code",
   "execution_count": 0,
   "metadata": {
    "colab": {
     "base_uri": "https://localhost:8080/",
     "height": 1000
    },
    "colab_type": "code",
    "id": "FZer3dsnbhJa",
    "outputId": "6b519f58-0a20-489e-f4ce-57473fea41d9"
   },
   "outputs": [
    {
     "name": "stderr",
     "output_type": "stream",
     "text": [
      "Training Epoch: 1, Loss 0.8124152421951294,(100%): : 310it [03:47,  1.36it/s]"
     ]
    },
    {
     "name": "stdout",
     "output_type": "stream",
     "text": [
      "\n",
      "For training data\n"
     ]
    },
    {
     "name": "stderr",
     "output_type": "stream",
     "text": [
      "\n",
      "Calculating Accuracy and Loss: (100%): : 310it [01:55,  2.68it/s]"
     ]
    },
    {
     "name": "stdout",
     "output_type": "stream",
     "text": [
      "\n",
      "For validation data\n"
     ]
    },
    {
     "name": "stderr",
     "output_type": "stream",
     "text": [
      "\n",
      "Calculating Accuracy and Loss: (97%): : 32it [00:13,  2.38it/s]"
     ]
    },
    {
     "name": "stdout",
     "output_type": "stream",
     "text": [
      "\n",
      "Training Accuracy =  83.75806451612902 \n",
      "Training Loss =  1.0770692439809921 \n",
      "Validation Accuracy =  83.7579617834395 \n",
      "Validation Loss =  1.3071425817906857 \n",
      "\n"
     ]
    },
    {
     "name": "stderr",
     "output_type": "stream",
     "text": [
      "\n",
      "Training Epoch: 2, Loss 0.7962868213653564,(100%): : 310it [03:46,  1.37it/s]"
     ]
    },
    {
     "name": "stdout",
     "output_type": "stream",
     "text": [
      "\n",
      "For training data\n"
     ]
    },
    {
     "name": "stderr",
     "output_type": "stream",
     "text": [
      "\n",
      "Calculating Accuracy and Loss: (100%): : 310it [01:56,  2.66it/s]"
     ]
    },
    {
     "name": "stdout",
     "output_type": "stream",
     "text": [
      "\n",
      "For validation data\n"
     ]
    },
    {
     "name": "stderr",
     "output_type": "stream",
     "text": [
      "\n",
      "Calculating Accuracy and Loss: (97%): : 32it [00:13,  2.42it/s]"
     ]
    },
    {
     "name": "stdout",
     "output_type": "stream",
     "text": [
      "\n",
      "Training Accuracy =  87.53225806451613 \n",
      "Training Loss =  0.8626217940641988 \n",
      "Validation Accuracy =  85.828025477707 \n",
      "Validation Loss =  1.0323983617126942 \n",
      "\n"
     ]
    },
    {
     "name": "stderr",
     "output_type": "stream",
     "text": [
      "\n",
      "Training Epoch: 3, Loss 1.2276020050048828,(100%): : 310it [03:48,  1.36it/s]"
     ]
    },
    {
     "name": "stdout",
     "output_type": "stream",
     "text": [
      "\n",
      "For training data\n"
     ]
    },
    {
     "name": "stderr",
     "output_type": "stream",
     "text": [
      "\n",
      "Calculating Accuracy and Loss: (100%): : 310it [01:54,  2.72it/s]"
     ]
    },
    {
     "name": "stdout",
     "output_type": "stream",
     "text": [
      "\n",
      "For validation data\n"
     ]
    },
    {
     "name": "stderr",
     "output_type": "stream",
     "text": [
      "\n",
      "Calculating Accuracy and Loss: (97%): : 32it [00:13,  2.39it/s]"
     ]
    },
    {
     "name": "stdout",
     "output_type": "stream",
     "text": [
      "\n",
      "Training Accuracy =  88.38709677419355 \n",
      "Training Loss =  0.8759723205239542 \n",
      "Validation Accuracy =  88.05732484076432 \n",
      "Validation Loss =  1.1941826436668634 \n",
      "\n"
     ]
    },
    {
     "name": "stderr",
     "output_type": "stream",
     "text": [
      "\n",
      "Training Epoch: 4, Loss 0.5864930748939514,(100%): : 310it [03:48,  1.36it/s]"
     ]
    },
    {
     "name": "stdout",
     "output_type": "stream",
     "text": [
      "\n",
      "For training data\n"
     ]
    },
    {
     "name": "stderr",
     "output_type": "stream",
     "text": [
      "\n",
      "Calculating Accuracy and Loss: (100%): : 310it [01:53,  2.74it/s]"
     ]
    },
    {
     "name": "stdout",
     "output_type": "stream",
     "text": [
      "\n",
      "For validation data\n"
     ]
    },
    {
     "name": "stderr",
     "output_type": "stream",
     "text": [
      "\n",
      "Calculating Accuracy and Loss: (97%): : 32it [00:12,  2.46it/s]\n"
     ]
    },
    {
     "name": "stdout",
     "output_type": "stream",
     "text": [
      "\n",
      "Training Accuracy =  90.1774193548387 \n",
      "Training Loss =  1.2174051814862796 \n",
      "Validation Accuracy =  89.01273885350318 \n",
      "Validation Loss =  1.7592867174535058 \n",
      "\n"
     ]
    },
    {
     "name": "stderr",
     "output_type": "stream",
     "text": [
      "Training Epoch: 5, Loss 1.3338277339935303,(100%): : 310it [03:46,  1.37it/s]"
     ]
    },
    {
     "name": "stdout",
     "output_type": "stream",
     "text": [
      "\n",
      "For training data\n"
     ]
    },
    {
     "name": "stderr",
     "output_type": "stream",
     "text": [
      "\n",
      "Calculating Accuracy and Loss: (100%): : 310it [01:54,  2.72it/s]"
     ]
    },
    {
     "name": "stdout",
     "output_type": "stream",
     "text": [
      "\n",
      "For validation data\n"
     ]
    },
    {
     "name": "stderr",
     "output_type": "stream",
     "text": [
      "\n",
      "Calculating Accuracy and Loss: (97%): : 32it [00:13,  2.30it/s]\n"
     ]
    },
    {
     "name": "stdout",
     "output_type": "stream",
     "text": [
      "\n",
      "Training Accuracy =  84.41935483870968 \n",
      "Training Loss =  0.9228567391633987 \n",
      "Validation Accuracy =  84.55414012738854 \n",
      "Validation Loss =  0.9744645771570504 \n",
      "\n"
     ]
    },
    {
     "name": "stderr",
     "output_type": "stream",
     "text": [
      "Training Epoch: 6, Loss 1.270317792892456,(100%): : 310it [03:47,  1.36it/s]"
     ]
    },
    {
     "name": "stdout",
     "output_type": "stream",
     "text": [
      "\n",
      "For training data\n"
     ]
    },
    {
     "name": "stderr",
     "output_type": "stream",
     "text": [
      "\n",
      "Calculating Accuracy and Loss: (100%): : 310it [01:56,  2.66it/s]"
     ]
    },
    {
     "name": "stdout",
     "output_type": "stream",
     "text": [
      "\n",
      "For validation data\n"
     ]
    },
    {
     "name": "stderr",
     "output_type": "stream",
     "text": [
      "\n",
      "Calculating Accuracy and Loss: (97%): : 32it [00:13,  2.36it/s]"
     ]
    },
    {
     "name": "stdout",
     "output_type": "stream",
     "text": [
      "\n",
      "Training Accuracy =  91.11290322580645 \n",
      "Training Loss =  0.6078647959857217 \n",
      "Validation Accuracy =  90.28662420382165 \n",
      "Validation Loss =  0.8178675028029829 \n",
      "\n"
     ]
    },
    {
     "name": "stderr",
     "output_type": "stream",
     "text": [
      "\n",
      "Training Epoch: 7, Loss 0.6553666591644287,(100%): : 310it [03:47,  1.36it/s]"
     ]
    },
    {
     "name": "stdout",
     "output_type": "stream",
     "text": [
      "\n",
      "For training data\n"
     ]
    },
    {
     "name": "stderr",
     "output_type": "stream",
     "text": [
      "\n",
      "Calculating Accuracy and Loss: (100%): : 310it [01:55,  2.68it/s]"
     ]
    },
    {
     "name": "stdout",
     "output_type": "stream",
     "text": [
      "\n",
      "For validation data\n"
     ]
    },
    {
     "name": "stderr",
     "output_type": "stream",
     "text": [
      "\n",
      "Calculating Accuracy and Loss: (97%): : 32it [00:13,  2.36it/s]"
     ]
    },
    {
     "name": "stdout",
     "output_type": "stream",
     "text": [
      "\n",
      "Training Accuracy =  89.01612903225806 \n",
      "Training Loss =  0.6949908657420066 \n",
      "Validation Accuracy =  89.64968152866241 \n",
      "Validation Loss =  0.8091058097779751 \n",
      "\n"
     ]
    },
    {
     "name": "stderr",
     "output_type": "stream",
     "text": [
      "\n",
      "Training Epoch: 8, Loss 0.6489510536193848,(100%): : 310it [03:46,  1.37it/s]"
     ]
    },
    {
     "name": "stdout",
     "output_type": "stream",
     "text": [
      "\n",
      "For training data\n"
     ]
    },
    {
     "name": "stderr",
     "output_type": "stream",
     "text": [
      "\n",
      "Calculating Accuracy and Loss: (100%): : 310it [01:54,  2.71it/s]"
     ]
    },
    {
     "name": "stdout",
     "output_type": "stream",
     "text": [
      "\n",
      "For validation data\n"
     ]
    },
    {
     "name": "stderr",
     "output_type": "stream",
     "text": [
      "\n",
      "Calculating Accuracy and Loss: (97%): : 32it [00:13,  2.43it/s]"
     ]
    },
    {
     "name": "stdout",
     "output_type": "stream",
     "text": [
      "\n",
      "Training Accuracy =  91.8225806451613 \n",
      "Training Loss =  0.5815998299467948 \n",
      "Validation Accuracy =  91.0828025477707 \n",
      "Validation Loss =  0.9086532148066908 \n",
      "\n"
     ]
    },
    {
     "name": "stderr",
     "output_type": "stream",
     "text": [
      "\n",
      "Training Epoch: 9, Loss 0.5842135548591614,(100%): : 310it [03:47,  1.37it/s]"
     ]
    },
    {
     "name": "stdout",
     "output_type": "stream",
     "text": [
      "\n",
      "For training data\n"
     ]
    },
    {
     "name": "stderr",
     "output_type": "stream",
     "text": [
      "\n",
      "Calculating Accuracy and Loss: (100%): : 310it [01:53,  2.74it/s]"
     ]
    },
    {
     "name": "stdout",
     "output_type": "stream",
     "text": [
      "\n",
      "For validation data\n"
     ]
    },
    {
     "name": "stderr",
     "output_type": "stream",
     "text": [
      "\n",
      "Calculating Accuracy and Loss: (97%): : 32it [00:13,  2.31it/s]"
     ]
    },
    {
     "name": "stdout",
     "output_type": "stream",
     "text": [
      "\n",
      "Training Accuracy =  92.40322580645162 \n",
      "Training Loss =  0.47562495524123793 \n",
      "Validation Accuracy =  90.76433121019109 \n",
      "Validation Loss =  0.849643399589695 \n",
      "\n"
     ]
    },
    {
     "name": "stderr",
     "output_type": "stream",
     "text": [
      "\n",
      "Training Epoch: 10, Loss 0.12838420271873474,(100%): : 310it [03:46,  1.37it/s]"
     ]
    },
    {
     "name": "stdout",
     "output_type": "stream",
     "text": [
      "\n",
      "For training data\n"
     ]
    },
    {
     "name": "stderr",
     "output_type": "stream",
     "text": [
      "\n",
      "Calculating Accuracy and Loss: (100%): : 310it [01:54,  2.71it/s]"
     ]
    },
    {
     "name": "stdout",
     "output_type": "stream",
     "text": [
      "\n",
      "For validation data\n"
     ]
    },
    {
     "name": "stderr",
     "output_type": "stream",
     "text": [
      "\n",
      "Calculating Accuracy and Loss: (97%): : 32it [00:13,  2.45it/s]\n"
     ]
    },
    {
     "name": "stdout",
     "output_type": "stream",
     "text": [
      "\n",
      "Training Accuracy =  92.75806451612904 \n",
      "Training Loss =  0.4202032549967689 \n",
      "Validation Accuracy =  90.92356687898089 \n",
      "Validation Loss =  0.9166907694889233 \n",
      "\n"
     ]
    },
    {
     "name": "stderr",
     "output_type": "stream",
     "text": [
      "Training Epoch: 11, Loss 0.3900282382965088,(100%): : 310it [03:46,  1.37it/s]"
     ]
    },
    {
     "name": "stdout",
     "output_type": "stream",
     "text": [
      "\n",
      "For training data\n"
     ]
    },
    {
     "name": "stderr",
     "output_type": "stream",
     "text": [
      "\n",
      "Calculating Accuracy and Loss: (100%): : 310it [01:52,  2.75it/s]"
     ]
    },
    {
     "name": "stdout",
     "output_type": "stream",
     "text": [
      "\n",
      "For validation data\n"
     ]
    },
    {
     "name": "stderr",
     "output_type": "stream",
     "text": [
      "\n",
      "Calculating Accuracy and Loss: (97%): : 32it [00:13,  2.42it/s]\n"
     ]
    },
    {
     "name": "stdout",
     "output_type": "stream",
     "text": [
      "\n",
      "Training Accuracy =  94.83870967741936 \n",
      "Training Loss =  0.40086006960501114 \n",
      "Validation Accuracy =  93.15286624203821 \n",
      "Validation Loss =  0.9959052347112447 \n",
      "\n"
     ]
    },
    {
     "name": "stderr",
     "output_type": "stream",
     "text": [
      "Training Epoch: 12, Loss 0.08012895286083221,(100%): : 310it [03:46,  1.37it/s]"
     ]
    },
    {
     "name": "stdout",
     "output_type": "stream",
     "text": [
      "\n",
      "For training data\n"
     ]
    },
    {
     "name": "stderr",
     "output_type": "stream",
     "text": [
      "\n",
      "Calculating Accuracy and Loss: (100%): : 310it [01:54,  2.72it/s]"
     ]
    },
    {
     "name": "stdout",
     "output_type": "stream",
     "text": [
      "\n",
      "For validation data\n"
     ]
    },
    {
     "name": "stderr",
     "output_type": "stream",
     "text": [
      "\n",
      "Calculating Accuracy and Loss: (97%): : 32it [00:12,  2.48it/s]"
     ]
    },
    {
     "name": "stdout",
     "output_type": "stream",
     "text": [
      "\n",
      "Training Accuracy =  90.03225806451613 \n",
      "Training Loss =  0.9617538816505863 \n",
      "Validation Accuracy =  87.42038216560509 \n",
      "Validation Loss =  2.2764685613801703 \n",
      "\n"
     ]
    },
    {
     "name": "stderr",
     "output_type": "stream",
     "text": [
      "\n",
      "Training Epoch: 13, Loss 0.5069019198417664,(100%): : 310it [03:46,  1.37it/s]"
     ]
    },
    {
     "name": "stdout",
     "output_type": "stream",
     "text": [
      "\n",
      "For training data\n"
     ]
    },
    {
     "name": "stderr",
     "output_type": "stream",
     "text": [
      "\n",
      "Calculating Accuracy and Loss: (100%): : 310it [01:56,  2.66it/s]"
     ]
    },
    {
     "name": "stdout",
     "output_type": "stream",
     "text": [
      "\n",
      "For validation data\n"
     ]
    },
    {
     "name": "stderr",
     "output_type": "stream",
     "text": [
      "\n",
      "Calculating Accuracy and Loss: (97%): : 32it [00:14,  2.24it/s]"
     ]
    },
    {
     "name": "stdout",
     "output_type": "stream",
     "text": [
      "\n",
      "Training Accuracy =  95.04838709677419 \n",
      "Training Loss =  0.31515691918471167 \n",
      "Validation Accuracy =  92.35668789808918 \n",
      "Validation Loss =  0.9506842059054179 \n",
      "\n"
     ]
    },
    {
     "name": "stderr",
     "output_type": "stream",
     "text": [
      "\n",
      "Training Epoch: 14, Loss 0.32137247920036316,(100%): : 310it [03:46,  1.37it/s]"
     ]
    },
    {
     "name": "stdout",
     "output_type": "stream",
     "text": [
      "\n",
      "For training data\n"
     ]
    },
    {
     "name": "stderr",
     "output_type": "stream",
     "text": [
      "\n",
      "Calculating Accuracy and Loss: (100%): : 310it [01:57,  2.64it/s]"
     ]
    },
    {
     "name": "stdout",
     "output_type": "stream",
     "text": [
      "\n",
      "For validation data\n"
     ]
    },
    {
     "name": "stderr",
     "output_type": "stream",
     "text": [
      "\n",
      "Calculating Accuracy and Loss: (97%): : 32it [00:13,  2.43it/s]"
     ]
    },
    {
     "name": "stdout",
     "output_type": "stream",
     "text": [
      "\n",
      "Training Accuracy =  94.11290322580645 \n",
      "Training Loss =  0.47011126938065695 \n",
      "Validation Accuracy =  92.03821656050955 \n",
      "Validation Loss =  1.5724721958686132 \n",
      "\n"
     ]
    },
    {
     "name": "stderr",
     "output_type": "stream",
     "text": [
      "\n",
      "Training Epoch: 15, Loss 0.5621188282966614,(100%): : 310it [03:46,  1.37it/s]"
     ]
    },
    {
     "name": "stdout",
     "output_type": "stream",
     "text": [
      "\n",
      "For training data\n"
     ]
    },
    {
     "name": "stderr",
     "output_type": "stream",
     "text": [
      "\n",
      "Calculating Accuracy and Loss: (100%): : 310it [01:55,  2.67it/s]"
     ]
    },
    {
     "name": "stdout",
     "output_type": "stream",
     "text": [
      "\n",
      "For validation data\n"
     ]
    },
    {
     "name": "stderr",
     "output_type": "stream",
     "text": [
      "\n",
      "Calculating Accuracy and Loss: (97%): : 32it [00:14,  2.24it/s]\n"
     ]
    },
    {
     "name": "stdout",
     "output_type": "stream",
     "text": [
      "\n",
      "Training Accuracy =  90.88709677419354 \n",
      "Training Loss =  0.49327995486317144 \n",
      "Validation Accuracy =  86.78343949044586 \n",
      "Validation Loss =  0.9205939429812133 \n",
      "\n"
     ]
    },
    {
     "name": "stderr",
     "output_type": "stream",
     "text": [
      "Training Epoch: 16, Loss 0.7323592901229858,(100%): : 310it [03:46,  1.37it/s]"
     ]
    },
    {
     "name": "stdout",
     "output_type": "stream",
     "text": [
      "\n",
      "For training data\n"
     ]
    },
    {
     "name": "stderr",
     "output_type": "stream",
     "text": [
      "\n",
      "Calculating Accuracy and Loss: (100%): : 310it [01:55,  2.68it/s]"
     ]
    },
    {
     "name": "stdout",
     "output_type": "stream",
     "text": [
      "\n",
      "For validation data\n"
     ]
    },
    {
     "name": "stderr",
     "output_type": "stream",
     "text": [
      "\n",
      "Calculating Accuracy and Loss: (97%): : 32it [00:13,  2.37it/s]"
     ]
    },
    {
     "name": "stdout",
     "output_type": "stream",
     "text": [
      "\n",
      "Training Accuracy =  95.90322580645162 \n",
      "Training Loss =  0.2832811215291581 \n",
      "Validation Accuracy =  92.67515923566879 \n",
      "Validation Loss =  1.0359940336202271 \n",
      "\n"
     ]
    },
    {
     "name": "stderr",
     "output_type": "stream",
     "text": [
      "\n",
      "Training Epoch: 17, Loss 0.20157401263713837,(100%): : 310it [03:46,  1.37it/s]"
     ]
    },
    {
     "name": "stdout",
     "output_type": "stream",
     "text": [
      "\n",
      "For training data\n"
     ]
    },
    {
     "name": "stderr",
     "output_type": "stream",
     "text": [
      "\n",
      "Calculating Accuracy and Loss: (100%): : 310it [02:01,  2.54it/s]"
     ]
    },
    {
     "name": "stdout",
     "output_type": "stream",
     "text": [
      "\n",
      "For validation data\n"
     ]
    },
    {
     "name": "stderr",
     "output_type": "stream",
     "text": [
      "\n",
      "Calculating Accuracy and Loss: (97%): : 32it [00:14,  2.23it/s]"
     ]
    },
    {
     "name": "stdout",
     "output_type": "stream",
     "text": [
      "\n",
      "Training Accuracy =  96.48387096774194 \n",
      "Training Loss =  0.2554211599752307 \n",
      "Validation Accuracy =  93.15286624203821 \n",
      "Validation Loss =  0.8354194115381688 \n",
      "\n"
     ]
    },
    {
     "name": "stderr",
     "output_type": "stream",
     "text": [
      "\n",
      "Training Epoch: 18, Loss 0.1275959312915802,(100%): : 310it [03:47,  1.36it/s]"
     ]
    },
    {
     "name": "stdout",
     "output_type": "stream",
     "text": [
      "\n",
      "For training data\n"
     ]
    },
    {
     "name": "stderr",
     "output_type": "stream",
     "text": [
      "\n",
      "Calculating Accuracy and Loss: (100%): : 310it [01:58,  2.61it/s]"
     ]
    },
    {
     "name": "stdout",
     "output_type": "stream",
     "text": [
      "\n",
      "For validation data\n"
     ]
    },
    {
     "name": "stderr",
     "output_type": "stream",
     "text": [
      "\n",
      "Calculating Accuracy and Loss: (97%): : 32it [00:14,  2.24it/s]"
     ]
    },
    {
     "name": "stdout",
     "output_type": "stream",
     "text": [
      "\n",
      "Training Accuracy =  96.30645161290322 \n",
      "Training Loss =  0.2862652813985703 \n",
      "Validation Accuracy =  94.10828025477707 \n",
      "Validation Loss =  1.4843529169738758 \n",
      "\n"
     ]
    },
    {
     "name": "stderr",
     "output_type": "stream",
     "text": [
      "\n",
      "Training Epoch: 19, Loss 0.01848282851278782,(100%): : 310it [03:46,  1.37it/s]"
     ]
    },
    {
     "name": "stdout",
     "output_type": "stream",
     "text": [
      "\n",
      "For training data\n"
     ]
    },
    {
     "name": "stderr",
     "output_type": "stream",
     "text": [
      "\n",
      "Calculating Accuracy and Loss: (100%): : 310it [01:57,  2.63it/s]"
     ]
    },
    {
     "name": "stdout",
     "output_type": "stream",
     "text": [
      "\n",
      "For validation data\n"
     ]
    },
    {
     "name": "stderr",
     "output_type": "stream",
     "text": [
      "\n",
      "Calculating Accuracy and Loss: (97%): : 32it [00:13,  2.42it/s]"
     ]
    },
    {
     "name": "stdout",
     "output_type": "stream",
     "text": [
      "\n",
      "Training Accuracy =  97.40322580645162 \n",
      "Training Loss =  0.23538593512437786 \n",
      "Validation Accuracy =  93.78980891719745 \n",
      "Validation Loss =  1.8251369035460812 \n",
      "\n"
     ]
    },
    {
     "name": "stderr",
     "output_type": "stream",
     "text": [
      "\n",
      "Training Epoch: 20, Loss 0.4222063720226288,(100%): : 310it [03:48,  1.36it/s]"
     ]
    },
    {
     "name": "stdout",
     "output_type": "stream",
     "text": [
      "\n",
      "For training data\n"
     ]
    },
    {
     "name": "stderr",
     "output_type": "stream",
     "text": [
      "\n",
      "Calculating Accuracy and Loss: (100%): : 310it [01:59,  2.59it/s]"
     ]
    },
    {
     "name": "stdout",
     "output_type": "stream",
     "text": [
      "\n",
      "For validation data\n"
     ]
    },
    {
     "name": "stderr",
     "output_type": "stream",
     "text": [
      "\n",
      "Calculating Accuracy and Loss: (97%): : 32it [00:13,  2.39it/s]\n"
     ]
    },
    {
     "name": "stdout",
     "output_type": "stream",
     "text": [
      "\n",
      "Training Accuracy =  96.74193548387096 \n",
      "Training Loss =  0.252794235358916 \n",
      "Validation Accuracy =  94.5859872611465 \n",
      "Validation Loss =  0.9756916123442352 \n",
      "\n",
      "Final Stats:\n",
      "\n",
      "                     Loss   Accuracy  Precision     Recall   F1_Score\n",
      "Training Scores  0.252794  96.741935  85.341754  96.741935  91.176544\n",
      "\n",
      "                       Loss   Accuracy  Precision     Recall   F1_Score\n",
      "Validation Scores  0.975692  94.585987  86.457649  94.585987  90.612875\n",
      "\n"
     ]
    },
    {
     "data": {
      "image/png": "[encoded data removed]",
      "text/plain": [
       "<Figure size 432x288 with 1 Axes>"
      ]
     },
     "metadata": {
      "needs_background": "light",
      "tags": []
     },
     "output_type": "display_data"
    },
    {
     "name": "stdout",
     "output_type": "stream",
     "text": [
      "\n"
     ]
    },
    {
     "data": {
      "image/png": "[encoded data removed]",
      "text/plain": [
       "<Figure size 432x288 with 1 Axes>"
      ]
     },
     "metadata": {
      "needs_background": "light",
      "tags": []
     },
     "output_type": "display_data"
    },
    {
     "name": "stdout",
     "output_type": "stream",
     "text": [
      "\n"
     ]
    },
    {
     "data": {
      "image/png": "[encoded data removed]",
      "text/plain": [
       "<Figure size 432x288 with 1 Axes>"
      ]
     },
     "metadata": {
      "needs_background": "light",
      "tags": []
     },
     "output_type": "display_data"
    },
    {
     "name": "stdout",
     "output_type": "stream",
     "text": [
      "\n"
     ]
    },
    {
     "data": {
      "image/png": "[encoded data removed]",
      "text/plain": [
       "<Figure size 432x288 with 1 Axes>"
      ]
     },
     "metadata": {
      "needs_background": "light",
      "tags": []
     },
     "output_type": "display_data"
    }
   ],
   "source": [
    "Epochs = 20\n",
    "criterion = Focal_Loss\n",
    "optimizer = optim.SGD(vgg16.parameters(), lr=0.001, momentum=0.3)\n",
    "filename = './gdrive/My Drive/weights/vgg16_focal_loss.pth'\n",
    "train_model(vgg16, Epochs,trainloader, validationloader, optimizer, criterion, filename)"
   ]
  },
  {
   "cell_type": "markdown",
   "metadata": {
    "colab_type": "text",
    "id": "lReCAQJ355Zh"
   },
   "source": [
    "### Multilabel Confusion Matrix"
   ]
  },
  {
   "cell_type": "code",
   "execution_count": 39,
   "metadata": {
    "colab": {
     "base_uri": "https://localhost:8080/",
     "height": 1000
    },
    "colab_type": "code",
    "id": "MPx9PNd155Zq",
    "outputId": "97655b32-cf83-4839-8e1a-c4a6171594f4"
   },
   "outputs": [
    {
     "name": "stderr",
     "output_type": "stream",
     "text": [
      "Predicting Images: (100%): : 310it [01:53,  2.72it/s]\n"
     ]
    },
    {
     "data": {
      "image/png": "[encoded data removed]",
      "text/plain": [
       "<Figure size 432x288 with 1 Axes>"
      ]
     },
     "metadata": {
      "needs_background": "light",
      "tags": []
     },
     "output_type": "display_data"
    },
    {
     "data": {
      "image/png": "[encoded data removed]",
      "text/plain": [
       "<Figure size 432x288 with 1 Axes>"
      ]
     },
     "metadata": {
      "needs_background": "light",
      "tags": []
     },
     "output_type": "display_data"
    },
    {
     "data": {
      "image/png": "[encoded data removed]",
      "text/plain": [
       "<Figure size 432x288 with 1 Axes>"
      ]
     },
     "metadata": {
      "needs_background": "light",
      "tags": []
     },
     "output_type": "display_data"
    },
    {
     "name": "stderr",
     "output_type": "stream",
     "text": [
      "Predicting Images: (97%): : 32it [00:13,  2.33it/s]\n"
     ]
    },
    {
     "data": {
      "image/png": "[encoded data removed]",
      "text/plain": [
       "<Figure size 432x288 with 1 Axes>"
      ]
     },
     "metadata": {
      "needs_background": "light",
      "tags": []
     },
     "output_type": "display_data"
    },
    {
     "data": {
      "image/png": "[encoded data removed]",
      "text/plain": [
       "<Figure size 432x288 with 1 Axes>"
      ]
     },
     "metadata": {
      "needs_background": "light",
      "tags": []
     },
     "output_type": "display_data"
    },
    {
     "data": {
      "image/png": "[encoded data removed]",
      "text/plain": [
       "<Figure size 432x288 with 1 Axes>"
      ]
     },
     "metadata": {
      "needs_background": "light",
      "tags": []
     },
     "output_type": "display_data"
    }
   ],
   "source": [
    "# Loading Model\n",
    "vgg16.load_state_dict(torch.load('./gdrive/My Drive/Assignments/Deep Learning/Assignment 5/Part 2 Weights/vgg16_focal_loss.pth',map_location=device))\n",
    "\n",
    "yt,yp = predict_images(trainloader,vgg16)\n",
    "cm = multilabel_confusion_matrix(yt,yp)\n",
    "\n",
    "sns.heatmap(pd.DataFrame(cm[0],['N + P','Covid-19'],['N + P','Covid-19']), annot=True, fmt='g', cbar=False)\n",
    "plt.title('Confusion Matrix for Training Data')\n",
    "plt.xlabel('Predicted Labels')\n",
    "plt.ylabel('Actual Labels')\n",
    "plt.xlim(reversed(plt.xlim()))\n",
    "plt.show()\n",
    "\n",
    "sns.heatmap(pd.DataFrame(cm[1],['N + C','Pneumonia'],['N + C','Pneumonia']), annot=True, fmt='g', cbar=False)\n",
    "plt.title('Confusion Matrix for Training Data')\n",
    "plt.xlabel('Predicted Labels')\n",
    "plt.ylabel('Actual Labels')\n",
    "plt.xlim(reversed(plt.xlim()))\n",
    "plt.show()\n",
    "\n",
    "sns.heatmap(pd.DataFrame(cm[2],['P + C','Normal'],['P + C','Normal']), annot=True, fmt='g', cbar=False)\n",
    "plt.title('Confusion Matrix for Training Data')\n",
    "plt.xlabel('Predicted Labels')\n",
    "plt.ylabel('Actual Labels')\n",
    "plt.xlim(reversed(plt.xlim()))\n",
    "plt.show()\n",
    "\n",
    "yt,yp = predict_images(validationloader,vgg16)\n",
    "cm = multilabel_confusion_matrix(yt,yp)\n",
    "\n",
    "sns.heatmap(pd.DataFrame(cm[0],['N + P','Covid-19'],['N + P','Covid-19']), annot=True, fmt='g', cbar=False)\n",
    "plt.title('Confusion Matrix for Validation Data')\n",
    "plt.xlabel('Predicted Labels')\n",
    "plt.ylabel('Actual Labels')\n",
    "plt.xlim(reversed(plt.xlim()))\n",
    "plt.show()\n",
    "\n",
    "sns.heatmap(pd.DataFrame(cm[1],['N + C','Pneumonia'],['N + C','Pneumonia']), annot=True, fmt='g', cbar=False)\n",
    "plt.title('Confusion Matrix for Validation Data')\n",
    "plt.xlabel('Predicted Labels')\n",
    "plt.ylabel('Actual Labels')\n",
    "plt.xlim(reversed(plt.xlim()))\n",
    "plt.show()\n",
    "\n",
    "sns.heatmap(pd.DataFrame(cm[2],['P + C','Normal'],['P + C','Normal']), annot=True, fmt='g', cbar=False)\n",
    "plt.title('Confusion Matrix for Validation Data')\n",
    "plt.xlabel('Predicted Labels')\n",
    "plt.ylabel('Actual Labels')\n",
    "plt.xlim(reversed(plt.xlim()))\n",
    "plt.show()"
   ]
  },
  {
   "cell_type": "markdown",
   "metadata": {
    "colab_type": "text",
    "id": "cdFOG4GebhJv"
   },
   "source": [
    "#### Classifying Unlabeled Test Data"
   ]
  },
  {
   "cell_type": "code",
   "execution_count": 40,
   "metadata": {
    "colab": {
     "base_uri": "https://localhost:8080/",
     "height": 37
    },
    "colab_type": "code",
    "id": "75435Y52bhJ1",
    "outputId": "ffdefd46-be32-47b9-a729-3664032fd030"
   },
   "outputs": [
    {
     "name": "stderr",
     "output_type": "stream",
     "text": [
      "Predicting Images: (97%): : 32it [00:13,  2.42it/s]\n"
     ]
    }
   ],
   "source": [
    "_,tp = predict_images(testloader,vgg16)\n",
    "df =  pd.DataFrame(onehot(tp,[0,1,2]).tolist()).astype(int)\n",
    "df.columns = ['Covid-19','Pneumonia','Normal']\n",
    "df.index = image_names"
   ]
  },
  {
   "cell_type": "code",
   "execution_count": 41,
   "metadata": {
    "colab": {
     "base_uri": "https://localhost:8080/",
     "height": 76
    },
    "colab_type": "code",
    "id": "DD8_P4sYbhKK",
    "outputId": "c4a93c1d-0c2b-455c-9d42-bc1f9520512e"
   },
   "outputs": [
    {
     "name": "stdout",
     "output_type": "stream",
     "text": [
      "Model has predicted  40  X-Ray images of covid-19 infected people.\n",
      "Model has predicted  225  X-Ray images of Pneumonia infected people including covid-19 as covid-19 is also a type of Pneumonia.\n",
      "Model has predicted  404  X-Ray images of normal people.\n"
     ]
    }
   ],
   "source": [
    "print('Model has predicted ',df[df['Covid-19']==1].count()[0],' X-Ray images of covid-19 infected people.')\n",
    "print('Model has predicted ',df[df['Pneumonia']==1].count()[0],' X-Ray images of Pneumonia infected people including covid-19 as covid-19 is also a type of Pneumonia.')\n",
    "print('Model has predicted ',df[df['Normal']==1].count()[0],' X-Ray images of normal people.')"
   ]
  },
  {
   "cell_type": "code",
   "execution_count": 42,
   "metadata": {
    "colab": {
     "base_uri": "https://localhost:8080/",
     "height": 364
    },
    "colab_type": "code",
    "id": "X_XZBxI8bhKf",
    "outputId": "24fcb5ce-f619-440b-a236-42664bda4499"
   },
   "outputs": [
    {
     "data": {
      "text/html": [
       "<div>\n",
       "<style scoped>\n",
       "    .dataframe tbody tr th:only-of-type {\n",
       "        vertical-align: middle;\n",
       "    }\n",
       "\n",
       "    .dataframe tbody tr th {\n",
       "        vertical-align: top;\n",
       "    }\n",
       "\n",
       "    .dataframe thead th {\n",
       "        text-align: right;\n",
       "    }\n",
       "</style>\n",
       "<table border=\"1\" class=\"dataframe\">\n",
       "  <thead>\n",
       "    <tr style=\"text-align: right;\">\n",
       "      <th></th>\n",
       "      <th>Covid-19</th>\n",
       "      <th>Pneumonia</th>\n",
       "      <th>Normal</th>\n",
       "    </tr>\n",
       "  </thead>\n",
       "  <tbody>\n",
       "    <tr>\n",
       "      <th>0</th>\n",
       "      <td>0</td>\n",
       "      <td>0</td>\n",
       "      <td>1</td>\n",
       "    </tr>\n",
       "    <tr>\n",
       "      <th>1</th>\n",
       "      <td>0</td>\n",
       "      <td>0</td>\n",
       "      <td>1</td>\n",
       "    </tr>\n",
       "    <tr>\n",
       "      <th>10</th>\n",
       "      <td>0</td>\n",
       "      <td>0</td>\n",
       "      <td>1</td>\n",
       "    </tr>\n",
       "    <tr>\n",
       "      <th>100</th>\n",
       "      <td>0</td>\n",
       "      <td>0</td>\n",
       "      <td>1</td>\n",
       "    </tr>\n",
       "    <tr>\n",
       "      <th>101</th>\n",
       "      <td>0</td>\n",
       "      <td>0</td>\n",
       "      <td>1</td>\n",
       "    </tr>\n",
       "    <tr>\n",
       "      <th>102</th>\n",
       "      <td>0</td>\n",
       "      <td>0</td>\n",
       "      <td>1</td>\n",
       "    </tr>\n",
       "    <tr>\n",
       "      <th>103</th>\n",
       "      <td>0</td>\n",
       "      <td>0</td>\n",
       "      <td>1</td>\n",
       "    </tr>\n",
       "    <tr>\n",
       "      <th>104</th>\n",
       "      <td>0</td>\n",
       "      <td>1</td>\n",
       "      <td>0</td>\n",
       "    </tr>\n",
       "    <tr>\n",
       "      <th>105</th>\n",
       "      <td>1</td>\n",
       "      <td>1</td>\n",
       "      <td>0</td>\n",
       "    </tr>\n",
       "    <tr>\n",
       "      <th>106</th>\n",
       "      <td>0</td>\n",
       "      <td>0</td>\n",
       "      <td>1</td>\n",
       "    </tr>\n",
       "  </tbody>\n",
       "</table>\n",
       "</div>"
      ],
      "text/plain": [
       "     Covid-19  Pneumonia  Normal\n",
       "0           0          0       1\n",
       "1           0          0       1\n",
       "10          0          0       1\n",
       "100         0          0       1\n",
       "101         0          0       1\n",
       "102         0          0       1\n",
       "103         0          0       1\n",
       "104         0          1       0\n",
       "105         1          1       0\n",
       "106         0          0       1"
      ]
     },
     "execution_count": 42,
     "metadata": {
      "tags": []
     },
     "output_type": "execute_result"
    }
   ],
   "source": [
    "df.head(10)"
   ]
  },
  {
   "cell_type": "code",
   "execution_count": 0,
   "metadata": {
    "colab": {},
    "colab_type": "code",
    "id": "rlaf_VfgbhKz"
   },
   "outputs": [],
   "source": [
    "df.to_csv('./gdrive/My Drive/weights/vgg16_focal_loss.csv',header=False)"
   ]
  },
  {
   "cell_type": "markdown",
   "metadata": {
    "colab_type": "text",
    "id": "oIeoIHcAbhLI"
   },
   "source": [
    "### ResNet-18"
   ]
  },
  {
   "cell_type": "markdown",
   "metadata": {
    "colab_type": "text",
    "id": "5h8-wgqWbhLO"
   },
   "source": [
    "#### Loading Model"
   ]
  },
  {
   "cell_type": "code",
   "execution_count": 44,
   "metadata": {
    "colab": {
     "base_uri": "https://localhost:8080/",
     "height": 1000
    },
    "colab_type": "code",
    "id": "R42sJJ2abhLU",
    "outputId": "f3f47009-0f1c-454d-8f54-f52a1e795f2d"
   },
   "outputs": [
    {
     "name": "stdout",
     "output_type": "stream",
     "text": [
      "ResNet(\n",
      "  (conv1): Conv2d(3, 64, kernel_size=(7, 7), stride=(2, 2), padding=(3, 3), bias=False)\n",
      "  (bn1): BatchNorm2d(64, eps=1e-05, momentum=0.1, affine=True, track_running_stats=True)\n",
      "  (relu): ReLU(inplace=True)\n",
      "  (maxpool): MaxPool2d(kernel_size=3, stride=2, padding=1, dilation=1, ceil_mode=False)\n",
      "  (layer1): Sequential(\n",
      "    (0): BasicBlock(\n",
      "      (conv1): Conv2d(64, 64, kernel_size=(3, 3), stride=(1, 1), padding=(1, 1), bias=False)\n",
      "      (bn1): BatchNorm2d(64, eps=1e-05, momentum=0.1, affine=True, track_running_stats=True)\n",
      "      (relu): ReLU(inplace=True)\n",
      "      (conv2): Conv2d(64, 64, kernel_size=(3, 3), stride=(1, 1), padding=(1, 1), bias=False)\n",
      "      (bn2): BatchNorm2d(64, eps=1e-05, momentum=0.1, affine=True, track_running_stats=True)\n",
      "    )\n",
      "    (1): BasicBlock(\n",
      "      (conv1): Conv2d(64, 64, kernel_size=(3, 3), stride=(1, 1), padding=(1, 1), bias=False)\n",
      "      (bn1): BatchNorm2d(64, eps=1e-05, momentum=0.1, affine=True, track_running_stats=True)\n",
      "      (relu): ReLU(inplace=True)\n",
      "      (conv2): Conv2d(64, 64, kernel_size=(3, 3), stride=(1, 1), padding=(1, 1), bias=False)\n",
      "      (bn2): BatchNorm2d(64, eps=1e-05, momentum=0.1, affine=True, track_running_stats=True)\n",
      "    )\n",
      "  )\n",
      "  (layer2): Sequential(\n",
      "    (0): BasicBlock(\n",
      "      (conv1): Conv2d(64, 128, kernel_size=(3, 3), stride=(2, 2), padding=(1, 1), bias=False)\n",
      "      (bn1): BatchNorm2d(128, eps=1e-05, momentum=0.1, affine=True, track_running_stats=True)\n",
      "      (relu): ReLU(inplace=True)\n",
      "      (conv2): Conv2d(128, 128, kernel_size=(3, 3), stride=(1, 1), padding=(1, 1), bias=False)\n",
      "      (bn2): BatchNorm2d(128, eps=1e-05, momentum=0.1, affine=True, track_running_stats=True)\n",
      "      (downsample): Sequential(\n",
      "        (0): Conv2d(64, 128, kernel_size=(1, 1), stride=(2, 2), bias=False)\n",
      "        (1): BatchNorm2d(128, eps=1e-05, momentum=0.1, affine=True, track_running_stats=True)\n",
      "      )\n",
      "    )\n",
      "    (1): BasicBlock(\n",
      "      (conv1): Conv2d(128, 128, kernel_size=(3, 3), stride=(1, 1), padding=(1, 1), bias=False)\n",
      "      (bn1): BatchNorm2d(128, eps=1e-05, momentum=0.1, affine=True, track_running_stats=True)\n",
      "      (relu): ReLU(inplace=True)\n",
      "      (conv2): Conv2d(128, 128, kernel_size=(3, 3), stride=(1, 1), padding=(1, 1), bias=False)\n",
      "      (bn2): BatchNorm2d(128, eps=1e-05, momentum=0.1, affine=True, track_running_stats=True)\n",
      "    )\n",
      "  )\n",
      "  (layer3): Sequential(\n",
      "    (0): BasicBlock(\n",
      "      (conv1): Conv2d(128, 256, kernel_size=(3, 3), stride=(2, 2), padding=(1, 1), bias=False)\n",
      "      (bn1): BatchNorm2d(256, eps=1e-05, momentum=0.1, affine=True, track_running_stats=True)\n",
      "      (relu): ReLU(inplace=True)\n",
      "      (conv2): Conv2d(256, 256, kernel_size=(3, 3), stride=(1, 1), padding=(1, 1), bias=False)\n",
      "      (bn2): BatchNorm2d(256, eps=1e-05, momentum=0.1, affine=True, track_running_stats=True)\n",
      "      (downsample): Sequential(\n",
      "        (0): Conv2d(128, 256, kernel_size=(1, 1), stride=(2, 2), bias=False)\n",
      "        (1): BatchNorm2d(256, eps=1e-05, momentum=0.1, affine=True, track_running_stats=True)\n",
      "      )\n",
      "    )\n",
      "    (1): BasicBlock(\n",
      "      (conv1): Conv2d(256, 256, kernel_size=(3, 3), stride=(1, 1), padding=(1, 1), bias=False)\n",
      "      (bn1): BatchNorm2d(256, eps=1e-05, momentum=0.1, affine=True, track_running_stats=True)\n",
      "      (relu): ReLU(inplace=True)\n",
      "      (conv2): Conv2d(256, 256, kernel_size=(3, 3), stride=(1, 1), padding=(1, 1), bias=False)\n",
      "      (bn2): BatchNorm2d(256, eps=1e-05, momentum=0.1, affine=True, track_running_stats=True)\n",
      "    )\n",
      "  )\n",
      "  (layer4): Sequential(\n",
      "    (0): BasicBlock(\n",
      "      (conv1): Conv2d(256, 512, kernel_size=(3, 3), stride=(2, 2), padding=(1, 1), bias=False)\n",
      "      (bn1): BatchNorm2d(512, eps=1e-05, momentum=0.1, affine=True, track_running_stats=True)\n",
      "      (relu): ReLU(inplace=True)\n",
      "      (conv2): Conv2d(512, 512, kernel_size=(3, 3), stride=(1, 1), padding=(1, 1), bias=False)\n",
      "      (bn2): BatchNorm2d(512, eps=1e-05, momentum=0.1, affine=True, track_running_stats=True)\n",
      "      (downsample): Sequential(\n",
      "        (0): Conv2d(256, 512, kernel_size=(1, 1), stride=(2, 2), bias=False)\n",
      "        (1): BatchNorm2d(512, eps=1e-05, momentum=0.1, affine=True, track_running_stats=True)\n",
      "      )\n",
      "    )\n",
      "    (1): BasicBlock(\n",
      "      (conv1): Conv2d(512, 512, kernel_size=(3, 3), stride=(1, 1), padding=(1, 1), bias=False)\n",
      "      (bn1): BatchNorm2d(512, eps=1e-05, momentum=0.1, affine=True, track_running_stats=True)\n",
      "      (relu): ReLU(inplace=True)\n",
      "      (conv2): Conv2d(512, 512, kernel_size=(3, 3), stride=(1, 1), padding=(1, 1), bias=False)\n",
      "      (bn2): BatchNorm2d(512, eps=1e-05, momentum=0.1, affine=True, track_running_stats=True)\n",
      "    )\n",
      "  )\n",
      "  (avgpool): AdaptiveAvgPool2d(output_size=(1, 1))\n",
      "  (fc): Sequential(\n",
      "    (0): Linear(in_features=512, out_features=3, bias=True)\n",
      "  )\n",
      ")\n"
     ]
    }
   ],
   "source": [
    "res18 = models.resnet18(pretrained=True)\n",
    "features = []\n",
    "num_features = 512\n",
    "num_classes = 3\n",
    "features.extend([nn.Linear(num_features, num_classes)])\n",
    "res18.fc = nn.Sequential(*features)\n",
    "print(res18)"
   ]
  },
  {
   "cell_type": "code",
   "execution_count": 0,
   "metadata": {
    "colab": {
     "base_uri": "https://localhost:8080/",
     "height": 1000
    },
    "colab_type": "code",
    "id": "9psKXlSDbhLt",
    "outputId": "a5d09c73-e7a0-443f-a7dd-9f7df402ea41"
   },
   "outputs": [
    {
     "name": "stdout",
     "output_type": "stream",
     "text": [
      "Following Parameters/Features are freezed:\n",
      "\n",
      "Following Parameters/Features will be trained:\n",
      "conv1.weight\n",
      "bn1.weight\n",
      "bn1.bias\n",
      "layer1.0.conv1.weight\n",
      "layer1.0.bn1.weight\n",
      "layer1.0.bn1.bias\n",
      "layer1.0.conv2.weight\n",
      "layer1.0.bn2.weight\n",
      "layer1.0.bn2.bias\n",
      "layer1.1.conv1.weight\n",
      "layer1.1.bn1.weight\n",
      "layer1.1.bn1.bias\n",
      "layer1.1.conv2.weight\n",
      "layer1.1.bn2.weight\n",
      "layer1.1.bn2.bias\n",
      "layer2.0.conv1.weight\n",
      "layer2.0.bn1.weight\n",
      "layer2.0.bn1.bias\n",
      "layer2.0.conv2.weight\n",
      "layer2.0.bn2.weight\n",
      "layer2.0.bn2.bias\n",
      "layer2.0.downsample.0.weight\n",
      "layer2.0.downsample.1.weight\n",
      "layer2.0.downsample.1.bias\n",
      "layer2.1.conv1.weight\n",
      "layer2.1.bn1.weight\n",
      "layer2.1.bn1.bias\n",
      "layer2.1.conv2.weight\n",
      "layer2.1.bn2.weight\n",
      "layer2.1.bn2.bias\n",
      "layer3.0.conv1.weight\n",
      "layer3.0.bn1.weight\n",
      "layer3.0.bn1.bias\n",
      "layer3.0.conv2.weight\n",
      "layer3.0.bn2.weight\n",
      "layer3.0.bn2.bias\n",
      "layer3.0.downsample.0.weight\n",
      "layer3.0.downsample.1.weight\n",
      "layer3.0.downsample.1.bias\n",
      "layer3.1.conv1.weight\n",
      "layer3.1.bn1.weight\n",
      "layer3.1.bn1.bias\n",
      "layer3.1.conv2.weight\n",
      "layer3.1.bn2.weight\n",
      "layer3.1.bn2.bias\n",
      "layer4.0.conv1.weight\n",
      "layer4.0.bn1.weight\n",
      "layer4.0.bn1.bias\n",
      "layer4.0.conv2.weight\n",
      "layer4.0.bn2.weight\n",
      "layer4.0.bn2.bias\n",
      "layer4.0.downsample.0.weight\n",
      "layer4.0.downsample.1.weight\n",
      "layer4.0.downsample.1.bias\n",
      "layer4.1.conv1.weight\n",
      "layer4.1.bn1.weight\n",
      "layer4.1.bn1.bias\n",
      "layer4.1.conv2.weight\n",
      "layer4.1.bn2.weight\n",
      "layer4.1.bn2.bias\n",
      "fc.0.weight\n",
      "fc.0.bias\n"
     ]
    }
   ],
   "source": [
    "print('Following Parameters/Features are freezed:')\n",
    "for name, param in res18.named_parameters():\n",
    "    if param.requires_grad==False:\n",
    "        print(name)\n",
    "print('\\nFollowing Parameters/Features will be trained:')\n",
    "for name, param in res18.named_parameters():\n",
    "    if param.requires_grad==True:\n",
    "        print(name)"
   ]
  },
  {
   "cell_type": "markdown",
   "metadata": {
    "colab_type": "text",
    "id": "mWOx_-elbhMC"
   },
   "source": [
    "#### Training Model"
   ]
  },
  {
   "cell_type": "code",
   "execution_count": 0,
   "metadata": {
    "colab": {
     "base_uri": "https://localhost:8080/",
     "height": 1000
    },
    "colab_type": "code",
    "id": "3_7aqmZabhMF",
    "outputId": "08716252-3326-45f3-a08c-4a712cfb86d5"
   },
   "outputs": [
    {
     "name": "stderr",
     "output_type": "stream",
     "text": [
      "Training Epoch: 1, Loss 0.7999830842018127,(100%): : 310it [01:52,  2.75it/s]"
     ]
    },
    {
     "name": "stdout",
     "output_type": "stream",
     "text": [
      "\n",
      "For training data\n"
     ]
    },
    {
     "name": "stderr",
     "output_type": "stream",
     "text": [
      "\n",
      "Calculating Accuracy and Loss: (100%): : 310it [01:45,  2.94it/s]"
     ]
    },
    {
     "name": "stdout",
     "output_type": "stream",
     "text": [
      "\n",
      "For validation data\n"
     ]
    },
    {
     "name": "stderr",
     "output_type": "stream",
     "text": [
      "\n",
      "Calculating Accuracy and Loss: (97%): : 32it [00:11,  2.86it/s]"
     ]
    },
    {
     "name": "stdout",
     "output_type": "stream",
     "text": [
      "\n",
      "Training Accuracy =  80.74193548387096 \n",
      "Training Loss =  1.2960667319836154 \n",
      "Validation Accuracy =  79.45859872611464 \n",
      "Validation Loss =  1.4683974804356694 \n",
      "\n"
     ]
    },
    {
     "name": "stderr",
     "output_type": "stream",
     "text": [
      "\n",
      "Training Epoch: 2, Loss 1.6678671836853027,(100%): : 310it [01:53,  2.72it/s]"
     ]
    },
    {
     "name": "stdout",
     "output_type": "stream",
     "text": [
      "\n",
      "For training data\n"
     ]
    },
    {
     "name": "stderr",
     "output_type": "stream",
     "text": [
      "\n",
      "Calculating Accuracy and Loss: (100%): : 310it [01:44,  2.96it/s]"
     ]
    },
    {
     "name": "stdout",
     "output_type": "stream",
     "text": [
      "\n",
      "For validation data\n"
     ]
    },
    {
     "name": "stderr",
     "output_type": "stream",
     "text": [
      "\n",
      "Calculating Accuracy and Loss: (97%): : 32it [00:11,  2.89it/s]"
     ]
    },
    {
     "name": "stdout",
     "output_type": "stream",
     "text": [
      "\n",
      "Training Accuracy =  84.66129032258064 \n",
      "Training Loss =  1.0022214476139315 \n",
      "Validation Accuracy =  84.23566878980891 \n",
      "Validation Loss =  1.0281680151820183 \n",
      "\n"
     ]
    },
    {
     "name": "stderr",
     "output_type": "stream",
     "text": [
      "\n",
      "Training Epoch: 3, Loss 0.6758624315261841,(100%): : 310it [01:53,  2.73it/s]"
     ]
    },
    {
     "name": "stdout",
     "output_type": "stream",
     "text": [
      "\n",
      "For training data\n"
     ]
    },
    {
     "name": "stderr",
     "output_type": "stream",
     "text": [
      "\n",
      "Calculating Accuracy and Loss: (100%): : 310it [01:46,  2.92it/s]\n"
     ]
    },
    {
     "name": "stdout",
     "output_type": "stream",
     "text": [
      "\n",
      "For validation data\n"
     ]
    },
    {
     "name": "stderr",
     "output_type": "stream",
     "text": [
      "Calculating Accuracy and Loss: (97%): : 32it [00:11,  2.85it/s]"
     ]
    },
    {
     "name": "stdout",
     "output_type": "stream",
     "text": [
      "\n",
      "Training Accuracy =  88.83870967741936 \n",
      "Training Loss =  0.8877371290518391 \n",
      "Validation Accuracy =  88.85350318471338 \n",
      "Validation Loss =  0.9910909412428737 \n",
      "\n"
     ]
    },
    {
     "name": "stderr",
     "output_type": "stream",
     "text": [
      "\n",
      "Training Epoch: 4, Loss 0.5188703536987305,(100%): : 310it [01:54,  2.72it/s]"
     ]
    },
    {
     "name": "stdout",
     "output_type": "stream",
     "text": [
      "\n",
      "For training data\n"
     ]
    },
    {
     "name": "stderr",
     "output_type": "stream",
     "text": [
      "\n",
      "Calculating Accuracy and Loss: (100%): : 310it [01:47,  2.88it/s]"
     ]
    },
    {
     "name": "stdout",
     "output_type": "stream",
     "text": [
      "\n",
      "For validation data\n"
     ]
    },
    {
     "name": "stderr",
     "output_type": "stream",
     "text": [
      "\n",
      "Calculating Accuracy and Loss: (97%): : 32it [00:11,  2.79it/s]"
     ]
    },
    {
     "name": "stdout",
     "output_type": "stream",
     "text": [
      "\n",
      "Training Accuracy =  87.74193548387098 \n",
      "Training Loss =  0.7858225700355346 \n",
      "Validation Accuracy =  88.69426751592357 \n",
      "Validation Loss =  0.9948705327697098 \n",
      "\n"
     ]
    },
    {
     "name": "stderr",
     "output_type": "stream",
     "text": [
      "\n",
      "Training Epoch: 5, Loss 2.1140084266662598,(100%): : 310it [01:52,  2.76it/s]"
     ]
    },
    {
     "name": "stdout",
     "output_type": "stream",
     "text": [
      "\n",
      "For training data\n"
     ]
    },
    {
     "name": "stderr",
     "output_type": "stream",
     "text": [
      "\n",
      "Calculating Accuracy and Loss: (100%): : 310it [01:45,  2.93it/s]\n"
     ]
    },
    {
     "name": "stdout",
     "output_type": "stream",
     "text": [
      "\n",
      "For validation data\n"
     ]
    },
    {
     "name": "stderr",
     "output_type": "stream",
     "text": [
      "Calculating Accuracy and Loss: (97%): : 32it [00:11,  2.80it/s]"
     ]
    },
    {
     "name": "stdout",
     "output_type": "stream",
     "text": [
      "\n",
      "Training Accuracy =  90.01612903225806 \n",
      "Training Loss =  0.6605415176960729 \n",
      "Validation Accuracy =  89.80891719745223 \n",
      "Validation Loss =  0.904671065043658 \n",
      "\n"
     ]
    },
    {
     "name": "stderr",
     "output_type": "stream",
     "text": [
      "\n",
      "Training Epoch: 6, Loss 0.23798079788684845,(100%): : 310it [01:53,  2.73it/s]"
     ]
    },
    {
     "name": "stdout",
     "output_type": "stream",
     "text": [
      "\n",
      "For training data\n"
     ]
    },
    {
     "name": "stderr",
     "output_type": "stream",
     "text": [
      "\n",
      "Calculating Accuracy and Loss: (100%): : 310it [01:47,  2.88it/s]"
     ]
    },
    {
     "name": "stdout",
     "output_type": "stream",
     "text": [
      "\n",
      "For validation data\n"
     ]
    },
    {
     "name": "stderr",
     "output_type": "stream",
     "text": [
      "\n",
      "Calculating Accuracy and Loss: (97%): : 32it [00:11,  2.85it/s]"
     ]
    },
    {
     "name": "stdout",
     "output_type": "stream",
     "text": [
      "\n",
      "Training Accuracy =  89.62903225806451 \n",
      "Training Loss =  0.6295235600682997 \n",
      "Validation Accuracy =  89.96815286624204 \n",
      "Validation Loss =  1.0536446359474212 \n",
      "\n"
     ]
    },
    {
     "name": "stderr",
     "output_type": "stream",
     "text": [
      "\n",
      "Training Epoch: 7, Loss 0.16759644448757172,(100%): : 310it [01:55,  2.68it/s]"
     ]
    },
    {
     "name": "stdout",
     "output_type": "stream",
     "text": [
      "\n",
      "For training data\n"
     ]
    },
    {
     "name": "stderr",
     "output_type": "stream",
     "text": [
      "\n",
      "Calculating Accuracy and Loss: (100%): : 310it [01:47,  2.89it/s]"
     ]
    },
    {
     "name": "stdout",
     "output_type": "stream",
     "text": [
      "\n",
      "For validation data\n"
     ]
    },
    {
     "name": "stderr",
     "output_type": "stream",
     "text": [
      "\n",
      "Calculating Accuracy and Loss: (97%): : 32it [00:11,  2.80it/s]"
     ]
    },
    {
     "name": "stdout",
     "output_type": "stream",
     "text": [
      "\n",
      "Training Accuracy =  88.85483870967742 \n",
      "Training Loss =  0.5933460762183512 \n",
      "Validation Accuracy =  87.73885350318471 \n",
      "Validation Loss =  0.7755659683607519 \n",
      "\n"
     ]
    },
    {
     "name": "stderr",
     "output_type": "stream",
     "text": [
      "\n",
      "Training Epoch: 8, Loss 0.7999929785728455,(100%): : 310it [01:54,  2.71it/s]"
     ]
    },
    {
     "name": "stdout",
     "output_type": "stream",
     "text": [
      "\n",
      "For training data\n"
     ]
    },
    {
     "name": "stderr",
     "output_type": "stream",
     "text": [
      "\n",
      "Calculating Accuracy and Loss: (100%): : 310it [01:46,  2.90it/s]"
     ]
    },
    {
     "name": "stdout",
     "output_type": "stream",
     "text": [
      "\n",
      "For validation data\n"
     ]
    },
    {
     "name": "stderr",
     "output_type": "stream",
     "text": [
      "\n",
      "Calculating Accuracy and Loss: (97%): : 32it [00:11,  2.83it/s]\n"
     ]
    },
    {
     "name": "stdout",
     "output_type": "stream",
     "text": [
      "\n",
      "Training Accuracy =  93.2258064516129 \n",
      "Training Loss =  0.5319978398180777 \n",
      "Validation Accuracy =  92.35668789808918 \n",
      "Validation Loss =  0.9473215260077268 \n",
      "\n"
     ]
    },
    {
     "name": "stderr",
     "output_type": "stream",
     "text": [
      "Training Epoch: 9, Loss 0.598397970199585,(100%): : 310it [01:52,  2.75it/s]"
     ]
    },
    {
     "name": "stdout",
     "output_type": "stream",
     "text": [
      "\n",
      "For training data\n"
     ]
    },
    {
     "name": "stderr",
     "output_type": "stream",
     "text": [
      "\n",
      "Calculating Accuracy and Loss: (100%): : 310it [01:47,  2.89it/s]\n"
     ]
    },
    {
     "name": "stdout",
     "output_type": "stream",
     "text": [
      "\n",
      "For validation data\n"
     ]
    },
    {
     "name": "stderr",
     "output_type": "stream",
     "text": [
      "Calculating Accuracy and Loss: (97%): : 32it [00:11,  2.80it/s]"
     ]
    },
    {
     "name": "stdout",
     "output_type": "stream",
     "text": [
      "\n",
      "Training Accuracy =  93.37096774193549 \n",
      "Training Loss =  0.45052353176738946 \n",
      "Validation Accuracy =  92.19745222929936 \n",
      "Validation Loss =  0.7806661583017558 \n",
      "\n"
     ]
    },
    {
     "name": "stderr",
     "output_type": "stream",
     "text": [
      "\n",
      "Training Epoch: 10, Loss 0.2719850540161133,(100%): : 310it [01:55,  2.69it/s]"
     ]
    },
    {
     "name": "stdout",
     "output_type": "stream",
     "text": [
      "\n",
      "For training data\n"
     ]
    },
    {
     "name": "stderr",
     "output_type": "stream",
     "text": [
      "\n",
      "Calculating Accuracy and Loss: (100%): : 310it [01:46,  2.90it/s]\n"
     ]
    },
    {
     "name": "stdout",
     "output_type": "stream",
     "text": [
      "\n",
      "For validation data\n"
     ]
    },
    {
     "name": "stderr",
     "output_type": "stream",
     "text": [
      "Calculating Accuracy and Loss: (97%): : 32it [00:11,  2.80it/s]"
     ]
    },
    {
     "name": "stdout",
     "output_type": "stream",
     "text": [
      "\n",
      "Training Accuracy =  94.83870967741936 \n",
      "Training Loss =  0.3803945549253014 \n",
      "Validation Accuracy =  92.51592356687898 \n",
      "Validation Loss =  1.0399621829856187 \n",
      "\n"
     ]
    },
    {
     "name": "stderr",
     "output_type": "stream",
     "text": [
      "\n",
      "Training Epoch: 11, Loss 1.2447397708892822,(100%): : 310it [01:52,  2.75it/s]"
     ]
    },
    {
     "name": "stdout",
     "output_type": "stream",
     "text": [
      "\n",
      "For training data\n"
     ]
    },
    {
     "name": "stderr",
     "output_type": "stream",
     "text": [
      "\n",
      "Calculating Accuracy and Loss: (100%): : 310it [01:46,  2.91it/s]"
     ]
    },
    {
     "name": "stdout",
     "output_type": "stream",
     "text": [
      "\n",
      "For validation data\n"
     ]
    },
    {
     "name": "stderr",
     "output_type": "stream",
     "text": [
      "\n",
      "Calculating Accuracy and Loss: (97%): : 32it [00:11,  2.84it/s]"
     ]
    },
    {
     "name": "stdout",
     "output_type": "stream",
     "text": [
      "\n",
      "Training Accuracy =  80.04838709677419 \n",
      "Training Loss =  0.8045814846311846 \n",
      "Validation Accuracy =  78.343949044586 \n",
      "Validation Loss =  1.164767600595951 \n",
      "\n"
     ]
    },
    {
     "name": "stderr",
     "output_type": "stream",
     "text": [
      "\n",
      "Training Epoch: 12, Loss 0.18758755922317505,(100%): : 310it [01:53,  2.73it/s]"
     ]
    },
    {
     "name": "stdout",
     "output_type": "stream",
     "text": [
      "\n",
      "For training data\n"
     ]
    },
    {
     "name": "stderr",
     "output_type": "stream",
     "text": [
      "\n",
      "Calculating Accuracy and Loss: (100%): : 310it [01:45,  2.94it/s]\n"
     ]
    },
    {
     "name": "stdout",
     "output_type": "stream",
     "text": [
      "\n",
      "For validation data\n"
     ]
    },
    {
     "name": "stderr",
     "output_type": "stream",
     "text": [
      "Calculating Accuracy and Loss: (97%): : 32it [00:11,  2.75it/s]\n"
     ]
    },
    {
     "name": "stdout",
     "output_type": "stream",
     "text": [
      "\n",
      "Training Accuracy =  95.4032258064516 \n",
      "Training Loss =  0.35819890257271547 \n",
      "Validation Accuracy =  92.51592356687898 \n",
      "Validation Loss =  1.1618280962575227 \n",
      "\n"
     ]
    },
    {
     "name": "stderr",
     "output_type": "stream",
     "text": [
      "Training Epoch: 13, Loss 0.3339522182941437,(100%): : 310it [01:54,  2.70it/s]"
     ]
    },
    {
     "name": "stdout",
     "output_type": "stream",
     "text": [
      "\n",
      "For training data\n"
     ]
    },
    {
     "name": "stderr",
     "output_type": "stream",
     "text": [
      "\n",
      "Calculating Accuracy and Loss: (100%): : 310it [01:46,  2.90it/s]"
     ]
    },
    {
     "name": "stdout",
     "output_type": "stream",
     "text": [
      "\n",
      "For validation data\n"
     ]
    },
    {
     "name": "stderr",
     "output_type": "stream",
     "text": [
      "\n",
      "Calculating Accuracy and Loss: (97%): : 32it [00:11,  2.91it/s]"
     ]
    },
    {
     "name": "stdout",
     "output_type": "stream",
     "text": [
      "\n",
      "Training Accuracy =  95.61290322580646 \n",
      "Training Loss =  0.29638546694130186 \n",
      "Validation Accuracy =  91.87898089171973 \n",
      "Validation Loss =  0.8206435083411634 \n",
      "\n"
     ]
    },
    {
     "name": "stderr",
     "output_type": "stream",
     "text": [
      "\n",
      "Training Epoch: 14, Loss 1.2386984825134277,(100%): : 310it [01:52,  2.75it/s]"
     ]
    },
    {
     "name": "stdout",
     "output_type": "stream",
     "text": [
      "\n",
      "For training data\n"
     ]
    },
    {
     "name": "stderr",
     "output_type": "stream",
     "text": [
      "\n",
      "Calculating Accuracy and Loss: (100%): : 310it [01:46,  2.92it/s]\n"
     ]
    },
    {
     "name": "stdout",
     "output_type": "stream",
     "text": [
      "\n",
      "For validation data\n"
     ]
    },
    {
     "name": "stderr",
     "output_type": "stream",
     "text": [
      "Calculating Accuracy and Loss: (97%): : 32it [00:11,  2.83it/s]"
     ]
    },
    {
     "name": "stdout",
     "output_type": "stream",
     "text": [
      "\n",
      "Training Accuracy =  92.98387096774194 \n",
      "Training Loss =  0.4705273773070545 \n",
      "Validation Accuracy =  90.44585987261146 \n",
      "Validation Loss =  1.2628694038285175 \n",
      "\n"
     ]
    },
    {
     "name": "stderr",
     "output_type": "stream",
     "text": [
      "\n",
      "Training Epoch: 15, Loss 0.521742582321167,(100%): : 310it [01:53,  2.72it/s]"
     ]
    },
    {
     "name": "stdout",
     "output_type": "stream",
     "text": [
      "\n",
      "For training data\n"
     ]
    },
    {
     "name": "stderr",
     "output_type": "stream",
     "text": [
      "\n",
      "Calculating Accuracy and Loss: (100%): : 310it [01:45,  2.93it/s]"
     ]
    },
    {
     "name": "stdout",
     "output_type": "stream",
     "text": [
      "\n",
      "For validation data\n"
     ]
    },
    {
     "name": "stderr",
     "output_type": "stream",
     "text": [
      "\n",
      "Calculating Accuracy and Loss: (97%): : 32it [00:11,  2.83it/s]"
     ]
    },
    {
     "name": "stdout",
     "output_type": "stream",
     "text": [
      "\n",
      "Training Accuracy =  95.16129032258065 \n",
      "Training Loss =  0.34119188307874626 \n",
      "Validation Accuracy =  90.44585987261146 \n",
      "Validation Loss =  0.9906954233301803 \n",
      "\n"
     ]
    },
    {
     "name": "stderr",
     "output_type": "stream",
     "text": [
      "\n",
      "Training Epoch: 16, Loss 0.022579479962587357,(100%): : 310it [01:54,  2.72it/s]"
     ]
    },
    {
     "name": "stdout",
     "output_type": "stream",
     "text": [
      "\n",
      "For training data\n"
     ]
    },
    {
     "name": "stderr",
     "output_type": "stream",
     "text": [
      "\n",
      "Calculating Accuracy and Loss: (100%): : 310it [01:48,  2.86it/s]"
     ]
    },
    {
     "name": "stdout",
     "output_type": "stream",
     "text": [
      "\n",
      "For validation data\n"
     ]
    },
    {
     "name": "stderr",
     "output_type": "stream",
     "text": [
      "\n",
      "Calculating Accuracy and Loss: (97%): : 32it [00:11,  2.83it/s]"
     ]
    },
    {
     "name": "stdout",
     "output_type": "stream",
     "text": [
      "\n",
      "Training Accuracy =  94.70967741935485 \n",
      "Training Loss =  0.36435139056956095 \n",
      "Validation Accuracy =  91.0828025477707 \n",
      "Validation Loss =  1.260660122614354 \n",
      "\n"
     ]
    },
    {
     "name": "stderr",
     "output_type": "stream",
     "text": [
      "\n",
      "Training Epoch: 17, Loss 0.5799390077590942,(100%): : 310it [01:54,  2.71it/s]"
     ]
    },
    {
     "name": "stdout",
     "output_type": "stream",
     "text": [
      "\n",
      "For training data\n"
     ]
    },
    {
     "name": "stderr",
     "output_type": "stream",
     "text": [
      "\n",
      "Calculating Accuracy and Loss: (100%): : 310it [01:48,  2.85it/s]\n"
     ]
    },
    {
     "name": "stdout",
     "output_type": "stream",
     "text": [
      "\n",
      "For validation data\n"
     ]
    },
    {
     "name": "stderr",
     "output_type": "stream",
     "text": [
      "Calculating Accuracy and Loss: (97%): : 32it [00:11,  2.82it/s]"
     ]
    },
    {
     "name": "stdout",
     "output_type": "stream",
     "text": [
      "\n",
      "Training Accuracy =  94.5 \n",
      "Training Loss =  0.3948011262762931 \n",
      "Validation Accuracy =  90.60509554140127 \n",
      "Validation Loss =  1.0805671596899629 \n",
      "\n"
     ]
    },
    {
     "name": "stderr",
     "output_type": "stream",
     "text": [
      "\n",
      "Training Epoch: 18, Loss 0.16833144426345825,(100%): : 310it [01:54,  2.71it/s]"
     ]
    },
    {
     "name": "stdout",
     "output_type": "stream",
     "text": [
      "\n",
      "For training data\n"
     ]
    },
    {
     "name": "stderr",
     "output_type": "stream",
     "text": [
      "\n",
      "Calculating Accuracy and Loss: (100%): : 310it [01:47,  2.88it/s]\n"
     ]
    },
    {
     "name": "stdout",
     "output_type": "stream",
     "text": [
      "\n",
      "For validation data\n"
     ]
    },
    {
     "name": "stderr",
     "output_type": "stream",
     "text": [
      "Calculating Accuracy and Loss: (97%): : 32it [00:11,  2.85it/s]"
     ]
    },
    {
     "name": "stdout",
     "output_type": "stream",
     "text": [
      "\n",
      "Training Accuracy =  96.79032258064517 \n",
      "Training Loss =  0.2150771662592888 \n",
      "Validation Accuracy =  91.71974522292994 \n",
      "Validation Loss =  1.0704946035984904 \n",
      "\n"
     ]
    },
    {
     "name": "stderr",
     "output_type": "stream",
     "text": [
      "\n",
      "Training Epoch: 19, Loss 0.046809181571006775,(100%): : 310it [01:53,  2.73it/s]"
     ]
    },
    {
     "name": "stdout",
     "output_type": "stream",
     "text": [
      "\n",
      "For training data\n"
     ]
    },
    {
     "name": "stderr",
     "output_type": "stream",
     "text": [
      "\n",
      "Calculating Accuracy and Loss: (100%): : 310it [01:46,  2.92it/s]"
     ]
    },
    {
     "name": "stdout",
     "output_type": "stream",
     "text": [
      "\n",
      "For validation data\n"
     ]
    },
    {
     "name": "stderr",
     "output_type": "stream",
     "text": [
      "\n",
      "Calculating Accuracy and Loss: (97%): : 32it [00:11,  2.88it/s]"
     ]
    },
    {
     "name": "stdout",
     "output_type": "stream",
     "text": [
      "\n",
      "Training Accuracy =  96.03225806451613 \n",
      "Training Loss =  0.2694420381809675 \n",
      "Validation Accuracy =  93.47133757961782 \n",
      "Validation Loss =  1.0352711619343609 \n",
      "\n"
     ]
    },
    {
     "name": "stderr",
     "output_type": "stream",
     "text": [
      "\n",
      "Training Epoch: 20, Loss 0.1325562447309494,(100%): : 310it [01:55,  2.68it/s]"
     ]
    },
    {
     "name": "stdout",
     "output_type": "stream",
     "text": [
      "\n",
      "For training data\n"
     ]
    },
    {
     "name": "stderr",
     "output_type": "stream",
     "text": [
      "\n",
      "Calculating Accuracy and Loss: (100%): : 310it [01:48,  2.84it/s]\n"
     ]
    },
    {
     "name": "stdout",
     "output_type": "stream",
     "text": [
      "\n",
      "For validation data\n"
     ]
    },
    {
     "name": "stderr",
     "output_type": "stream",
     "text": [
      "Calculating Accuracy and Loss: (97%): : 32it [00:11,  2.78it/s]\n"
     ]
    },
    {
     "name": "stdout",
     "output_type": "stream",
     "text": [
      "\n",
      "Training Accuracy =  95.87096774193549 \n",
      "Training Loss =  0.26632386924879203 \n",
      "Validation Accuracy =  91.87898089171973 \n",
      "Validation Loss =  1.1246384545229375 \n",
      "\n",
      "Final Stats:\n",
      "\n",
      "                     Loss   Accuracy  Precision     Recall   F1_Score\n",
      "Training Scores  0.266324  95.870968  82.255359  95.870968  88.973889\n",
      "\n",
      "                       Loss   Accuracy  Precision     Recall   F1_Score\n",
      "Validation Scores  1.124638  91.878981  78.846831  91.878981  85.480885\n",
      "\n"
     ]
    },
    {
     "data": {
      "image/png": "[encoded data removed]",
      "text/plain": [
       "<Figure size 432x288 with 1 Axes>"
      ]
     },
     "metadata": {
      "needs_background": "light",
      "tags": []
     },
     "output_type": "display_data"
    },
    {
     "name": "stdout",
     "output_type": "stream",
     "text": [
      "\n"
     ]
    },
    {
     "data": {
      "image/png": "[encoded data removed]",
      "text/plain": [
       "<Figure size 432x288 with 1 Axes>"
      ]
     },
     "metadata": {
      "needs_background": "light",
      "tags": []
     },
     "output_type": "display_data"
    },
    {
     "name": "stdout",
     "output_type": "stream",
     "text": [
      "\n"
     ]
    },
    {
     "data": {
      "image/png": "[encoded data removed]",
      "text/plain": [
       "<Figure size 432x288 with 1 Axes>"
      ]
     },
     "metadata": {
      "needs_background": "light",
      "tags": []
     },
     "output_type": "display_data"
    },
    {
     "name": "stdout",
     "output_type": "stream",
     "text": [
      "\n"
     ]
    },
    {
     "data": {
      "image/png": "[encoded data removed]",
      "text/plain": [
       "<Figure size 432x288 with 1 Axes>"
      ]
     },
     "metadata": {
      "needs_background": "light",
      "tags": []
     },
     "output_type": "display_data"
    }
   ],
   "source": [
    "Epochs = 20\n",
    "criterion = Focal_Loss\n",
    "optimizer = optim.SGD(res18.parameters(), lr=0.001, momentum=0.7)\n",
    "filename = './gdrive/My Drive/weights/res18_focal_loss.pth'\n",
    "train_model(res18, Epochs,trainloader, validationloader, optimizer, criterion, filename)"
   ]
  },
  {
   "cell_type": "markdown",
   "metadata": {
    "colab_type": "text",
    "id": "osWxppgg9AO7"
   },
   "source": [
    "### Multilabel Confusion Matrix"
   ]
  },
  {
   "cell_type": "code",
   "execution_count": 45,
   "metadata": {
    "colab": {
     "base_uri": "https://localhost:8080/",
     "height": 1000
    },
    "colab_type": "code",
    "id": "-fdcIS3c9APE",
    "outputId": "de9a6366-141c-40f7-f2a7-16d5f5d2bb6f"
   },
   "outputs": [
    {
     "name": "stderr",
     "output_type": "stream",
     "text": [
      "Predicting Images: (100%): : 310it [01:43,  2.99it/s]\n"
     ]
    },
    {
     "data": {
      "image/png": "[encoded data removed]",
      "text/plain": [
       "<Figure size 432x288 with 1 Axes>"
      ]
     },
     "metadata": {
      "needs_background": "light",
      "tags": []
     },
     "output_type": "display_data"
    },
    {
     "data": {
      "image/png": "[encoded data removed]",
      "text/plain": [
       "<Figure size 432x288 with 1 Axes>"
      ]
     },
     "metadata": {
      "needs_background": "light",
      "tags": []
     },
     "output_type": "display_data"
    },
    {
     "data": {
      "image/png": "[encoded data removed]",
      "text/plain": [
       "<Figure size 432x288 with 1 Axes>"
      ]
     },
     "metadata": {
      "needs_background": "light",
      "tags": []
     },
     "output_type": "display_data"
    },
    {
     "name": "stderr",
     "output_type": "stream",
     "text": [
      "Predicting Images: (97%): : 32it [00:10,  2.92it/s]\n"
     ]
    },
    {
     "data": {
      "image/png": "[encoded data removed]",
      "text/plain": [
       "<Figure size 432x288 with 1 Axes>"
      ]
     },
     "metadata": {
      "needs_background": "light",
      "tags": []
     },
     "output_type": "display_data"
    },
    {
     "data": {
      "image/png": "[encoded data removed]",
      "text/plain": [
       "<Figure size 432x288 with 1 Axes>"
      ]
     },
     "metadata": {
      "needs_background": "light",
      "tags": []
     },
     "output_type": "display_data"
    },
    {
     "data": {
      "image/png": "[encoded data removed]",
      "text/plain": [
       "<Figure size 432x288 with 1 Axes>"
      ]
     },
     "metadata": {
      "needs_background": "light",
      "tags": []
     },
     "output_type": "display_data"
    }
   ],
   "source": [
    "# Loading Model\n",
    "res18.load_state_dict(torch.load('./gdrive/My Drive/Assignments/Deep Learning/Assignment 5/Part 2 Weights/res18_focal_loss.pth',map_location=device))\n",
    "\n",
    "yt,yp = predict_images(trainloader,res18)\n",
    "cm = multilabel_confusion_matrix(yt,yp)\n",
    "\n",
    "sns.heatmap(pd.DataFrame(cm[0],['N + P','Covid-19'],['N + P','Covid-19']), annot=True, fmt='g', cbar=False)\n",
    "plt.title('Confusion Matrix for Training Data')\n",
    "plt.xlabel('Predicted Labels')\n",
    "plt.ylabel('Actual Labels')\n",
    "plt.xlim(reversed(plt.xlim()))\n",
    "plt.show()\n",
    "\n",
    "sns.heatmap(pd.DataFrame(cm[1],['N + C','Pneumonia'],['N + C','Pneumonia']), annot=True, fmt='g', cbar=False)\n",
    "plt.title('Confusion Matrix for Training Data')\n",
    "plt.xlabel('Predicted Labels')\n",
    "plt.ylabel('Actual Labels')\n",
    "plt.xlim(reversed(plt.xlim()))\n",
    "plt.show()\n",
    "\n",
    "sns.heatmap(pd.DataFrame(cm[2],['P + C','Normal'],['P + C','Normal']), annot=True, fmt='g', cbar=False)\n",
    "plt.title('Confusion Matrix for Training Data')\n",
    "plt.xlabel('Predicted Labels')\n",
    "plt.ylabel('Actual Labels')\n",
    "plt.xlim(reversed(plt.xlim()))\n",
    "plt.show()\n",
    "\n",
    "yt,yp = predict_images(validationloader,res18)\n",
    "cm = multilabel_confusion_matrix(yt,yp)\n",
    "\n",
    "sns.heatmap(pd.DataFrame(cm[0],['N + P','Covid-19'],['N + P','Covid-19']), annot=True, fmt='g', cbar=False)\n",
    "plt.title('Confusion Matrix for Validation Data')\n",
    "plt.xlabel('Predicted Labels')\n",
    "plt.ylabel('Actual Labels')\n",
    "plt.xlim(reversed(plt.xlim()))\n",
    "plt.show()\n",
    "\n",
    "sns.heatmap(pd.DataFrame(cm[1],['N + C','Pneumonia'],['N + C','Pneumonia']), annot=True, fmt='g', cbar=False)\n",
    "plt.title('Confusion Matrix for Validation Data')\n",
    "plt.xlabel('Predicted Labels')\n",
    "plt.ylabel('Actual Labels')\n",
    "plt.xlim(reversed(plt.xlim()))\n",
    "plt.show()\n",
    "\n",
    "sns.heatmap(pd.DataFrame(cm[2],['P + C','Normal'],['P + C','Normal']), annot=True, fmt='g', cbar=False)\n",
    "plt.title('Confusion Matrix for Validation Data')\n",
    "plt.xlabel('Predicted Labels')\n",
    "plt.ylabel('Actual Labels')\n",
    "plt.xlim(reversed(plt.xlim()))\n",
    "plt.show()"
   ]
  },
  {
   "cell_type": "markdown",
   "metadata": {
    "colab_type": "text",
    "id": "K9NtwGNMbhMZ"
   },
   "source": [
    "#### Classifying Unlabeled Test Data"
   ]
  },
  {
   "cell_type": "code",
   "execution_count": 47,
   "metadata": {
    "colab": {
     "base_uri": "https://localhost:8080/",
     "height": 37
    },
    "colab_type": "code",
    "id": "_HtU2VhGbhMc",
    "outputId": "adf7a250-ed28-4679-94da-2c0e9e812cdc"
   },
   "outputs": [
    {
     "name": "stderr",
     "output_type": "stream",
     "text": [
      "Predicting Images: (97%): : 32it [00:10,  2.95it/s]\n"
     ]
    }
   ],
   "source": [
    "_,tp = predict_images(testloader,res18)\n",
    "df =  pd.DataFrame(onehot(tp,[0,1,2]).tolist()).astype(int)\n",
    "df.columns = ['Covid-19','Pneumonia','Normal']\n",
    "df.index = image_names"
   ]
  },
  {
   "cell_type": "code",
   "execution_count": 48,
   "metadata": {
    "colab": {
     "base_uri": "https://localhost:8080/",
     "height": 76
    },
    "colab_type": "code",
    "id": "noKvDmtQbhMq",
    "outputId": "d3abd6e6-8778-494c-c080-ee31e3f31049"
   },
   "outputs": [
    {
     "name": "stdout",
     "output_type": "stream",
     "text": [
      "Model has predicted  63  X-Ray images of covid-19 infected people.\n",
      "Model has predicted  218  X-Ray images of Pneumonia infected people including covid-19 as covid-19 is also a type of Pneumonia.\n",
      "Model has predicted  411  X-Ray images of normal people.\n"
     ]
    }
   ],
   "source": [
    "print('Model has predicted ',df[df['Covid-19']==1].count()[0],' X-Ray images of covid-19 infected people.')\n",
    "print('Model has predicted ',df[df['Pneumonia']==1].count()[0],' X-Ray images of Pneumonia infected people including covid-19 as covid-19 is also a type of Pneumonia.')\n",
    "print('Model has predicted ',df[df['Normal']==1].count()[0],' X-Ray images of normal people.')"
   ]
  },
  {
   "cell_type": "code",
   "execution_count": 49,
   "metadata": {
    "colab": {
     "base_uri": "https://localhost:8080/",
     "height": 364
    },
    "colab_type": "code",
    "id": "JBFNDlzgbhM2",
    "outputId": "9dfdd662-78c0-4097-ad48-cb7b5b03a39b"
   },
   "outputs": [
    {
     "data": {
      "text/html": [
       "<div>\n",
       "<style scoped>\n",
       "    .dataframe tbody tr th:only-of-type {\n",
       "        vertical-align: middle;\n",
       "    }\n",
       "\n",
       "    .dataframe tbody tr th {\n",
       "        vertical-align: top;\n",
       "    }\n",
       "\n",
       "    .dataframe thead th {\n",
       "        text-align: right;\n",
       "    }\n",
       "</style>\n",
       "<table border=\"1\" class=\"dataframe\">\n",
       "  <thead>\n",
       "    <tr style=\"text-align: right;\">\n",
       "      <th></th>\n",
       "      <th>Covid-19</th>\n",
       "      <th>Pneumonia</th>\n",
       "      <th>Normal</th>\n",
       "    </tr>\n",
       "  </thead>\n",
       "  <tbody>\n",
       "    <tr>\n",
       "      <th>0</th>\n",
       "      <td>0</td>\n",
       "      <td>0</td>\n",
       "      <td>1</td>\n",
       "    </tr>\n",
       "    <tr>\n",
       "      <th>1</th>\n",
       "      <td>0</td>\n",
       "      <td>0</td>\n",
       "      <td>1</td>\n",
       "    </tr>\n",
       "    <tr>\n",
       "      <th>10</th>\n",
       "      <td>0</td>\n",
       "      <td>0</td>\n",
       "      <td>1</td>\n",
       "    </tr>\n",
       "    <tr>\n",
       "      <th>100</th>\n",
       "      <td>0</td>\n",
       "      <td>0</td>\n",
       "      <td>1</td>\n",
       "    </tr>\n",
       "    <tr>\n",
       "      <th>101</th>\n",
       "      <td>0</td>\n",
       "      <td>0</td>\n",
       "      <td>1</td>\n",
       "    </tr>\n",
       "    <tr>\n",
       "      <th>102</th>\n",
       "      <td>0</td>\n",
       "      <td>0</td>\n",
       "      <td>1</td>\n",
       "    </tr>\n",
       "    <tr>\n",
       "      <th>103</th>\n",
       "      <td>0</td>\n",
       "      <td>0</td>\n",
       "      <td>1</td>\n",
       "    </tr>\n",
       "    <tr>\n",
       "      <th>104</th>\n",
       "      <td>0</td>\n",
       "      <td>0</td>\n",
       "      <td>1</td>\n",
       "    </tr>\n",
       "    <tr>\n",
       "      <th>105</th>\n",
       "      <td>1</td>\n",
       "      <td>1</td>\n",
       "      <td>0</td>\n",
       "    </tr>\n",
       "    <tr>\n",
       "      <th>106</th>\n",
       "      <td>0</td>\n",
       "      <td>0</td>\n",
       "      <td>1</td>\n",
       "    </tr>\n",
       "  </tbody>\n",
       "</table>\n",
       "</div>"
      ],
      "text/plain": [
       "     Covid-19  Pneumonia  Normal\n",
       "0           0          0       1\n",
       "1           0          0       1\n",
       "10          0          0       1\n",
       "100         0          0       1\n",
       "101         0          0       1\n",
       "102         0          0       1\n",
       "103         0          0       1\n",
       "104         0          0       1\n",
       "105         1          1       0\n",
       "106         0          0       1"
      ]
     },
     "execution_count": 49,
     "metadata": {
      "tags": []
     },
     "output_type": "execute_result"
    }
   ],
   "source": [
    "df.head(10)"
   ]
  },
  {
   "cell_type": "code",
   "execution_count": 0,
   "metadata": {
    "colab": {},
    "colab_type": "code",
    "id": "BWZtyEfPbhM-"
   },
   "outputs": [],
   "source": [
    "df.to_csv('./gdrive/My Drive/weights/res18_focal_loss.csv',header=False)"
   ]
  },
  {
   "cell_type": "code",
   "execution_count": 0,
   "metadata": {
    "colab": {},
    "colab_type": "code",
    "id": "Q6ouD1anRiRJ"
   },
   "outputs": [],
   "source": [
    "# # To calculate Mean and Standard Deviation to normalize images \n",
    "# mean = []\n",
    "# std = []\n",
    "# for images, labels in trainloader:\n",
    "#     numpy_images = images.numpy()\n",
    "#     mean.append(np.mean(numpy_images, axis=(0, 2, 3)))\n",
    "#     std.append(np.std(numpy_images, axis=(0, 2, 3)))    \n",
    "# print(np.mean(np.array(mean),axis=0))\n",
    "# print(np.mean(np.array(std),axis=0))"
   ]
  }
 ],
 "metadata": {
  "accelerator": "GPU",
  "colab": {
   "collapsed_sections": [],
   "name": "MSDS19087_05_part2.ipynb",
   "provenance": []
  },
  "kernelspec": {
   "display_name": "Python 3",
   "language": "python",
   "name": "python3"
  },
  "language_info": {
   "codemirror_mode": {
    "name": "ipython",
    "version": 3
   },
   "file_extension": ".py",
   "mimetype": "text/x-python",
   "name": "python",
   "nbconvert_exporter": "python",
   "pygments_lexer": "ipython3",
   "version": "3.7.3"
  },
  "widgets": {
   "application/vnd.jupyter.widget-state+json": {
    "04b9b8254cf54ba9b755ad02ff50f3f8": {
     "model_module": "@jupyter-widgets/base",
     "model_name": "LayoutModel",
     "state": {
      "_model_module": "@jupyter-widgets/base",
      "_model_module_version": "1.2.0",
      "_model_name": "LayoutModel",
      "_view_count": null,
      "_view_module": "@jupyter-widgets/base",
      "_view_module_version": "1.2.0",
      "_view_name": "LayoutView",
      "align_content": null,
      "align_items": null,
      "align_self": null,
      "border": null,
      "bottom": null,
      "display": null,
      "flex": null,
      "flex_flow": null,
      "grid_area": null,
      "grid_auto_columns": null,
      "grid_auto_flow": null,
      "grid_auto_rows": null,
      "grid_column": null,
      "grid_gap": null,
      "grid_row": null,
      "grid_template_areas": null,
      "grid_template_columns": null,
      "grid_template_rows": null,
      "height": null,
      "justify_content": null,
      "justify_items": null,
      "left": null,
      "margin": null,
      "max_height": null,
      "max_width": null,
      "min_height": null,
      "min_width": null,
      "object_fit": null,
      "object_position": null,
      "order": null,
      "overflow": null,
      "overflow_x": null,
      "overflow_y": null,
      "padding": null,
      "right": null,
      "top": null,
      "visibility": null,
      "width": null
     }
    },
    "04da240712254add809c257e81d14eff": {
     "model_module": "@jupyter-widgets/controls",
     "model_name": "ProgressStyleModel",
     "state": {
      "_model_module": "@jupyter-widgets/controls",
      "_model_module_version": "1.5.0",
      "_model_name": "ProgressStyleModel",
      "_view_count": null,
      "_view_module": "@jupyter-widgets/base",
      "_view_module_version": "1.2.0",
      "_view_name": "StyleView",
      "bar_color": null,
      "description_width": "initial"
     }
    },
    "2090c155d9024a6eab16933a32774791": {
     "model_module": "@jupyter-widgets/controls",
     "model_name": "DescriptionStyleModel",
     "state": {
      "_model_module": "@jupyter-widgets/controls",
      "_model_module_version": "1.5.0",
      "_model_name": "DescriptionStyleModel",
      "_view_count": null,
      "_view_module": "@jupyter-widgets/base",
      "_view_module_version": "1.2.0",
      "_view_name": "StyleView",
      "description_width": ""
     }
    },
    "28d10d91ba95491281dc5525c58b6b92": {
     "model_module": "@jupyter-widgets/controls",
     "model_name": "IntProgressModel",
     "state": {
      "_dom_classes": [],
      "_model_module": "@jupyter-widgets/controls",
      "_model_module_version": "1.5.0",
      "_model_name": "IntProgressModel",
      "_view_count": null,
      "_view_module": "@jupyter-widgets/controls",
      "_view_module_version": "1.5.0",
      "_view_name": "ProgressView",
      "bar_style": "success",
      "description": "100%",
      "description_tooltip": null,
      "layout": "IPY_MODEL_6e741ee503744e3783bfdfaee4517d09",
      "max": 46827520,
      "min": 0,
      "orientation": "horizontal",
      "style": "IPY_MODEL_04da240712254add809c257e81d14eff",
      "value": 46827520
     }
    },
    "6e741ee503744e3783bfdfaee4517d09": {
     "model_module": "@jupyter-widgets/base",
     "model_name": "LayoutModel",
     "state": {
      "_model_module": "@jupyter-widgets/base",
      "_model_module_version": "1.2.0",
      "_model_name": "LayoutModel",
      "_view_count": null,
      "_view_module": "@jupyter-widgets/base",
      "_view_module_version": "1.2.0",
      "_view_name": "LayoutView",
      "align_content": null,
      "align_items": null,
      "align_self": null,
      "border": null,
      "bottom": null,
      "display": null,
      "flex": null,
      "flex_flow": null,
      "grid_area": null,
      "grid_auto_columns": null,
      "grid_auto_flow": null,
      "grid_auto_rows": null,
      "grid_column": null,
      "grid_gap": null,
      "grid_row": null,
      "grid_template_areas": null,
      "grid_template_columns": null,
      "grid_template_rows": null,
      "height": null,
      "justify_content": null,
      "justify_items": null,
      "left": null,
      "margin": null,
      "max_height": null,
      "max_width": null,
      "min_height": null,
      "min_width": null,
      "object_fit": null,
      "object_position": null,
      "order": null,
      "overflow": null,
      "overflow_x": null,
      "overflow_y": null,
      "padding": null,
      "right": null,
      "top": null,
      "visibility": null,
      "width": null
     }
    },
    "bbaf9f7afd514895bc386eb0f292e082": {
     "model_module": "@jupyter-widgets/controls",
     "model_name": "HBoxModel",
     "state": {
      "_dom_classes": [],
      "_model_module": "@jupyter-widgets/controls",
      "_model_module_version": "1.5.0",
      "_model_name": "HBoxModel",
      "_view_count": null,
      "_view_module": "@jupyter-widgets/controls",
      "_view_module_version": "1.5.0",
      "_view_name": "HBoxView",
      "box_style": "",
      "children": [
       "IPY_MODEL_28d10d91ba95491281dc5525c58b6b92",
       "IPY_MODEL_f9ea535fbacf4e1c86666bb5b8f52ffd"
      ],
      "layout": "IPY_MODEL_d2ffc7f111a6419ea80e2f839ccd1106"
     }
    },
    "d2ffc7f111a6419ea80e2f839ccd1106": {
     "model_module": "@jupyter-widgets/base",
     "model_name": "LayoutModel",
     "state": {
      "_model_module": "@jupyter-widgets/base",
      "_model_module_version": "1.2.0",
      "_model_name": "LayoutModel",
      "_view_count": null,
      "_view_module": "@jupyter-widgets/base",
      "_view_module_version": "1.2.0",
      "_view_name": "LayoutView",
      "align_content": null,
      "align_items": null,
      "align_self": null,
      "border": null,
      "bottom": null,
      "display": null,
      "flex": null,
      "flex_flow": null,
      "grid_area": null,
      "grid_auto_columns": null,
      "grid_auto_flow": null,
      "grid_auto_rows": null,
      "grid_column": null,
      "grid_gap": null,
      "grid_row": null,
      "grid_template_areas": null,
      "grid_template_columns": null,
      "grid_template_rows": null,
      "height": null,
      "justify_content": null,
      "justify_items": null,
      "left": null,
      "margin": null,
      "max_height": null,
      "max_width": null,
      "min_height": null,
      "min_width": null,
      "object_fit": null,
      "object_position": null,
      "order": null,
      "overflow": null,
      "overflow_x": null,
      "overflow_y": null,
      "padding": null,
      "right": null,
      "top": null,
      "visibility": null,
      "width": null
     }
    },
    "f9ea535fbacf4e1c86666bb5b8f52ffd": {
     "model_module": "@jupyter-widgets/controls",
     "model_name": "HTMLModel",
     "state": {
      "_dom_classes": [],
      "_model_module": "@jupyter-widgets/controls",
      "_model_module_version": "1.5.0",
      "_model_name": "HTMLModel",
      "_view_count": null,
      "_view_module": "@jupyter-widgets/controls",
      "_view_module_version": "1.5.0",
      "_view_name": "HTMLView",
      "description": "",
      "description_tooltip": null,
      "layout": "IPY_MODEL_04b9b8254cf54ba9b755ad02ff50f3f8",
      "placeholder": "​",
      "style": "IPY_MODEL_2090c155d9024a6eab16933a32774791",
      "value": " 44.7M/44.7M [01:37&lt;00:00, 479kB/s]"
     }
    }
   }
  }
 },
 "nbformat": 4,
 "nbformat_minor": 1
}
